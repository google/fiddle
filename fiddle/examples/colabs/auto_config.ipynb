{
  "cells": [
    {
      "cell_type": "markdown",
      "metadata": {
        "id": "arycElbn-gk7"
      },
      "source": [
        "# Auto-Config Tutorial\n",
        "\n",
        "This colab walks through how to use Fiddle's \"auto-config\" functionality, building off of the [introductory](fiddle_tutorial_with_flax.ipynb) colab.\n",
        "\n",
        "Auto-config allows existing \"glue code\" functions that perform object and function wire-up to be transformed into functions that capture the wire-up as a `fdl.Buildable`, often with no or very minimal changes to the existing code."
      ]
    },
    {
      "cell_type": "markdown",
      "metadata": {
        "id": "clAaVdLF-ndS"
      },
      "source": [
        "## Imports \u0026 model setup\n",
        "\n",
        "As in the intro, we first import Fiddle, and then JAX and Flax as normal, and then define our model and model-building functions as if we didn't need to worry about configuration."
      ]
    },
    {
      "cell_type": "code",
      "execution_count": null,
      "metadata": {
        "id": "33zel0HX-u0M"
      },
      "outputs": [],
      "source": [
        "import dataclasses\n",
        "import functools\n",
        "from typing import Callable, List, Optional, Sequence, Tuple, Type\n",
        "\n",
        "!pip install fiddle\n",
        "\n",
        "\n",
        "import fiddle as fdl\n",
        "from fiddle import graphviz\n",
        "from fiddle.experimental import auto_config\n",
        "import fiddle.extensions.jax\n",
        "\n",
        "fiddle.extensions.jax.enable()"
      ]
    },
    {
      "cell_type": "code",
      "execution_count": null,
      "metadata": {
        "id": "u33H6p-n-fce"
      },
      "outputs": [],
      "source": [
        "import jax\n",
        "import jax.numpy as jnp\n",
        "import flax.linen as nn"
      ]
    },
    {
      "cell_type": "code",
      "execution_count": null,
      "metadata": {
        "id": "7sxFxIlNLTM8"
      },
      "outputs": [],
      "source": [
        "class SimpleMLP(nn.Module):\n",
        "  dense1: nn.Dense\n",
        "  activation_fn: Callable[[jnp.array], jnp.array]\n",
        "  dense2: nn.Dense\n",
        "\n",
        "  def __call__(self, x):\n",
        "    x = self.dense1(x)\n",
        "    x = self.activation_fn(x)\n",
        "    x = self.dense2(x)\n",
        "    return x"
      ]
    },
    {
      "cell_type": "code",
      "execution_count": null,
      "metadata": {
        "executionInfo": {
          "elapsed": 57,
          "status": "ok",
          "timestamp": 1641863254932,
          "user": {
            "displayName": "",
            "photoUrl": "",
            "userId": ""
          },
          "user_tz": 480
        },
        "id": "4ySaBWipL4Jk",
        "outputId": "0c457b4e-4c54-4be4-f172-9091382acb79"
      },
      "outputs": [
        {
          "data": {
            "text/plain": [
              "SimpleMLP(\n",
              "    # attributes\n",
              "    dense1 = Dense(\n",
              "        # attributes\n",
              "        features = 10\n",
              "        use_bias = True\n",
              "        dtype = float32\n",
              "        precision = None\n",
              "        kernel_init = init\n",
              "        bias_init = zeros\n",
              "    )\n",
              "    activation_fn = sigmoid\n",
              "    dense2 = Dense(\n",
              "        # attributes\n",
              "        features = 1\n",
              "        use_bias = True\n",
              "        dtype = float32\n",
              "        precision = None\n",
              "        kernel_init = init\n",
              "        bias_init = zeros\n",
              "    )\n",
              ")"
            ]
          },
          "execution_count": 4,
          "metadata": {},
          "output_type": "execute_result"
        }
      ],
      "source": [
        "# Write our model-building \"glue code\" as normal.\n",
        "def make_model():\n",
        "  return SimpleMLP(\n",
        "      dense1=nn.Dense(features=10),\n",
        "      activation_fn=nn.sigmoid,\n",
        "      dense2=nn.Dense(features=1),\n",
        "  )\n",
        "\n",
        "\n",
        "model = make_model()\n",
        "model"
      ]
    },
    {
      "cell_type": "markdown",
      "metadata": {
        "id": "v5WzzFcEOpu3"
      },
      "source": [
        "## Basic `auto_config` usage\n",
        "\n",
        "In the introductory colab, we modified the `make_model()` function to add explicit calls to `fdl.Config` for each object we wanted to configure. Using auto-config, we don't need to change the code in `make_model()` at all! Instead, we can decorate the function with `auto_config` as follows:"
      ]
    },
    {
      "cell_type": "code",
      "execution_count": null,
      "metadata": {
        "id": "s_1UkCZq92eL"
      },
      "outputs": [],
      "source": [
        "@auto_config.auto_config\n",
        "def make_model():\n",
        "  return SimpleMLP(\n",
        "      dense1=nn.Dense(features=10),\n",
        "      activation_fn=nn.sigmoid,\n",
        "      dense2=nn.Dense(features=1),\n",
        "  )"
      ]
    },
    {
      "cell_type": "markdown",
      "metadata": {
        "id": "_YW8r6Uf7Fi8"
      },
      "source": [
        "The `auto_config` decorator adds an `as_buildable` attribute to the `make_model` function. This attribute is a function based on `make_model`, but with all calls to functions or classes are replaced by `fdl.Config` instances with the same arguments. Calling `make_model.as_buildable()` returns a `fdl.Buildable` instance that can be further mutated or built with `fdl.build`:"
      ]
    },
    {
      "cell_type": "code",
      "execution_count": null,
      "metadata": {
        "colab": {
          "height": 257
        },
        "executionInfo": {
          "elapsed": 15243,
          "status": "ok",
          "timestamp": 1641863270506,
          "user": {
            "displayName": "",
            "photoUrl": "",
            "userId": ""
          },
          "user_tz": 480
        },
        "id": "WX1dR8S_Ps15",
        "outputId": "2d78aa40-0de6-4761-d3d3-7ff088d8c5df"
      },
      "outputs": [
        {
          "data": {
            "image/svg+xml": "\u003c?xml version=\"1.0\" encoding=\"UTF-8\" standalone=\"no\"?\u003e\n\u003c!DOCTYPE svg PUBLIC \"-//W3C//DTD SVG 1.1//EN\"\n \"http://www.w3.org/Graphics/SVG/1.1/DTD/svg11.dtd\"\u003e\n\u003c!-- Generated by graphviz version 2.44.1 (20201121.0304)\n --\u003e\n\u003c!-- Pages: 1 --\u003e\n\u003csvg width=\"320pt\" height=\"177pt\"\n viewBox=\"0.00 0.00 320.00 177.00\" xmlns=\"http://www.w3.org/2000/svg\" xmlns:xlink=\"http://www.w3.org/1999/xlink\"\u003e\n\u003cg id=\"graph0\" class=\"graph\" transform=\"scale(1 1) rotate(0) translate(4 173)\"\u003e\n\u003cpolygon fill=\"white\" stroke=\"transparent\" points=\"-4,4 -4,-173 316,-173 316,4 -4,4\"/\u003e\n\u003c!-- 1 --\u003e\n\u003cg id=\"node1\" class=\"node\"\u003e\n\u003ctitle\u003e1\u003c/title\u003e\n\u003cpolygon fill=\"#90ee90\" stroke=\"transparent\" points=\"109,-28.5 109,-47.5 187,-47.5 187,-28.5 109,-28.5\"/\u003e\n\u003cpolygon fill=\"none\" stroke=\"black\" points=\"109,-28.5 109,-47.5 187,-47.5 187,-28.5 109,-28.5\"/\u003e\n\u003ctext text-anchor=\"start\" x=\"113.5\" y=\"-36.5\" font-family=\"Courier,monospace\" font-size=\"8.00\"\u003eConfig:\u003c/text\u003e\n\u003ctext text-anchor=\"start\" x=\"145.5\" y=\"-36.5\" font-family=\"Courier,monospace\" font-size=\"10.00\"\u003e Dense\u003c/text\u003e\n\u003cpolygon fill=\"#eeeeee\" stroke=\"transparent\" points=\"109,-9.5 109,-28.5 166,-28.5 166,-9.5 109,-9.5\"/\u003e\n\u003cpolygon fill=\"none\" stroke=\"black\" points=\"109,-9.5 109,-28.5 166,-28.5 166,-9.5 109,-9.5\"/\u003e\n\u003ctext text-anchor=\"start\" x=\"113\" y=\"-16.5\" font-family=\"Courier,monospace\" font-size=\"10.00\"\u003efeatures\u003c/text\u003e\n\u003cpolygon fill=\"none\" stroke=\"black\" points=\"166,-9.5 166,-28.5 187,-28.5 187,-9.5 166,-9.5\"/\u003e\n\u003ctext text-anchor=\"start\" x=\"170\" y=\"-16.5\" font-family=\"Courier,monospace\" font-size=\"10.00\"\u003e10\u003c/text\u003e\n\u003c/g\u003e\n\u003c!-- 0 --\u003e\n\u003cg id=\"node2\" class=\"node\"\u003e\n\u003ctitle\u003e0\u003c/title\u003e\n\u003cpolygon fill=\"#ffc0cb\" stroke=\"transparent\" points=\"0,-150 0,-169 312,-169 312,-150 0,-150\"/\u003e\n\u003cpolygon fill=\"none\" stroke=\"black\" points=\"0,-150 0,-169 312,-169 312,-150 0,-150\"/\u003e\n\u003ctext text-anchor=\"start\" x=\"109.5\" y=\"-158\" font-family=\"Courier,monospace\" font-size=\"8.00\"\u003eConfig:\u003c/text\u003e\n\u003ctext text-anchor=\"start\" x=\"141.5\" y=\"-158\" font-family=\"Courier,monospace\" font-size=\"10.00\"\u003e SimpleMLP\u003c/text\u003e\n\u003cpolygon fill=\"#eeeeee\" stroke=\"transparent\" points=\"0,-131 0,-150 87,-150 87,-131 0,-131\"/\u003e\n\u003cpolygon fill=\"none\" stroke=\"black\" points=\"0,-131 0,-150 87,-150 87,-131 0,-131\"/\u003e\n\u003ctext text-anchor=\"start\" x=\"46\" y=\"-138\" font-family=\"Courier,monospace\" font-size=\"10.00\"\u003edense1\u003c/text\u003e\n\u003cpolygon fill=\"none\" stroke=\"black\" points=\"87,-131 87,-150 312,-150 312,-131 87,-131\"/\u003e\n\u003cpolygon fill=\"#90ee90\" stroke=\"transparent\" points=\"91,-135 91,-146 308,-146 308,-135 91,-135\"/\u003e\n\u003cpolygon fill=\"none\" stroke=\"black\" points=\"91,-135 91,-146 308,-146 308,-135 91,-135\"/\u003e\n\u003cpolygon fill=\"#eeeeee\" stroke=\"transparent\" points=\"0,-112 0,-131 87,-131 87,-112 0,-112\"/\u003e\n\u003cpolygon fill=\"none\" stroke=\"black\" points=\"0,-112 0,-131 87,-131 87,-112 0,-112\"/\u003e\n\u003ctext text-anchor=\"start\" x=\"4\" y=\"-119\" font-family=\"Courier,monospace\" font-size=\"10.00\"\u003eactivation_fn\u003c/text\u003e\n\u003cpolygon fill=\"none\" stroke=\"black\" points=\"87,-112 87,-131 312,-131 312,-112 87,-112\"/\u003e\n\u003ctext text-anchor=\"start\" x=\"91\" y=\"-119\" font-family=\"Courier,monospace\" font-size=\"10.00\"\u003e\u0026lt;function sigmoid at 0x7f01361517a0\u0026gt;\u003c/text\u003e\n\u003cpolygon fill=\"#eeeeee\" stroke=\"transparent\" points=\"0,-93 0,-112 87,-112 87,-93 0,-93\"/\u003e\n\u003cpolygon fill=\"none\" stroke=\"black\" points=\"0,-93 0,-112 87,-112 87,-93 0,-93\"/\u003e\n\u003ctext text-anchor=\"start\" x=\"46\" y=\"-100\" font-family=\"Courier,monospace\" font-size=\"10.00\"\u003edense2\u003c/text\u003e\n\u003cpolygon fill=\"none\" stroke=\"black\" points=\"87,-93 87,-112 312,-112 312,-93 87,-93\"/\u003e\n\u003cpolygon fill=\"#fff8dc\" stroke=\"transparent\" points=\"91,-97 91,-108 308,-108 308,-97 91,-97\"/\u003e\n\u003cpolygon fill=\"none\" stroke=\"black\" points=\"91,-97 91,-108 308,-108 308,-97 91,-97\"/\u003e\n\u003c/g\u003e\n\u003c!-- 0\u0026#45;\u0026#45;1 --\u003e\n\u003cg id=\"edge1\" class=\"edge\"\u003e\n\u003ctitle\u003e0:c\u0026#45;\u0026#45;1:c\u003c/title\u003e\n\u003cpath fill=\"none\" stroke=\"#000000\" stroke-width=\"3\" stroke-opacity=\"0.188235\" d=\"M197.63,-134.96C190.48,-119.77 168.85,-73.8 156.63,-47.85\"/\u003e\n\u003c/g\u003e\n\u003c!-- 2 --\u003e\n\u003cg id=\"node3\" class=\"node\"\u003e\n\u003ctitle\u003e2\u003c/title\u003e\n\u003cpolygon fill=\"#fff8dc\" stroke=\"transparent\" points=\"205,-37.5 205,-56.5 301,-56.5 301,-37.5 205,-37.5\"/\u003e\n\u003cpolygon fill=\"none\" stroke=\"black\" points=\"205,-37.5 205,-56.5 301,-56.5 301,-37.5 205,-37.5\"/\u003e\n\u003ctext text-anchor=\"start\" x=\"218.5\" y=\"-45.5\" font-family=\"Courier,monospace\" font-size=\"8.00\"\u003eConfig:\u003c/text\u003e\n\u003ctext text-anchor=\"start\" x=\"250.5\" y=\"-45.5\" font-family=\"Courier,monospace\" font-size=\"10.00\"\u003e Dense\u003c/text\u003e\n\u003cpolygon fill=\"#eeeeee\" stroke=\"transparent\" points=\"205,-18.5 205,-37.5 262,-37.5 262,-18.5 205,-18.5\"/\u003e\n\u003cpolygon fill=\"none\" stroke=\"black\" points=\"205,-18.5 205,-37.5 262,-37.5 262,-18.5 205,-18.5\"/\u003e\n\u003ctext text-anchor=\"start\" x=\"209\" y=\"-25.5\" font-family=\"Courier,monospace\" font-size=\"10.00\"\u003efeatures\u003c/text\u003e\n\u003cpolygon fill=\"none\" stroke=\"black\" points=\"262,-18.5 262,-37.5 301,-37.5 301,-18.5 262,-18.5\"/\u003e\n\u003ctext text-anchor=\"start\" x=\"266\" y=\"-25.5\" font-family=\"Courier,monospace\" font-size=\"10.00\"\u003e1\u003c/text\u003e\n\u003cpolygon fill=\"#eeeeee\" stroke=\"transparent\" points=\"205,0.5 205,-18.5 262,-18.5 262,0.5 205,0.5\"/\u003e\n\u003cpolygon fill=\"none\" stroke=\"black\" points=\"205,0.5 205,-18.5 262,-18.5 262,0.5 205,0.5\"/\u003e\n\u003ctext text-anchor=\"start\" x=\"209\" y=\"-6.5\" font-family=\"Courier,monospace\" font-size=\"10.00\"\u003euse_bias\u003c/text\u003e\n\u003cpolygon fill=\"none\" stroke=\"black\" points=\"262,0.5 262,-18.5 301,-18.5 301,0.5 262,0.5\"/\u003e\n\u003ctext text-anchor=\"start\" x=\"266\" y=\"-6.5\" font-family=\"Courier,monospace\" font-size=\"10.00\"\u003eFalse\u003c/text\u003e\n\u003c/g\u003e\n\u003c!-- 0\u0026#45;\u0026#45;2 --\u003e\n\u003cg id=\"edge2\" class=\"edge\"\u003e\n\u003ctitle\u003e0:c\u0026#45;\u0026#45;2:c\u003c/title\u003e\n\u003cpath fill=\"none\" stroke=\"#000000\" stroke-width=\"3\" stroke-opacity=\"0.188235\" d=\"M203.16,-96.74C208.86,-89.05 221.32,-72.23 232.36,-57.35\"/\u003e\n\u003c/g\u003e\n\u003c/g\u003e\n\u003c/svg\u003e\n",
            "text/plain": [
              "\u003cgraphviz.dot.Graph at 0x7f01221c4a90\u003e"
            ]
          },
          "execution_count": 6,
          "metadata": {},
          "output_type": "execute_result"
        }
      ],
      "source": [
        "cfg = make_model.as_buildable()\n",
        "cfg.dense2.use_bias = False\n",
        "graphviz.render(cfg)"
      ]
    },
    {
      "cell_type": "markdown",
      "metadata": {
        "id": "alA2V9MHoK7F"
      },
      "source": [
        "\u003e Note: For additional documentation on the visualization used in this colab, see the [visualization, printing, and codegen colab](visualization_printing_codegen.ipynb)."
      ]
    },
    {
      "cell_type": "code",
      "execution_count": null,
      "metadata": {
        "executionInfo": {
          "elapsed": 3,
          "status": "ok",
          "timestamp": 1641863270720,
          "user": {
            "displayName": "",
            "photoUrl": "",
            "userId": ""
          },
          "user_tz": 480
        },
        "id": "hz2yz5RgWJrt",
        "outputId": "cbea05dd-ffec-423c-e0bb-bc01a279bfd3"
      },
      "outputs": [
        {
          "data": {
            "text/plain": [
              "SimpleMLP(\n",
              "    # attributes\n",
              "    dense1 = Dense(\n",
              "        # attributes\n",
              "        features = 10\n",
              "        use_bias = True\n",
              "        dtype = float32\n",
              "        precision = None\n",
              "        kernel_init = init\n",
              "        bias_init = zeros\n",
              "    )\n",
              "    activation_fn = sigmoid\n",
              "    dense2 = Dense(\n",
              "        # attributes\n",
              "        features = 1\n",
              "        use_bias = False\n",
              "        dtype = float32\n",
              "        precision = None\n",
              "        kernel_init = init\n",
              "        bias_init = zeros\n",
              "    )\n",
              ")"
            ]
          },
          "execution_count": 7,
          "metadata": {},
          "output_type": "execute_result"
        }
      ],
      "source": [
        "model = fdl.build(cfg)\n",
        "model"
      ]
    },
    {
      "cell_type": "markdown",
      "metadata": {
        "id": "fj5Cdt1uPyC_"
      },
      "source": [
        "Note that because the \"auto-configured\" version of the function is only added to `make_model` via the `as_buildable` attribute, direct calls to `make_model` are unaffected:"
      ]
    },
    {
      "cell_type": "code",
      "execution_count": null,
      "metadata": {
        "executionInfo": {
          "elapsed": 6,
          "status": "ok",
          "timestamp": 1641863270895,
          "user": {
            "displayName": "",
            "photoUrl": "",
            "userId": ""
          },
          "user_tz": 480
        },
        "id": "LRD06JnKCt9I",
        "outputId": "797f9a19-26c2-4f54-c5e9-dd50c7c1d424"
      },
      "outputs": [
        {
          "data": {
            "text/plain": [
              "SimpleMLP(\n",
              "    # attributes\n",
              "    dense1 = Dense(\n",
              "        # attributes\n",
              "        features = 10\n",
              "        use_bias = True\n",
              "        dtype = float32\n",
              "        precision = None\n",
              "        kernel_init = init\n",
              "        bias_init = zeros\n",
              "    )\n",
              "    activation_fn = sigmoid\n",
              "    dense2 = Dense(\n",
              "        # attributes\n",
              "        features = 1\n",
              "        use_bias = True\n",
              "        dtype = float32\n",
              "        precision = None\n",
              "        kernel_init = init\n",
              "        bias_init = zeros\n",
              "    )\n",
              ")"
            ]
          },
          "execution_count": 8,
          "metadata": {},
          "output_type": "execute_result"
        }
      ],
      "source": [
        "make_model()"
      ]
    },
    {
      "cell_type": "markdown",
      "metadata": {
        "id": "aQLDjD3S2caS"
      },
      "source": [
        "### As a standalone function\n",
        "\n",
        "In addition to using `auto_config` as a decorator, it can also be called directly:"
      ]
    },
    {
      "cell_type": "code",
      "execution_count": null,
      "metadata": {
        "colab": {
          "height": 232
        },
        "executionInfo": {
          "elapsed": 57,
          "status": "ok",
          "timestamp": 1641863271123,
          "user": {
            "displayName": "",
            "photoUrl": "",
            "userId": ""
          },
          "user_tz": 480
        },
        "id": "CD0iva6FPYhb",
        "outputId": "e205ab83-915d-4186-96bc-e87d2d3252cb"
      },
      "outputs": [
        {
          "data": {
            "image/svg+xml": "\u003c?xml version=\"1.0\" encoding=\"UTF-8\" standalone=\"no\"?\u003e\n\u003c!DOCTYPE svg PUBLIC \"-//W3C//DTD SVG 1.1//EN\"\n \"http://www.w3.org/Graphics/SVG/1.1/DTD/svg11.dtd\"\u003e\n\u003c!-- Generated by graphviz version 2.44.1 (20201121.0304)\n --\u003e\n\u003c!-- Pages: 1 --\u003e\n\u003csvg width=\"320pt\" height=\"158pt\"\n viewBox=\"0.00 0.00 320.00 158.00\" xmlns=\"http://www.w3.org/2000/svg\" xmlns:xlink=\"http://www.w3.org/1999/xlink\"\u003e\n\u003cg id=\"graph0\" class=\"graph\" transform=\"scale(1 1) rotate(0) translate(4 154)\"\u003e\n\u003cpolygon fill=\"white\" stroke=\"transparent\" points=\"-4,4 -4,-154 316,-154 316,4 -4,4\"/\u003e\n\u003c!-- 1 --\u003e\n\u003cg id=\"node1\" class=\"node\"\u003e\n\u003ctitle\u003e1\u003c/title\u003e\n\u003cpolygon fill=\"#90ee90\" stroke=\"transparent\" points=\"113,-19 113,-38 191,-38 191,-19 113,-19\"/\u003e\n\u003cpolygon fill=\"none\" stroke=\"black\" points=\"113,-19 113,-38 191,-38 191,-19 113,-19\"/\u003e\n\u003ctext text-anchor=\"start\" x=\"117.5\" y=\"-27\" font-family=\"Courier,monospace\" font-size=\"8.00\"\u003eConfig:\u003c/text\u003e\n\u003ctext text-anchor=\"start\" x=\"149.5\" y=\"-27\" font-family=\"Courier,monospace\" font-size=\"10.00\"\u003e Dense\u003c/text\u003e\n\u003cpolygon fill=\"#eeeeee\" stroke=\"transparent\" points=\"113,0 113,-19 170,-19 170,0 113,0\"/\u003e\n\u003cpolygon fill=\"none\" stroke=\"black\" points=\"113,0 113,-19 170,-19 170,0 113,0\"/\u003e\n\u003ctext text-anchor=\"start\" x=\"117\" y=\"-7\" font-family=\"Courier,monospace\" font-size=\"10.00\"\u003efeatures\u003c/text\u003e\n\u003cpolygon fill=\"none\" stroke=\"black\" points=\"170,0 170,-19 191,-19 191,0 170,0\"/\u003e\n\u003ctext text-anchor=\"start\" x=\"174\" y=\"-7\" font-family=\"Courier,monospace\" font-size=\"10.00\"\u003e10\u003c/text\u003e\n\u003c/g\u003e\n\u003c!-- 0 --\u003e\n\u003cg id=\"node2\" class=\"node\"\u003e\n\u003ctitle\u003e0\u003c/title\u003e\n\u003cpolygon fill=\"#ffc0cb\" stroke=\"transparent\" points=\"0,-131 0,-150 312,-150 312,-131 0,-131\"/\u003e\n\u003cpolygon fill=\"none\" stroke=\"black\" points=\"0,-131 0,-150 312,-150 312,-131 0,-131\"/\u003e\n\u003ctext text-anchor=\"start\" x=\"109.5\" y=\"-139\" font-family=\"Courier,monospace\" font-size=\"8.00\"\u003eConfig:\u003c/text\u003e\n\u003ctext text-anchor=\"start\" x=\"141.5\" y=\"-139\" font-family=\"Courier,monospace\" font-size=\"10.00\"\u003e SimpleMLP\u003c/text\u003e\n\u003cpolygon fill=\"#eeeeee\" stroke=\"transparent\" points=\"0,-112 0,-131 87,-131 87,-112 0,-112\"/\u003e\n\u003cpolygon fill=\"none\" stroke=\"black\" points=\"0,-112 0,-131 87,-131 87,-112 0,-112\"/\u003e\n\u003ctext text-anchor=\"start\" x=\"46\" y=\"-119\" font-family=\"Courier,monospace\" font-size=\"10.00\"\u003edense1\u003c/text\u003e\n\u003cpolygon fill=\"none\" stroke=\"black\" points=\"87,-112 87,-131 312,-131 312,-112 87,-112\"/\u003e\n\u003cpolygon fill=\"#90ee90\" stroke=\"transparent\" points=\"91,-116 91,-127 308,-127 308,-116 91,-116\"/\u003e\n\u003cpolygon fill=\"none\" stroke=\"black\" points=\"91,-116 91,-127 308,-127 308,-116 91,-116\"/\u003e\n\u003cpolygon fill=\"#eeeeee\" stroke=\"transparent\" points=\"0,-93 0,-112 87,-112 87,-93 0,-93\"/\u003e\n\u003cpolygon fill=\"none\" stroke=\"black\" points=\"0,-93 0,-112 87,-112 87,-93 0,-93\"/\u003e\n\u003ctext text-anchor=\"start\" x=\"4\" y=\"-100\" font-family=\"Courier,monospace\" font-size=\"10.00\"\u003eactivation_fn\u003c/text\u003e\n\u003cpolygon fill=\"none\" stroke=\"black\" points=\"87,-93 87,-112 312,-112 312,-93 87,-93\"/\u003e\n\u003ctext text-anchor=\"start\" x=\"91\" y=\"-100\" font-family=\"Courier,monospace\" font-size=\"10.00\"\u003e\u0026lt;function sigmoid at 0x7f01361517a0\u0026gt;\u003c/text\u003e\n\u003cpolygon fill=\"#eeeeee\" stroke=\"transparent\" points=\"0,-74 0,-93 87,-93 87,-74 0,-74\"/\u003e\n\u003cpolygon fill=\"none\" stroke=\"black\" points=\"0,-74 0,-93 87,-93 87,-74 0,-74\"/\u003e\n\u003ctext text-anchor=\"start\" x=\"46\" y=\"-81\" font-family=\"Courier,monospace\" font-size=\"10.00\"\u003edense2\u003c/text\u003e\n\u003cpolygon fill=\"none\" stroke=\"black\" points=\"87,-74 87,-93 312,-93 312,-74 87,-74\"/\u003e\n\u003cpolygon fill=\"#fff8dc\" stroke=\"transparent\" points=\"91,-78 91,-89 308,-89 308,-78 91,-78\"/\u003e\n\u003cpolygon fill=\"none\" stroke=\"black\" points=\"91,-78 91,-89 308,-89 308,-78 91,-78\"/\u003e\n\u003c/g\u003e\n\u003c!-- 0\u0026#45;\u0026#45;1 --\u003e\n\u003cg id=\"edge1\" class=\"edge\"\u003e\n\u003ctitle\u003e0:c\u0026#45;\u0026#45;1:c\u003c/title\u003e\n\u003cpath fill=\"none\" stroke=\"#000000\" stroke-width=\"3\" stroke-opacity=\"0.188235\" d=\"M197.55,-115.85C190.83,-101.7 171.82,-61.7 160.6,-38.09\"/\u003e\n\u003c/g\u003e\n\u003c!-- 2 --\u003e\n\u003cg id=\"node3\" class=\"node\"\u003e\n\u003ctitle\u003e2\u003c/title\u003e\n\u003cpolygon fill=\"#fff8dc\" stroke=\"transparent\" points=\"210,-19 210,-38 287,-38 287,-19 210,-19\"/\u003e\n\u003cpolygon fill=\"none\" stroke=\"black\" points=\"210,-19 210,-38 287,-38 287,-19 210,-19\"/\u003e\n\u003ctext text-anchor=\"start\" x=\"214\" y=\"-27\" font-family=\"Courier,monospace\" font-size=\"8.00\"\u003eConfig:\u003c/text\u003e\n\u003ctext text-anchor=\"start\" x=\"246\" y=\"-27\" font-family=\"Courier,monospace\" font-size=\"10.00\"\u003e Dense\u003c/text\u003e\n\u003cpolygon fill=\"#eeeeee\" stroke=\"transparent\" points=\"210,0 210,-19 269,-19 269,0 210,0\"/\u003e\n\u003cpolygon fill=\"none\" stroke=\"black\" points=\"210,0 210,-19 269,-19 269,0 210,0\"/\u003e\n\u003ctext text-anchor=\"start\" x=\"216\" y=\"-7\" font-family=\"Courier,monospace\" font-size=\"10.00\"\u003efeatures\u003c/text\u003e\n\u003cpolygon fill=\"none\" stroke=\"black\" points=\"269,0 269,-19 287,-19 287,0 269,0\"/\u003e\n\u003ctext text-anchor=\"start\" x=\"273\" y=\"-7\" font-family=\"Courier,monospace\" font-size=\"10.00\"\u003e1\u003c/text\u003e\n\u003c/g\u003e\n\u003c!-- 0\u0026#45;\u0026#45;2 --\u003e\n\u003cg id=\"edge2\" class=\"edge\"\u003e\n\u003ctitle\u003e0:c\u0026#45;\u0026#45;2:c\u003c/title\u003e\n\u003cpath fill=\"none\" stroke=\"#000000\" stroke-width=\"3\" stroke-opacity=\"0.188235\" d=\"M203.15,-77.93C209.28,-70.01 223.16,-52.09 233.87,-38.26\"/\u003e\n\u003c/g\u003e\n\u003c/g\u003e\n\u003c/svg\u003e\n",
            "text/plain": [
              "\u003cgraphviz.dot.Graph at 0x7f0122742e10\u003e"
            ]
          },
          "execution_count": 9,
          "metadata": {},
          "output_type": "execute_result"
        }
      ],
      "source": [
        "def make_model():\n",
        "  return SimpleMLP(\n",
        "      dense1=nn.Dense(features=10),\n",
        "      activation_fn=nn.sigmoid,\n",
        "      dense2=nn.Dense(features=1),\n",
        "  )\n",
        "\n",
        "\n",
        "cfg = auto_config.auto_config(make_model).as_buildable()\n",
        "graphviz.render(cfg)"
      ]
    },
    {
      "cell_type": "markdown",
      "metadata": {
        "id": "7G6RcJZkVRNc"
      },
      "source": [
        "### Functions with arguments\n",
        "\n",
        "If a function annotated with `auto_config` takes arguments, the `as_buildable` function will have the same signature:"
      ]
    },
    {
      "cell_type": "code",
      "execution_count": null,
      "metadata": {
        "colab": {
          "height": 257
        },
        "executionInfo": {
          "elapsed": 57,
          "status": "ok",
          "timestamp": 1641863271412,
          "user": {
            "displayName": "",
            "photoUrl": "",
            "userId": ""
          },
          "user_tz": 480
        },
        "id": "Nq9J_hRJVj_w",
        "outputId": "292df047-5107-4f86-ce31-0b43c3eafe47"
      },
      "outputs": [
        {
          "data": {
            "image/svg+xml": "\u003c?xml version=\"1.0\" encoding=\"UTF-8\" standalone=\"no\"?\u003e\n\u003c!DOCTYPE svg PUBLIC \"-//W3C//DTD SVG 1.1//EN\"\n \"http://www.w3.org/Graphics/SVG/1.1/DTD/svg11.dtd\"\u003e\n\u003c!-- Generated by graphviz version 2.44.1 (20201121.0304)\n --\u003e\n\u003c!-- Pages: 1 --\u003e\n\u003csvg width=\"602pt\" height=\"177pt\"\n viewBox=\"0.00 0.00 602.00 177.00\" xmlns=\"http://www.w3.org/2000/svg\" xmlns:xlink=\"http://www.w3.org/1999/xlink\"\u003e\n\u003cg id=\"graph0\" class=\"graph\" transform=\"scale(1 1) rotate(0) translate(4 173)\"\u003e\n\u003cpolygon fill=\"white\" stroke=\"transparent\" points=\"-4,4 -4,-173 598,-173 598,4 -4,4\"/\u003e\n\u003c!-- 1 --\u003e\n\u003cg id=\"node1\" class=\"node\"\u003e\n\u003ctitle\u003e1\u003c/title\u003e\n\u003cpolygon fill=\"#90ee90\" stroke=\"transparent\" points=\"0,-37.5 0,-56.5 288,-56.5 288,-37.5 0,-37.5\"/\u003e\n\u003cpolygon fill=\"none\" stroke=\"black\" points=\"0,-37.5 0,-56.5 288,-56.5 288,-37.5 0,-37.5\"/\u003e\n\u003ctext text-anchor=\"start\" x=\"109.5\" y=\"-45.5\" font-family=\"Courier,monospace\" font-size=\"8.00\"\u003eConfig:\u003c/text\u003e\n\u003ctext text-anchor=\"start\" x=\"141.5\" y=\"-45.5\" font-family=\"Courier,monospace\" font-size=\"10.00\"\u003e Dense\u003c/text\u003e\n\u003cpolygon fill=\"#eeeeee\" stroke=\"transparent\" points=\"0,-18.5 0,-37.5 75,-37.5 75,-18.5 0,-18.5\"/\u003e\n\u003cpolygon fill=\"none\" stroke=\"black\" points=\"0,-18.5 0,-37.5 75,-37.5 75,-18.5 0,-18.5\"/\u003e\n\u003ctext text-anchor=\"start\" x=\"22\" y=\"-25.5\" font-family=\"Courier,monospace\" font-size=\"10.00\"\u003efeatures\u003c/text\u003e\n\u003cpolygon fill=\"none\" stroke=\"black\" points=\"75,-18.5 75,-37.5 288,-37.5 288,-18.5 75,-18.5\"/\u003e\n\u003ctext text-anchor=\"start\" x=\"79\" y=\"-25.5\" font-family=\"Courier,monospace\" font-size=\"10.00\"\u003e10\u003c/text\u003e\n\u003cpolygon fill=\"#eeeeee\" stroke=\"transparent\" points=\"0,0.5 0,-18.5 75,-18.5 75,0.5 0,0.5\"/\u003e\n\u003cpolygon fill=\"none\" stroke=\"black\" points=\"0,0.5 0,-18.5 75,-18.5 75,0.5 0,0.5\"/\u003e\n\u003ctext text-anchor=\"start\" x=\"4\" y=\"-6.5\" font-family=\"Courier,monospace\" font-size=\"10.00\"\u003ekernel_init\u003c/text\u003e\n\u003cpolygon fill=\"none\" stroke=\"black\" points=\"75,0.5 75,-18.5 288,-18.5 288,0.5 75,0.5\"/\u003e\n\u003ctext text-anchor=\"start\" x=\"79\" y=\"-6.5\" font-family=\"Courier,monospace\" font-size=\"10.00\"\u003e\u0026lt;function zeros at 0x7f013698def0\u0026gt;\u003c/text\u003e\n\u003c/g\u003e\n\u003c!-- 0 --\u003e\n\u003cg id=\"node2\" class=\"node\"\u003e\n\u003ctitle\u003e0\u003c/title\u003e\n\u003cpolygon fill=\"#ffc0cb\" stroke=\"transparent\" points=\"97,-150 97,-169 409,-169 409,-150 97,-150\"/\u003e\n\u003cpolygon fill=\"none\" stroke=\"black\" points=\"97,-150 97,-169 409,-169 409,-150 97,-150\"/\u003e\n\u003ctext text-anchor=\"start\" x=\"206.5\" y=\"-158\" font-family=\"Courier,monospace\" font-size=\"8.00\"\u003eConfig:\u003c/text\u003e\n\u003ctext text-anchor=\"start\" x=\"238.5\" y=\"-158\" font-family=\"Courier,monospace\" font-size=\"10.00\"\u003e SimpleMLP\u003c/text\u003e\n\u003cpolygon fill=\"#eeeeee\" stroke=\"transparent\" points=\"97,-131 97,-150 184,-150 184,-131 97,-131\"/\u003e\n\u003cpolygon fill=\"none\" stroke=\"black\" points=\"97,-131 97,-150 184,-150 184,-131 97,-131\"/\u003e\n\u003ctext text-anchor=\"start\" x=\"143\" y=\"-138\" font-family=\"Courier,monospace\" font-size=\"10.00\"\u003edense1\u003c/text\u003e\n\u003cpolygon fill=\"none\" stroke=\"black\" points=\"184,-131 184,-150 409,-150 409,-131 184,-131\"/\u003e\n\u003cpolygon fill=\"#90ee90\" stroke=\"transparent\" points=\"188,-135 188,-146 405,-146 405,-135 188,-135\"/\u003e\n\u003cpolygon fill=\"none\" stroke=\"black\" points=\"188,-135 188,-146 405,-146 405,-135 188,-135\"/\u003e\n\u003cpolygon fill=\"#eeeeee\" stroke=\"transparent\" points=\"97,-112 97,-131 184,-131 184,-112 97,-112\"/\u003e\n\u003cpolygon fill=\"none\" stroke=\"black\" points=\"97,-112 97,-131 184,-131 184,-112 97,-112\"/\u003e\n\u003ctext text-anchor=\"start\" x=\"101\" y=\"-119\" font-family=\"Courier,monospace\" font-size=\"10.00\"\u003eactivation_fn\u003c/text\u003e\n\u003cpolygon fill=\"none\" stroke=\"black\" points=\"184,-112 184,-131 409,-131 409,-112 184,-112\"/\u003e\n\u003ctext text-anchor=\"start\" x=\"188\" y=\"-119\" font-family=\"Courier,monospace\" font-size=\"10.00\"\u003e\u0026lt;function sigmoid at 0x7f01361517a0\u0026gt;\u003c/text\u003e\n\u003cpolygon fill=\"#eeeeee\" stroke=\"transparent\" points=\"97,-93 97,-112 184,-112 184,-93 97,-93\"/\u003e\n\u003cpolygon fill=\"none\" stroke=\"black\" points=\"97,-93 97,-112 184,-112 184,-93 97,-93\"/\u003e\n\u003ctext text-anchor=\"start\" x=\"143\" y=\"-100\" font-family=\"Courier,monospace\" font-size=\"10.00\"\u003edense2\u003c/text\u003e\n\u003cpolygon fill=\"none\" stroke=\"black\" points=\"184,-93 184,-112 409,-112 409,-93 184,-93\"/\u003e\n\u003cpolygon fill=\"#fff8dc\" stroke=\"transparent\" points=\"188,-97 188,-108 405,-108 405,-97 188,-97\"/\u003e\n\u003cpolygon fill=\"none\" stroke=\"black\" points=\"188,-97 188,-108 405,-108 405,-97 188,-97\"/\u003e\n\u003c/g\u003e\n\u003c!-- 0\u0026#45;\u0026#45;1 --\u003e\n\u003cg id=\"edge1\" class=\"edge\"\u003e\n\u003ctitle\u003e0:c\u0026#45;\u0026#45;1:c\u003c/title\u003e\n\u003cpath fill=\"none\" stroke=\"#000000\" stroke-width=\"3\" stroke-opacity=\"0.188235\" d=\"M290.03,-134.96C271.32,-121.45 218.96,-83.63 182.31,-57.17\"/\u003e\n\u003c/g\u003e\n\u003c!-- 2 --\u003e\n\u003cg id=\"node3\" class=\"node\"\u003e\n\u003ctitle\u003e2\u003c/title\u003e\n\u003cpolygon fill=\"#fff8dc\" stroke=\"transparent\" points=\"306,-37.5 306,-56.5 594,-56.5 594,-37.5 306,-37.5\"/\u003e\n\u003cpolygon fill=\"none\" stroke=\"black\" points=\"306,-37.5 306,-56.5 594,-56.5 594,-37.5 306,-37.5\"/\u003e\n\u003ctext text-anchor=\"start\" x=\"415.5\" y=\"-45.5\" font-family=\"Courier,monospace\" font-size=\"8.00\"\u003eConfig:\u003c/text\u003e\n\u003ctext text-anchor=\"start\" x=\"447.5\" y=\"-45.5\" font-family=\"Courier,monospace\" font-size=\"10.00\"\u003e Dense\u003c/text\u003e\n\u003cpolygon fill=\"#eeeeee\" stroke=\"transparent\" points=\"306,-18.5 306,-37.5 381,-37.5 381,-18.5 306,-18.5\"/\u003e\n\u003cpolygon fill=\"none\" stroke=\"black\" points=\"306,-18.5 306,-37.5 381,-37.5 381,-18.5 306,-18.5\"/\u003e\n\u003ctext text-anchor=\"start\" x=\"328\" y=\"-25.5\" font-family=\"Courier,monospace\" font-size=\"10.00\"\u003efeatures\u003c/text\u003e\n\u003cpolygon fill=\"none\" stroke=\"black\" points=\"381,-18.5 381,-37.5 594,-37.5 594,-18.5 381,-18.5\"/\u003e\n\u003ctext text-anchor=\"start\" x=\"385\" y=\"-25.5\" font-family=\"Courier,monospace\" font-size=\"10.00\"\u003e1\u003c/text\u003e\n\u003cpolygon fill=\"#eeeeee\" stroke=\"transparent\" points=\"306,0.5 306,-18.5 381,-18.5 381,0.5 306,0.5\"/\u003e\n\u003cpolygon fill=\"none\" stroke=\"black\" points=\"306,0.5 306,-18.5 381,-18.5 381,0.5 306,0.5\"/\u003e\n\u003ctext text-anchor=\"start\" x=\"310\" y=\"-6.5\" font-family=\"Courier,monospace\" font-size=\"10.00\"\u003ekernel_init\u003c/text\u003e\n\u003cpolygon fill=\"none\" stroke=\"black\" points=\"381,0.5 381,-18.5 594,-18.5 594,0.5 381,0.5\"/\u003e\n\u003ctext text-anchor=\"start\" x=\"385\" y=\"-6.5\" font-family=\"Courier,monospace\" font-size=\"10.00\"\u003e\u0026lt;function zeros at 0x7f013698def0\u0026gt;\u003c/text\u003e\n\u003c/g\u003e\n\u003c!-- 0\u0026#45;\u0026#45;2 --\u003e\n\u003cg id=\"edge2\" class=\"edge\"\u003e\n\u003ctitle\u003e0:c\u0026#45;\u0026#45;2:c\u003c/title\u003e\n\u003cpath fill=\"none\" stroke=\"#000000\" stroke-width=\"3\" stroke-opacity=\"0.188235\" d=\"M305.66,-96.95C322.04,-89.3 358.78,-72.13 391.09,-57.03\"/\u003e\n\u003c/g\u003e\n\u003c/g\u003e\n\u003c/svg\u003e\n",
            "text/plain": [
              "\u003cgraphviz.dot.Graph at 0x7f012286a810\u003e"
            ]
          },
          "execution_count": 10,
          "metadata": {},
          "output_type": "execute_result"
        }
      ],
      "source": [
        "@auto_config.auto_config\n",
        "def make_model(kernel_init=nn.initializers.lecun_normal()):\n",
        "  return SimpleMLP(\n",
        "      dense1=nn.Dense(features=10, kernel_init=kernel_init),\n",
        "      activation_fn=nn.sigmoid,\n",
        "      dense2=nn.Dense(features=1, kernel_init=kernel_init),\n",
        "  )\n",
        "\n",
        "\n",
        "cfg = make_model.as_buildable(kernel_init=nn.initializers.zeros)\n",
        "graphviz.render(cfg)"
      ]
    },
    {
      "cell_type": "markdown",
      "metadata": {
        "id": "3lGT33-dhigC"
      },
      "source": [
        "### Creating `fdl.Partial` objects\n",
        "\n",
        "When transforming a function, `auto_config` converts `functools.partial` calls into corresponding `fdl.Partial` instances. For example, we can make a model \"factory\" that uses a partially specified activation function as follows:"
      ]
    },
    {
      "cell_type": "code",
      "execution_count": null,
      "metadata": {
        "colab": {
          "height": 232
        },
        "executionInfo": {
          "elapsed": 57,
          "status": "ok",
          "timestamp": 1641863271696,
          "user": {
            "displayName": "",
            "photoUrl": "",
            "userId": ""
          },
          "user_tz": 480
        },
        "id": "xFwz18I0CCR0",
        "outputId": "8d7ebf51-da4c-4893-96e1-c847ac60cb9b"
      },
      "outputs": [
        {
          "data": {
            "image/svg+xml": "\u003c?xml version=\"1.0\" encoding=\"UTF-8\" standalone=\"no\"?\u003e\n\u003c!DOCTYPE svg PUBLIC \"-//W3C//DTD SVG 1.1//EN\"\n \"http://www.w3.org/Graphics/SVG/1.1/DTD/svg11.dtd\"\u003e\n\u003c!-- Generated by graphviz version 2.44.1 (20201121.0304)\n --\u003e\n\u003c!-- Pages: 1 --\u003e\n\u003csvg width=\"326pt\" height=\"158pt\"\n viewBox=\"0.00 0.00 325.50 158.00\" xmlns=\"http://www.w3.org/2000/svg\" xmlns:xlink=\"http://www.w3.org/1999/xlink\"\u003e\n\u003cg id=\"graph0\" class=\"graph\" transform=\"scale(1 1) rotate(0) translate(4 154)\"\u003e\n\u003cpolygon fill=\"white\" stroke=\"transparent\" points=\"-4,4 -4,-154 321.5,-154 321.5,4 -4,4\"/\u003e\n\u003c!-- 1 --\u003e\n\u003cg id=\"node1\" class=\"node\"\u003e\n\u003ctitle\u003e1\u003c/title\u003e\n\u003cpolygon fill=\"#90ee90\" stroke=\"transparent\" points=\"0,-19 0,-38 78,-38 78,-19 0,-19\"/\u003e\n\u003cpolygon fill=\"none\" stroke=\"black\" points=\"0,-19 0,-38 78,-38 78,-19 0,-19\"/\u003e\n\u003ctext text-anchor=\"start\" x=\"4.5\" y=\"-27\" font-family=\"Courier,monospace\" font-size=\"8.00\"\u003eConfig:\u003c/text\u003e\n\u003ctext text-anchor=\"start\" x=\"36.5\" y=\"-27\" font-family=\"Courier,monospace\" font-size=\"10.00\"\u003e Dense\u003c/text\u003e\n\u003cpolygon fill=\"#eeeeee\" stroke=\"transparent\" points=\"0,0 0,-19 57,-19 57,0 0,0\"/\u003e\n\u003cpolygon fill=\"none\" stroke=\"black\" points=\"0,0 0,-19 57,-19 57,0 0,0\"/\u003e\n\u003ctext text-anchor=\"start\" x=\"4\" y=\"-7\" font-family=\"Courier,monospace\" font-size=\"10.00\"\u003efeatures\u003c/text\u003e\n\u003cpolygon fill=\"none\" stroke=\"black\" points=\"57,0 57,-19 78,-19 78,0 57,0\"/\u003e\n\u003ctext text-anchor=\"start\" x=\"61\" y=\"-7\" font-family=\"Courier,monospace\" font-size=\"10.00\"\u003e10\u003c/text\u003e\n\u003c/g\u003e\n\u003c!-- 0 --\u003e\n\u003cg id=\"node2\" class=\"node\"\u003e\n\u003ctitle\u003e0\u003c/title\u003e\n\u003cpolygon fill=\"#ffc0cb\" stroke=\"transparent\" points=\"62,-131 62,-150 168,-150 168,-131 62,-131\"/\u003e\n\u003cpolygon fill=\"none\" stroke=\"black\" stroke-dasharray=\"5,2\" points=\"62,-131 62,-150 168,-150 168,-131 62,-131\"/\u003e\n\u003ctext text-anchor=\"start\" x=\"66\" y=\"-139\" font-family=\"Courier,monospace\" font-size=\"8.00\"\u003ePartial:\u003c/text\u003e\n\u003ctext text-anchor=\"start\" x=\"103\" y=\"-139\" font-family=\"Courier,monospace\" font-size=\"10.00\"\u003e SimpleMLP\u003c/text\u003e\n\u003cpolygon fill=\"#eeeeee\" stroke=\"transparent\" stroke-dasharray=\"5,2\" points=\"62,-112 62,-131 150,-131 150,-112 62,-112\"/\u003e\n\u003cpolygon fill=\"none\" stroke=\"black\" points=\"62,-112 62,-131 150,-131 150,-112 62,-112\"/\u003e\n\u003ctext text-anchor=\"start\" x=\"109\" y=\"-119\" font-family=\"Courier,monospace\" font-size=\"10.00\"\u003edense1\u003c/text\u003e\n\u003cpolygon fill=\"none\" stroke=\"black\" points=\"150,-112 150,-131 168,-131 168,-112 150,-112\"/\u003e\n\u003cpolygon fill=\"#90ee90\" stroke=\"transparent\" points=\"154,-116 154,-127 164,-127 164,-116 154,-116\"/\u003e\n\u003cpolygon fill=\"none\" stroke=\"black\" points=\"154,-116 154,-127 164,-127 164,-116 154,-116\"/\u003e\n\u003cpolygon fill=\"#eeeeee\" stroke=\"transparent\" points=\"62,-93 62,-112 150,-112 150,-93 62,-93\"/\u003e\n\u003cpolygon fill=\"none\" stroke=\"black\" points=\"62,-93 62,-112 150,-112 150,-93 62,-93\"/\u003e\n\u003ctext text-anchor=\"start\" x=\"67\" y=\"-100\" font-family=\"Courier,monospace\" font-size=\"10.00\"\u003eactivation_fn\u003c/text\u003e\n\u003cpolygon fill=\"none\" stroke=\"black\" points=\"150,-93 150,-112 168,-112 168,-93 150,-93\"/\u003e\n\u003cpolygon fill=\"#fff8dc\" stroke=\"transparent\" points=\"154,-97 154,-108 164,-108 164,-97 154,-97\"/\u003e\n\u003cpolygon fill=\"none\" stroke=\"black\" stroke-dasharray=\"5,2\" points=\"154,-97 154,-108 164,-108 164,-97 154,-97\"/\u003e\n\u003cpolygon fill=\"#eeeeee\" stroke=\"transparent\" stroke-dasharray=\"5,2\" points=\"62,-74 62,-93 150,-93 150,-74 62,-74\"/\u003e\n\u003cpolygon fill=\"none\" stroke=\"black\" points=\"62,-74 62,-93 150,-93 150,-74 62,-74\"/\u003e\n\u003ctext text-anchor=\"start\" x=\"109\" y=\"-81\" font-family=\"Courier,monospace\" font-size=\"10.00\"\u003edense2\u003c/text\u003e\n\u003cpolygon fill=\"none\" stroke=\"black\" points=\"150,-74 150,-93 168,-93 168,-74 150,-74\"/\u003e\n\u003cpolygon fill=\"#ffa07a\" stroke=\"transparent\" points=\"154,-78 154,-89 164,-89 164,-78 154,-78\"/\u003e\n\u003cpolygon fill=\"none\" stroke=\"black\" points=\"154,-78 154,-89 164,-89 164,-78 154,-78\"/\u003e\n\u003c/g\u003e\n\u003c!-- 0\u0026#45;\u0026#45;1 --\u003e\n\u003cg id=\"edge1\" class=\"edge\"\u003e\n\u003ctitle\u003e0:c\u0026#45;\u0026#45;1:c\u003c/title\u003e\n\u003cpath fill=\"none\" stroke=\"#000000\" stroke-width=\"3\" stroke-opacity=\"0.188235\" d=\"M153.84,-116.66C137.96,-103.29 89.14,-62.2 60.52,-38.12\"/\u003e\n\u003c/g\u003e\n\u003c!-- 2 --\u003e\n\u003cg id=\"node3\" class=\"node\"\u003e\n\u003ctitle\u003e2\u003c/title\u003e\n\u003cpolygon fill=\"#fff8dc\" stroke=\"transparent\" points=\"96,-19 96,-38 222,-38 222,-19 96,-19\"/\u003e\n\u003cpolygon fill=\"none\" stroke=\"black\" stroke-dasharray=\"5,2\" points=\"96,-19 96,-38 222,-38 222,-19 96,-19\"/\u003e\n\u003ctext text-anchor=\"start\" x=\"107\" y=\"-27\" font-family=\"Courier,monospace\" font-size=\"8.00\"\u003ePartial:\u003c/text\u003e\n\u003ctext text-anchor=\"start\" x=\"144\" y=\"-27\" font-family=\"Courier,monospace\" font-size=\"10.00\"\u003e leaky_relu\u003c/text\u003e\n\u003cpolygon fill=\"#eeeeee\" stroke=\"transparent\" stroke-dasharray=\"5,2\" points=\"96,0 96,-19 189,-19 189,0 96,0\"/\u003e\n\u003cpolygon fill=\"none\" stroke=\"black\" points=\"96,0 96,-19 189,-19 189,0 96,0\"/\u003e\n\u003ctext text-anchor=\"start\" x=\"100\" y=\"-7\" font-family=\"Courier,monospace\" font-size=\"10.00\"\u003enegative_slope\u003c/text\u003e\n\u003cpolygon fill=\"none\" stroke=\"black\" points=\"189,0 189,-19 222,-19 222,0 189,0\"/\u003e\n\u003ctext text-anchor=\"start\" x=\"193\" y=\"-7\" font-family=\"Courier,monospace\" font-size=\"10.00\"\u003e0.05\u003c/text\u003e\n\u003c/g\u003e\n\u003c!-- 0\u0026#45;\u0026#45;2 --\u003e\n\u003cg id=\"edge2\" class=\"edge\"\u003e\n\u003ctitle\u003e0:c\u0026#45;\u0026#45;2:c\u003c/title\u003e\n\u003cpath fill=\"none\" stroke=\"#000000\" stroke-width=\"3\" stroke-opacity=\"0.188235\" d=\"M159,-96.65C159,-85.8 159,-57.1 159,-38.06\"/\u003e\n\u003c/g\u003e\n\u003c!-- 3 --\u003e\n\u003cg id=\"node4\" class=\"node\"\u003e\n\u003ctitle\u003e3\u003c/title\u003e\n\u003cpolygon fill=\"#ffa07a\" stroke=\"transparent\" points=\"241,-19 241,-38 318,-38 318,-19 241,-19\"/\u003e\n\u003cpolygon fill=\"none\" stroke=\"black\" points=\"241,-19 241,-38 318,-38 318,-19 241,-19\"/\u003e\n\u003ctext text-anchor=\"start\" x=\"245\" y=\"-27\" font-family=\"Courier,monospace\" font-size=\"8.00\"\u003eConfig:\u003c/text\u003e\n\u003ctext text-anchor=\"start\" x=\"277\" y=\"-27\" font-family=\"Courier,monospace\" font-size=\"10.00\"\u003e Dense\u003c/text\u003e\n\u003cpolygon fill=\"#eeeeee\" stroke=\"transparent\" points=\"241,0 241,-19 300,-19 300,0 241,0\"/\u003e\n\u003cpolygon fill=\"none\" stroke=\"black\" points=\"241,0 241,-19 300,-19 300,0 241,0\"/\u003e\n\u003ctext text-anchor=\"start\" x=\"247\" y=\"-7\" font-family=\"Courier,monospace\" font-size=\"10.00\"\u003efeatures\u003c/text\u003e\n\u003cpolygon fill=\"none\" stroke=\"black\" points=\"300,0 300,-19 318,-19 318,0 300,0\"/\u003e\n\u003ctext text-anchor=\"start\" x=\"304\" y=\"-7\" font-family=\"Courier,monospace\" font-size=\"10.00\"\u003e1\u003c/text\u003e\n\u003c/g\u003e\n\u003c!-- 0\u0026#45;\u0026#45;3 --\u003e\n\u003cg id=\"edge3\" class=\"edge\"\u003e\n\u003ctitle\u003e0:c\u0026#45;\u0026#45;3:c\u003c/title\u003e\n\u003cpath fill=\"none\" stroke=\"#000000\" stroke-width=\"3\" stroke-opacity=\"0.188235\" d=\"M164.16,-79.34C177.75,-72.31 215.47,-52.82 244.01,-38.08\"/\u003e\n\u003c/g\u003e\n\u003c/g\u003e\n\u003c/svg\u003e\n",
            "text/plain": [
              "\u003cgraphviz.dot.Graph at 0x7f01223dc6d0\u003e"
            ]
          },
          "execution_count": 11,
          "metadata": {},
          "output_type": "execute_result"
        }
      ],
      "source": [
        "@auto_config.auto_config\n",
        "def make_model_factory():\n",
        "  return functools.partial(\n",
        "      SimpleMLP,\n",
        "      dense1=nn.Dense(features=10),\n",
        "      activation_fn=functools.partial(nn.leaky_relu, negative_slope=0.05),\n",
        "      dense2=nn.Dense(features=1),\n",
        "  )\n",
        "\n",
        "\n",
        "cfg = make_model_factory.as_buildable()\n",
        "graphviz.render(cfg)"
      ]
    },
    {
      "cell_type": "code",
      "execution_count": null,
      "metadata": {
        "executionInfo": {
          "elapsed": 55,
          "status": "ok",
          "timestamp": 1641863271979,
          "user": {
            "displayName": "",
            "photoUrl": "",
            "userId": ""
          },
          "user_tz": 480
        },
        "id": "4GYFldWzYSDZ",
        "outputId": "8c44a61a-f297-4178-dba7-2cd15b397c04"
      },
      "outputs": [
        {
          "data": {
            "text/plain": [
              "SimpleMLP(\n",
              "    # attributes\n",
              "    dense1 = Dense(\n",
              "        # attributes\n",
              "        features = 10\n",
              "        use_bias = True\n",
              "        dtype = float32\n",
              "        precision = None\n",
              "        kernel_init = init\n",
              "        bias_init = zeros\n",
              "    )\n",
              "    activation_fn = functools.partial(\u003cfunction leaky_relu at 0x7f01365703b0\u003e, negative_slope=0.05)\n",
              "    dense2 = Dense(\n",
              "        # attributes\n",
              "        features = 1\n",
              "        use_bias = True\n",
              "        dtype = float32\n",
              "        precision = None\n",
              "        kernel_init = init\n",
              "        bias_init = zeros\n",
              "    )\n",
              ")"
            ]
          },
          "execution_count": 12,
          "metadata": {},
          "output_type": "execute_result"
        }
      ],
      "source": [
        "model_factory = fdl.build(cfg)\n",
        "model = model_factory()  # This is now a factory, so we have to call it!\n",
        "model"
      ]
    },
    {
      "cell_type": "markdown",
      "metadata": {
        "id": "3kQFVdaYORlO"
      },
      "source": [
        "## Auto-config operation\n",
        "\n",
        "Here we document how `auto_config` works in more detail, including specific transformation rules and compatiblity/limitations."
      ]
    },
    {
      "cell_type": "markdown",
      "metadata": {
        "id": "OqeCJaTztSsj"
      },
      "source": [
        "### Transformation rules\n",
        "\n",
        "In general, `auto_config` transforms any \"call\" (function call or object creation) into a corresponding `fdl.Config` with the same arguments. However,\n",
        "there are a few exceptions. Calls to the following kinds of objects are *not* transformed:\n",
        "\n",
        "* builtin functions and classes like `range` or `list`;\n",
        "* objects that have no `inspect.signature` (generally these are also builtins);\n",
        "* methods;\n",
        "* `fdl.Buildable` subclasses (including `fdl.TaggedValue`);\n",
        "* functions with type annotations indicating their return type is a `fdl.Buildable` subclass;\n",
        "* other functions decorated with `@auto_config` (see full example below for additional details and usage).\n",
        "\n",
        "Additionally, as mentioned above, calls to `functools.partial` are transformed into corresponding `fdl.Partial` objects instead of `fdl.Config` objects."
      ]
    },
    {
      "cell_type": "markdown",
      "metadata": {
        "id": "ArCroJoHDW2V"
      },
      "source": [
        "### Compatibility and limitations\n",
        "\n",
        "Code that only performs function calls and object creation should be compatible with auto-config with few modifications. However, there are limitations that may require some changes to ensure compatibility:\n",
        "\n",
        "* **Functions cannot contain any control flow**. At the moment this a restriction intended to encourage simplicity and predictability in functions that use auto-config, since some natural constructs (like using `itertools` functions in loop definitions) could have unexpected results. We are exploring  ways to support simple control flow constructs like `for` loops more robustly.\n",
        "\n",
        "* **Code that relies on object instances, properties, or methods**. During execution of an auto-configured function, any created `fdl.Config` instances are wrapped in temporary proxy objects that disallow attribute and item access (before being unwrapped into `fdl.Config` instances at the end). As a result, object instances (and hence their properties and methods) will not be available for subsequent code during execution of the function. A workaround is to use additional helper functions, as documented in the [intro colab](fiddle_tutorial_with_flax.ipynb) section on the computed value pattern.\n",
        "\n",
        "* **Functions that return tuples or lists**. If a function returns a sequence, and only some elements of the sequence must be passed to subsequent functions, automatic \"destructuring\" of the return value isn't supported. A workaround is accessing the required elements or slices via lambdas, e.g. `(lambda t: t[0])(sequence_output)`.\n",
        "\n",
        "* A subtle issue that can arise is that the order in which arguments are evaluated in the original function can differ from that of the `auto_config`-generated representation (which follows the order of arguments in the function signature)."
      ]
    },
    {
      "cell_type": "markdown",
      "metadata": {
        "id": "noUZiSz3dTg2"
      },
      "source": [
        "### Internals\n",
        "\n",
        "The basic mechanism of operation for `auto_config` is relatively simple, and the full [implementation][code] (~200 lines) can be consulted for additional details.\n",
        "\n",
        "When given a function to transform, `auto_config` inspects the function's abstract syntax tree (AST) and modifies any call nodes (corresponding to a function call or object creation) to insert a \"call handler\" that intercepts calls during execution of the transformed function. The call handler then decides whether to create a `fdl.Config` object for the call (capturing the provided arguments), or forward the call to the original function or class. This decision is made according to the transformation rules below.\n",
        "\n",
        "[code]: http://github.com/google/fiddle/tree/main/fiddle/experimental/auto_config.py"
      ]
    },
    {
      "cell_type": "markdown",
      "metadata": {
        "id": "S461Y4dBKzla"
      },
      "source": [
        "## Full example\n",
        "\n",
        "Below we work out a more involved example implementing a basic regression setup in Flax relying on the behaviors documented above and demonstrating nested calls to `auto_config`ed functions."
      ]
    },
    {
      "cell_type": "markdown",
      "metadata": {
        "id": "M-IRIGrKdv0g"
      },
      "source": [
        "### Additional training utilities\n",
        "\n",
        "First, we define an MSE loss function and a (somewhat) generic `Trainer` utility class:"
      ]
    },
    {
      "cell_type": "code",
      "execution_count": null,
      "metadata": {
        "id": "e9OKzSfkSSce"
      },
      "outputs": [],
      "source": [
        "from flax.training import train_state\n",
        "import optax\n",
        "\n",
        "\n",
        "def mse_loss(y_true, y_pred):\n",
        "  error = y_true - y_pred\n",
        "  return jnp.mean(jnp.square(error))\n",
        "\n",
        "\n",
        "@dataclasses.dataclass\n",
        "class Trainer:\n",
        "  rng: jax.random.PRNGKey\n",
        "  model: nn.Module\n",
        "  optimizer: optax.GradientTransformation\n",
        "  loss_fn: Callable[[jnp.array, jnp.array], jnp.array]\n",
        "  examples: List[Tuple[jnp.array, jnp.array]]\n",
        "  state: train_state.TrainState = dataclasses.field(init=False)\n",
        "\n",
        "  def __post_init__(self):\n",
        "    inputs, _ = self.examples[0]\n",
        "    params = self.model.init(self.rng, inputs)\n",
        "    opt_state = self.optimizer.init(params)\n",
        "    self.state = train_state.TrainState(\n",
        "        step=0,\n",
        "        apply_fn=self.model.apply,\n",
        "        params=params,\n",
        "        tx=self.optimizer,\n",
        "        opt_state=opt_state)\n",
        "\n",
        "  def train_step(self, state, x, y):\n",
        "\n",
        "    def apply_loss(params):\n",
        "      predictions = state.apply_fn(params, x)\n",
        "      loss = self.loss_fn(y, predictions)\n",
        "      return loss\n",
        "\n",
        "    grad_fn = jax.value_and_grad(apply_loss)\n",
        "    loss_val, grads = grad_fn(state.params)\n",
        "    state = state.apply_gradients(grads=grads)\n",
        "    return state, loss_val\n",
        "\n",
        "  def train_epoch(self):\n",
        "    for x, y in self.examples:\n",
        "      self.state, loss_val = self.train_step(self.state, x, y)\n",
        "      print(self.state.step, loss_val)"
      ]
    },
    {
      "cell_type": "markdown",
      "metadata": {
        "id": "46Z4EfV5a7Oc"
      },
      "source": [
        "### Wire-up using `auto_config`\n",
        "Now we can create a basic configuration using `auto_config`:"
      ]
    },
    {
      "cell_type": "code",
      "execution_count": null,
      "metadata": {
        "id": "jH5L0M-haNYJ"
      },
      "outputs": [],
      "source": [
        "@auto_config.auto_config\n",
        "def make_model():\n",
        "  return SimpleMLP(\n",
        "      dense1=nn.Dense(features=10),\n",
        "      activation_fn=functools.partial(nn.leaky_relu, negative_slope=0.02),\n",
        "      dense2=nn.Dense(features=1),\n",
        "  )\n",
        "\n",
        "\n",
        "def make_data(key, num_batches, batch_size, input_dims):\n",
        "  # Create random input data.\n",
        "  x_batches = jax.random.normal(key, (num_batches, batch_size, input_dims))\n",
        "  # Create a bunch of zero-valued regression targets.\n",
        "  y_batches = jnp.zeros((num_batches, batch_size))\n",
        "  # Zip together to create a list of (input, target) batches.\n",
        "  return list(zip(x_batches, y_batches))\n",
        "\n",
        "\n",
        "@auto_config.auto_config\n",
        "def make_trainer():\n",
        "  trainer = Trainer(\n",
        "      rng=jax.random.PRNGKey(seed=42),\n",
        "      model=make_model(),\n",
        "      optimizer=optax.sgd(learning_rate=0.1),\n",
        "      loss_fn=mse_loss,\n",
        "      examples=make_data(\n",
        "          jax.random.PRNGKey(seed=13),\n",
        "          num_batches=10,\n",
        "          batch_size=32,\n",
        "          input_dims=20))\n",
        "  return trainer"
      ]
    },
    {
      "cell_type": "markdown",
      "metadata": {
        "id": "En6Ia_HUboX8"
      },
      "source": [
        "Per the transformation rules above, calls from one auto-configed function to another are *not* transformed (note that the other function must be *decorated* with `@auto_config` for this to work). This allows glue code to be factored as desired into reusable functions that build different components of an overall setup.\n",
        "\n",
        "As a result, the call to `make_model` in `make_trainer` is effectively inlined. As you can see in the graph below, the `model` field for `Trainer` is a `SimpleMLP` which has several configurable sub-components.\n",
        "\n",
        "However, we don't use `auto_config` for the `make_data` function! This means we will get a corresponding `fdl.Config` for `make_data`. To see this in action we can create the trainer config object and visualize it:"
      ]
    },
    {
      "cell_type": "code",
      "execution_count": null,
      "metadata": {
        "colab": {
          "height": 457
        },
        "executionInfo": {
          "elapsed": 57,
          "status": "ok",
          "timestamp": 1641863272771,
          "user": {
            "displayName": "",
            "photoUrl": "",
            "userId": ""
          },
          "user_tz": 480
        },
        "id": "LvIROB1JlUpR",
        "outputId": "ed8b7398-8f72-4980-b651-38e64ced2291"
      },
      "outputs": [
        {
          "data": {
            "image/svg+xml": "\u003c?xml version=\"1.0\" encoding=\"UTF-8\" standalone=\"no\"?\u003e\n\u003c!DOCTYPE svg PUBLIC \"-//W3C//DTD SVG 1.1//EN\"\n \"http://www.w3.org/Graphics/SVG/1.1/DTD/svg11.dtd\"\u003e\n\u003c!-- Generated by graphviz version 2.44.1 (20201121.0304)\n --\u003e\n\u003c!-- Pages: 1 --\u003e\n\u003csvg width=\"503pt\" height=\"327pt\"\n viewBox=\"0.00 0.00 503.00 327.00\" xmlns=\"http://www.w3.org/2000/svg\" xmlns:xlink=\"http://www.w3.org/1999/xlink\"\u003e\n\u003cg id=\"graph0\" class=\"graph\" transform=\"scale(1 1) rotate(0) translate(4 323)\"\u003e\n\u003cpolygon fill=\"white\" stroke=\"transparent\" points=\"-4,4 -4,-323 499,-323 499,4 -4,4\"/\u003e\n\u003c!-- 1 --\u003e\n\u003cg id=\"node1\" class=\"node\"\u003e\n\u003ctitle\u003e1\u003c/title\u003e\n\u003cpolygon fill=\"#90ee90\" stroke=\"transparent\" points=\"0.5,-121.5 0.5,-140.5 89.5,-140.5 89.5,-121.5 0.5,-121.5\"/\u003e\n\u003cpolygon fill=\"none\" stroke=\"black\" points=\"0.5,-121.5 0.5,-140.5 89.5,-140.5 89.5,-121.5 0.5,-121.5\"/\u003e\n\u003ctext text-anchor=\"start\" x=\"4.5\" y=\"-129.5\" font-family=\"Courier,monospace\" font-size=\"8.00\"\u003eConfig:\u003c/text\u003e\n\u003ctext text-anchor=\"start\" x=\"36.5\" y=\"-129.5\" font-family=\"Courier,monospace\" font-size=\"10.00\"\u003e PRNGKey\u003c/text\u003e\n\u003cpolygon fill=\"#eeeeee\" stroke=\"transparent\" points=\"0.5,-102.5 0.5,-121.5 50.5,-121.5 50.5,-102.5 0.5,-102.5\"/\u003e\n\u003cpolygon fill=\"none\" stroke=\"black\" points=\"0.5,-102.5 0.5,-121.5 50.5,-121.5 50.5,-102.5 0.5,-102.5\"/\u003e\n\u003ctext text-anchor=\"start\" x=\"21.5\" y=\"-109.5\" font-family=\"Courier,monospace\" font-size=\"10.00\"\u003eseed\u003c/text\u003e\n\u003cpolygon fill=\"none\" stroke=\"black\" points=\"50.5,-102.5 50.5,-121.5 89.5,-121.5 89.5,-102.5 50.5,-102.5\"/\u003e\n\u003ctext text-anchor=\"start\" x=\"54.5\" y=\"-109.5\" font-family=\"Courier,monospace\" font-size=\"10.00\"\u003e42\u003c/text\u003e\n\u003c/g\u003e\n\u003c!-- 0 --\u003e\n\u003cg id=\"node2\" class=\"node\"\u003e\n\u003ctitle\u003e0\u003c/title\u003e\n\u003cpolygon fill=\"#ffc0cb\" stroke=\"transparent\" points=\"42.5,-300 42.5,-319 336.5,-319 336.5,-300 42.5,-300\"/\u003e\n\u003cpolygon fill=\"none\" stroke=\"black\" points=\"42.5,-300 42.5,-319 336.5,-319 336.5,-300 42.5,-300\"/\u003e\n\u003ctext text-anchor=\"start\" x=\"149\" y=\"-308\" font-family=\"Courier,monospace\" font-size=\"8.00\"\u003eConfig:\u003c/text\u003e\n\u003ctext text-anchor=\"start\" x=\"181\" y=\"-308\" font-family=\"Courier,monospace\" font-size=\"10.00\"\u003e Trainer\u003c/text\u003e\n\u003cpolygon fill=\"#eeeeee\" stroke=\"transparent\" points=\"42.5,-281 42.5,-300 105.5,-300 105.5,-281 42.5,-281\"/\u003e\n\u003cpolygon fill=\"none\" stroke=\"black\" points=\"42.5,-281 42.5,-300 105.5,-300 105.5,-281 42.5,-281\"/\u003e\n\u003ctext text-anchor=\"start\" x=\"82.5\" y=\"-288\" font-family=\"Courier,monospace\" font-size=\"10.00\"\u003erng\u003c/text\u003e\n\u003cpolygon fill=\"none\" stroke=\"black\" points=\"105.5,-281 105.5,-300 336.5,-300 336.5,-281 105.5,-281\"/\u003e\n\u003cpolygon fill=\"#90ee90\" stroke=\"transparent\" points=\"109.5,-285 109.5,-296 332.5,-296 332.5,-285 109.5,-285\"/\u003e\n\u003cpolygon fill=\"none\" stroke=\"black\" points=\"109.5,-285 109.5,-296 332.5,-296 332.5,-285 109.5,-285\"/\u003e\n\u003cpolygon fill=\"#eeeeee\" stroke=\"transparent\" points=\"42.5,-262 42.5,-281 105.5,-281 105.5,-262 42.5,-262\"/\u003e\n\u003cpolygon fill=\"none\" stroke=\"black\" points=\"42.5,-262 42.5,-281 105.5,-281 105.5,-262 42.5,-262\"/\u003e\n\u003ctext text-anchor=\"start\" x=\"70.5\" y=\"-269\" font-family=\"Courier,monospace\" font-size=\"10.00\"\u003emodel\u003c/text\u003e\n\u003cpolygon fill=\"none\" stroke=\"black\" points=\"105.5,-262 105.5,-281 336.5,-281 336.5,-262 105.5,-262\"/\u003e\n\u003cpolygon fill=\"#fff8dc\" stroke=\"transparent\" points=\"109.5,-266 109.5,-277 332.5,-277 332.5,-266 109.5,-266\"/\u003e\n\u003cpolygon fill=\"none\" stroke=\"black\" points=\"109.5,-266 109.5,-277 332.5,-277 332.5,-266 109.5,-266\"/\u003e\n\u003cpolygon fill=\"#eeeeee\" stroke=\"transparent\" points=\"42.5,-243 42.5,-262 105.5,-262 105.5,-243 42.5,-243\"/\u003e\n\u003cpolygon fill=\"none\" stroke=\"black\" points=\"42.5,-243 42.5,-262 105.5,-262 105.5,-243 42.5,-243\"/\u003e\n\u003ctext text-anchor=\"start\" x=\"46.5\" y=\"-250\" font-family=\"Courier,monospace\" font-size=\"10.00\"\u003eoptimizer\u003c/text\u003e\n\u003cpolygon fill=\"none\" stroke=\"black\" points=\"105.5,-243 105.5,-262 336.5,-262 336.5,-243 105.5,-243\"/\u003e\n\u003cpolygon fill=\"#8fbc8f\" stroke=\"transparent\" points=\"109.5,-247 109.5,-258 332.5,-258 332.5,-247 109.5,-247\"/\u003e\n\u003cpolygon fill=\"none\" stroke=\"black\" points=\"109.5,-247 109.5,-258 332.5,-258 332.5,-247 109.5,-247\"/\u003e\n\u003cpolygon fill=\"#eeeeee\" stroke=\"transparent\" points=\"42.5,-224 42.5,-243 105.5,-243 105.5,-224 42.5,-224\"/\u003e\n\u003cpolygon fill=\"none\" stroke=\"black\" points=\"42.5,-224 42.5,-243 105.5,-243 105.5,-224 42.5,-224\"/\u003e\n\u003ctext text-anchor=\"start\" x=\"58.5\" y=\"-231\" font-family=\"Courier,monospace\" font-size=\"10.00\"\u003eloss_fn\u003c/text\u003e\n\u003cpolygon fill=\"none\" stroke=\"black\" points=\"105.5,-224 105.5,-243 336.5,-243 336.5,-224 105.5,-224\"/\u003e\n\u003ctext text-anchor=\"start\" x=\"109.5\" y=\"-231\" font-family=\"Courier,monospace\" font-size=\"10.00\"\u003e\u0026lt;function mse_loss at 0x7f01223e5f80\u0026gt;\u003c/text\u003e\n\u003cpolygon fill=\"#eeeeee\" stroke=\"transparent\" points=\"42.5,-205 42.5,-224 105.5,-224 105.5,-205 42.5,-205\"/\u003e\n\u003cpolygon fill=\"none\" stroke=\"black\" points=\"42.5,-205 42.5,-224 105.5,-224 105.5,-205 42.5,-205\"/\u003e\n\u003ctext text-anchor=\"start\" x=\"52.5\" y=\"-212\" font-family=\"Courier,monospace\" font-size=\"10.00\"\u003eexamples\u003c/text\u003e\n\u003cpolygon fill=\"none\" stroke=\"black\" points=\"105.5,-205 105.5,-224 336.5,-224 336.5,-205 105.5,-205\"/\u003e\n\u003cpolygon fill=\"#adff2f\" stroke=\"transparent\" points=\"109.5,-209 109.5,-220 332.5,-220 332.5,-209 109.5,-209\"/\u003e\n\u003cpolygon fill=\"none\" stroke=\"black\" points=\"109.5,-209 109.5,-220 332.5,-220 332.5,-209 109.5,-209\"/\u003e\n\u003c/g\u003e\n\u003c!-- 0\u0026#45;\u0026#45;1 --\u003e\n\u003cg id=\"edge1\" class=\"edge\"\u003e\n\u003ctitle\u003e0:c\u0026#45;\u0026#45;1:c\u003c/title\u003e\n\u003cpath fill=\"none\" stroke=\"#000000\" stroke-width=\"3\" stroke-opacity=\"0.188235\" d=\"M216.01,-284.8C192.96,-262.99 103.39,-178.23 63.66,-140.64\"/\u003e\n\u003c/g\u003e\n\u003c!-- 2 --\u003e\n\u003cg id=\"node4\" class=\"node\"\u003e\n\u003ctitle\u003e2\u003c/title\u003e\n\u003cpolygon fill=\"#fff8dc\" stroke=\"transparent\" points=\"107.5,-140.5 107.5,-159.5 210.5,-159.5 210.5,-140.5 107.5,-140.5\"/\u003e\n\u003cpolygon fill=\"none\" stroke=\"black\" points=\"107.5,-140.5 107.5,-159.5 210.5,-159.5 210.5,-140.5 107.5,-140.5\"/\u003e\n\u003ctext text-anchor=\"start\" x=\"112.5\" y=\"-148.5\" font-family=\"Courier,monospace\" font-size=\"8.00\"\u003eConfig:\u003c/text\u003e\n\u003ctext text-anchor=\"start\" x=\"144.5\" y=\"-148.5\" font-family=\"Courier,monospace\" font-size=\"10.00\"\u003e SimpleMLP\u003c/text\u003e\n\u003cpolygon fill=\"#eeeeee\" stroke=\"transparent\" points=\"107.5,-121.5 107.5,-140.5 194.5,-140.5 194.5,-121.5 107.5,-121.5\"/\u003e\n\u003cpolygon fill=\"none\" stroke=\"black\" points=\"107.5,-121.5 107.5,-140.5 194.5,-140.5 194.5,-121.5 107.5,-121.5\"/\u003e\n\u003ctext text-anchor=\"start\" x=\"153.5\" y=\"-128.5\" font-family=\"Courier,monospace\" font-size=\"10.00\"\u003edense1\u003c/text\u003e\n\u003cpolygon fill=\"none\" stroke=\"black\" points=\"194.5,-121.5 194.5,-140.5 210.5,-140.5 210.5,-121.5 194.5,-121.5\"/\u003e\n\u003cpolygon fill=\"#ffa07a\" stroke=\"transparent\" points=\"198.5,-125.5 198.5,-136.5 206.5,-136.5 206.5,-125.5 198.5,-125.5\"/\u003e\n\u003cpolygon fill=\"none\" stroke=\"black\" points=\"198.5,-125.5 198.5,-136.5 206.5,-136.5 206.5,-125.5 198.5,-125.5\"/\u003e\n\u003cpolygon fill=\"#eeeeee\" stroke=\"transparent\" points=\"107.5,-102.5 107.5,-121.5 194.5,-121.5 194.5,-102.5 107.5,-102.5\"/\u003e\n\u003cpolygon fill=\"none\" stroke=\"black\" points=\"107.5,-102.5 107.5,-121.5 194.5,-121.5 194.5,-102.5 107.5,-102.5\"/\u003e\n\u003ctext text-anchor=\"start\" x=\"111.5\" y=\"-109.5\" font-family=\"Courier,monospace\" font-size=\"10.00\"\u003eactivation_fn\u003c/text\u003e\n\u003cpolygon fill=\"none\" stroke=\"black\" points=\"194.5,-102.5 194.5,-121.5 210.5,-121.5 210.5,-102.5 194.5,-102.5\"/\u003e\n\u003cpolygon fill=\"#add8e6\" stroke=\"transparent\" points=\"198.5,-106.5 198.5,-117.5 206.5,-117.5 206.5,-106.5 198.5,-106.5\"/\u003e\n\u003cpolygon fill=\"none\" stroke=\"black\" stroke-dasharray=\"5,2\" points=\"198.5,-106.5 198.5,-117.5 206.5,-117.5 206.5,-106.5 198.5,-106.5\"/\u003e\n\u003cpolygon fill=\"#eeeeee\" stroke=\"transparent\" stroke-dasharray=\"5,2\" points=\"107.5,-83.5 107.5,-102.5 194.5,-102.5 194.5,-83.5 107.5,-83.5\"/\u003e\n\u003cpolygon fill=\"none\" stroke=\"black\" points=\"107.5,-83.5 107.5,-102.5 194.5,-102.5 194.5,-83.5 107.5,-83.5\"/\u003e\n\u003ctext text-anchor=\"start\" x=\"153.5\" y=\"-90.5\" font-family=\"Courier,monospace\" font-size=\"10.00\"\u003edense2\u003c/text\u003e\n\u003cpolygon fill=\"none\" stroke=\"black\" points=\"194.5,-83.5 194.5,-102.5 210.5,-102.5 210.5,-83.5 194.5,-83.5\"/\u003e\n\u003cpolygon fill=\"#ff8c00\" stroke=\"transparent\" points=\"198.5,-87.5 198.5,-98.5 206.5,-98.5 206.5,-87.5 198.5,-87.5\"/\u003e\n\u003cpolygon fill=\"none\" stroke=\"black\" points=\"198.5,-87.5 198.5,-98.5 206.5,-98.5 206.5,-87.5 198.5,-87.5\"/\u003e\n\u003c/g\u003e\n\u003c!-- 0\u0026#45;\u0026#45;2 --\u003e\n\u003cg id=\"edge5\" class=\"edge\"\u003e\n\u003ctitle\u003e0:c\u0026#45;\u0026#45;2:c\u003c/title\u003e\n\u003cpath fill=\"none\" stroke=\"#000000\" stroke-width=\"3\" stroke-opacity=\"0.188235\" d=\"M219.26,-265.71C212.18,-249.03 189.85,-196.4 174.33,-159.82\"/\u003e\n\u003c/g\u003e\n\u003c!-- 6 --\u003e\n\u003cg id=\"node7\" class=\"node\"\u003e\n\u003ctitle\u003e6\u003c/title\u003e\n\u003cpolygon fill=\"#8fbc8f\" stroke=\"transparent\" points=\"228.5,-121.5 228.5,-140.5 342.5,-140.5 342.5,-121.5 228.5,-121.5\"/\u003e\n\u003cpolygon fill=\"none\" stroke=\"black\" points=\"228.5,-121.5 228.5,-140.5 342.5,-140.5 342.5,-121.5 228.5,-121.5\"/\u003e\n\u003ctext text-anchor=\"start\" x=\"257\" y=\"-129.5\" font-family=\"Courier,monospace\" font-size=\"8.00\"\u003eConfig:\u003c/text\u003e\n\u003ctext text-anchor=\"start\" x=\"289\" y=\"-129.5\" font-family=\"Courier,monospace\" font-size=\"10.00\"\u003e sgd\u003c/text\u003e\n\u003cpolygon fill=\"#eeeeee\" stroke=\"transparent\" points=\"228.5,-102.5 228.5,-121.5 315.5,-121.5 315.5,-102.5 228.5,-102.5\"/\u003e\n\u003cpolygon fill=\"none\" stroke=\"black\" points=\"228.5,-102.5 228.5,-121.5 315.5,-121.5 315.5,-102.5 228.5,-102.5\"/\u003e\n\u003ctext text-anchor=\"start\" x=\"232.5\" y=\"-109.5\" font-family=\"Courier,monospace\" font-size=\"10.00\"\u003elearning_rate\u003c/text\u003e\n\u003cpolygon fill=\"none\" stroke=\"black\" points=\"315.5,-102.5 315.5,-121.5 342.5,-121.5 342.5,-102.5 315.5,-102.5\"/\u003e\n\u003ctext text-anchor=\"start\" x=\"319.5\" y=\"-109.5\" font-family=\"Courier,monospace\" font-size=\"10.00\"\u003e0.1\u003c/text\u003e\n\u003c/g\u003e\n\u003c!-- 0\u0026#45;\u0026#45;6 --\u003e\n\u003cg id=\"edge6\" class=\"edge\"\u003e\n\u003ctitle\u003e0:c\u0026#45;\u0026#45;6:c\u003c/title\u003e\n\u003cpath fill=\"none\" stroke=\"#000000\" stroke-width=\"3\" stroke-opacity=\"0.188235\" d=\"M223.63,-246.72C231.78,-230.35 261.33,-171.03 276.45,-140.67\"/\u003e\n\u003c/g\u003e\n\u003c!-- 7 --\u003e\n\u003cg id=\"node9\" class=\"node\"\u003e\n\u003ctitle\u003e7\u003c/title\u003e\n\u003cpolygon fill=\"#adff2f\" stroke=\"transparent\" points=\"361.5,-149.5 361.5,-168.5 462.5,-168.5 462.5,-149.5 361.5,-149.5\"/\u003e\n\u003cpolygon fill=\"none\" stroke=\"black\" points=\"361.5,-149.5 361.5,-168.5 462.5,-168.5 462.5,-149.5 361.5,-149.5\"/\u003e\n\u003ctext text-anchor=\"start\" x=\"365.5\" y=\"-157.5\" font-family=\"Courier,monospace\" font-size=\"8.00\"\u003eConfig:\u003c/text\u003e\n\u003ctext text-anchor=\"start\" x=\"397.5\" y=\"-157.5\" font-family=\"Courier,monospace\" font-size=\"10.00\"\u003e make_data\u003c/text\u003e\n\u003cpolygon fill=\"#eeeeee\" stroke=\"transparent\" points=\"361.5,-130.5 361.5,-149.5 438.5,-149.5 438.5,-130.5 361.5,-130.5\"/\u003e\n\u003cpolygon fill=\"none\" stroke=\"black\" points=\"361.5,-130.5 361.5,-149.5 438.5,-149.5 438.5,-130.5 361.5,-130.5\"/\u003e\n\u003ctext text-anchor=\"start\" x=\"415.5\" y=\"-137.5\" font-family=\"Courier,monospace\" font-size=\"10.00\"\u003ekey\u003c/text\u003e\n\u003cpolygon fill=\"none\" stroke=\"black\" points=\"438.5,-130.5 438.5,-149.5 462.5,-149.5 462.5,-130.5 438.5,-130.5\"/\u003e\n\u003cpolygon fill=\"#ff6347\" stroke=\"transparent\" points=\"442.5,-134.5 442.5,-145.5 458.5,-145.5 458.5,-134.5 442.5,-134.5\"/\u003e\n\u003cpolygon fill=\"none\" stroke=\"black\" points=\"442.5,-134.5 442.5,-145.5 458.5,-145.5 458.5,-134.5 442.5,-134.5\"/\u003e\n\u003cpolygon fill=\"#eeeeee\" stroke=\"transparent\" points=\"361.5,-111.5 361.5,-130.5 438.5,-130.5 438.5,-111.5 361.5,-111.5\"/\u003e\n\u003cpolygon fill=\"none\" stroke=\"black\" points=\"361.5,-111.5 361.5,-130.5 438.5,-130.5 438.5,-111.5 361.5,-111.5\"/\u003e\n\u003ctext text-anchor=\"start\" x=\"367.5\" y=\"-118.5\" font-family=\"Courier,monospace\" font-size=\"10.00\"\u003enum_batches\u003c/text\u003e\n\u003cpolygon fill=\"none\" stroke=\"black\" points=\"438.5,-111.5 438.5,-130.5 462.5,-130.5 462.5,-111.5 438.5,-111.5\"/\u003e\n\u003ctext text-anchor=\"start\" x=\"442.5\" y=\"-118.5\" font-family=\"Courier,monospace\" font-size=\"10.00\"\u003e10\u003c/text\u003e\n\u003cpolygon fill=\"#eeeeee\" stroke=\"transparent\" points=\"361.5,-92.5 361.5,-111.5 438.5,-111.5 438.5,-92.5 361.5,-92.5\"/\u003e\n\u003cpolygon fill=\"none\" stroke=\"black\" points=\"361.5,-92.5 361.5,-111.5 438.5,-111.5 438.5,-92.5 361.5,-92.5\"/\u003e\n\u003ctext text-anchor=\"start\" x=\"373.5\" y=\"-99.5\" font-family=\"Courier,monospace\" font-size=\"10.00\"\u003ebatch_size\u003c/text\u003e\n\u003cpolygon fill=\"none\" stroke=\"black\" points=\"438.5,-92.5 438.5,-111.5 462.5,-111.5 462.5,-92.5 438.5,-92.5\"/\u003e\n\u003ctext text-anchor=\"start\" x=\"442.5\" y=\"-99.5\" font-family=\"Courier,monospace\" font-size=\"10.00\"\u003e32\u003c/text\u003e\n\u003cpolygon fill=\"#eeeeee\" stroke=\"transparent\" points=\"361.5,-73.5 361.5,-92.5 438.5,-92.5 438.5,-73.5 361.5,-73.5\"/\u003e\n\u003cpolygon fill=\"none\" stroke=\"black\" points=\"361.5,-73.5 361.5,-92.5 438.5,-92.5 438.5,-73.5 361.5,-73.5\"/\u003e\n\u003ctext text-anchor=\"start\" x=\"373.5\" y=\"-80.5\" font-family=\"Courier,monospace\" font-size=\"10.00\"\u003einput_dims\u003c/text\u003e\n\u003cpolygon fill=\"none\" stroke=\"black\" points=\"438.5,-73.5 438.5,-92.5 462.5,-92.5 462.5,-73.5 438.5,-73.5\"/\u003e\n\u003ctext text-anchor=\"start\" x=\"442.5\" y=\"-80.5\" font-family=\"Courier,monospace\" font-size=\"10.00\"\u003e20\u003c/text\u003e\n\u003c/g\u003e\n\u003c!-- 0\u0026#45;\u0026#45;7 --\u003e\n\u003cg id=\"edge8\" class=\"edge\"\u003e\n\u003ctitle\u003e0:c\u0026#45;\u0026#45;7:c\u003c/title\u003e\n\u003cpath fill=\"none\" stroke=\"#000000\" stroke-width=\"3\" stroke-opacity=\"0.188235\" d=\"M239.51,-208.93C265.34,-202.65 313.93,-189.18 351.5,-169 354.63,-167.32 357.78,-165.47 360.89,-163.52\"/\u003e\n\u003c/g\u003e\n\u003c!-- 3 --\u003e\n\u003cg id=\"node3\" class=\"node\"\u003e\n\u003ctitle\u003e3\u003c/title\u003e\n\u003cpolygon fill=\"#ffa07a\" stroke=\"transparent\" points=\"43.5,-19 43.5,-38 121.5,-38 121.5,-19 43.5,-19\"/\u003e\n\u003cpolygon fill=\"none\" stroke=\"black\" points=\"43.5,-19 43.5,-38 121.5,-38 121.5,-19 43.5,-19\"/\u003e\n\u003ctext text-anchor=\"start\" x=\"48\" y=\"-27\" font-family=\"Courier,monospace\" font-size=\"8.00\"\u003eConfig:\u003c/text\u003e\n\u003ctext text-anchor=\"start\" x=\"80\" y=\"-27\" font-family=\"Courier,monospace\" font-size=\"10.00\"\u003e Dense\u003c/text\u003e\n\u003cpolygon fill=\"#eeeeee\" stroke=\"transparent\" points=\"43.5,0 43.5,-19 100.5,-19 100.5,0 43.5,0\"/\u003e\n\u003cpolygon fill=\"none\" stroke=\"black\" points=\"43.5,0 43.5,-19 100.5,-19 100.5,0 43.5,0\"/\u003e\n\u003ctext text-anchor=\"start\" x=\"47.5\" y=\"-7\" font-family=\"Courier,monospace\" font-size=\"10.00\"\u003efeatures\u003c/text\u003e\n\u003cpolygon fill=\"none\" stroke=\"black\" points=\"100.5,0 100.5,-19 121.5,-19 121.5,0 100.5,0\"/\u003e\n\u003ctext text-anchor=\"start\" x=\"104.5\" y=\"-7\" font-family=\"Courier,monospace\" font-size=\"10.00\"\u003e10\u003c/text\u003e\n\u003c/g\u003e\n\u003c!-- 2\u0026#45;\u0026#45;3 --\u003e\n\u003cg id=\"edge2\" class=\"edge\"\u003e\n\u003ctitle\u003e2:c\u0026#45;\u0026#45;3:c\u003c/title\u003e\n\u003cpath fill=\"none\" stroke=\"#000000\" stroke-width=\"3\" stroke-opacity=\"0.188235\" d=\"M198.23,-126.57C183.03,-112.57 130.95,-64.61 102.11,-38.06\"/\u003e\n\u003c/g\u003e\n\u003c!-- 4 --\u003e\n\u003cg id=\"node5\" class=\"node\"\u003e\n\u003ctitle\u003e4\u003c/title\u003e\n\u003cpolygon fill=\"#add8e6\" stroke=\"transparent\" points=\"139.5,-19 139.5,-38 265.5,-38 265.5,-19 139.5,-19\"/\u003e\n\u003cpolygon fill=\"none\" stroke=\"black\" stroke-dasharray=\"5,2\" points=\"139.5,-19 139.5,-38 265.5,-38 265.5,-19 139.5,-19\"/\u003e\n\u003ctext text-anchor=\"start\" x=\"150.5\" y=\"-27\" font-family=\"Courier,monospace\" font-size=\"8.00\"\u003ePartial:\u003c/text\u003e\n\u003ctext text-anchor=\"start\" x=\"187.5\" y=\"-27\" font-family=\"Courier,monospace\" font-size=\"10.00\"\u003e leaky_relu\u003c/text\u003e\n\u003cpolygon fill=\"#eeeeee\" stroke=\"transparent\" stroke-dasharray=\"5,2\" points=\"139.5,0 139.5,-19 232.5,-19 232.5,0 139.5,0\"/\u003e\n\u003cpolygon fill=\"none\" stroke=\"black\" points=\"139.5,0 139.5,-19 232.5,-19 232.5,0 139.5,0\"/\u003e\n\u003ctext text-anchor=\"start\" x=\"143.5\" y=\"-7\" font-family=\"Courier,monospace\" font-size=\"10.00\"\u003enegative_slope\u003c/text\u003e\n\u003cpolygon fill=\"none\" stroke=\"black\" points=\"232.5,0 232.5,-19 265.5,-19 265.5,0 232.5,0\"/\u003e\n\u003ctext text-anchor=\"start\" x=\"236.5\" y=\"-7\" font-family=\"Courier,monospace\" font-size=\"10.00\"\u003e0.02\u003c/text\u003e\n\u003c/g\u003e\n\u003c!-- 2\u0026#45;\u0026#45;4 --\u003e\n\u003cg id=\"edge3\" class=\"edge\"\u003e\n\u003ctitle\u003e2:c\u0026#45;\u0026#45;4:c\u003c/title\u003e\n\u003cpath fill=\"none\" stroke=\"#000000\" stroke-width=\"3\" stroke-opacity=\"0.188235\" d=\"M202.5,-106.38C202.5,-94.55 202.5,-59.98 202.5,-38.33\"/\u003e\n\u003c/g\u003e\n\u003c!-- 5 --\u003e\n\u003cg id=\"node6\" class=\"node\"\u003e\n\u003ctitle\u003e5\u003c/title\u003e\n\u003cpolygon fill=\"#ff8c00\" stroke=\"transparent\" points=\"284.5,-19 284.5,-38 361.5,-38 361.5,-19 284.5,-19\"/\u003e\n\u003cpolygon fill=\"none\" stroke=\"black\" points=\"284.5,-19 284.5,-38 361.5,-38 361.5,-19 284.5,-19\"/\u003e\n\u003ctext text-anchor=\"start\" x=\"288.5\" y=\"-27\" font-family=\"Courier,monospace\" font-size=\"8.00\"\u003eConfig:\u003c/text\u003e\n\u003ctext text-anchor=\"start\" x=\"320.5\" y=\"-27\" font-family=\"Courier,monospace\" font-size=\"10.00\"\u003e Dense\u003c/text\u003e\n\u003cpolygon fill=\"#eeeeee\" stroke=\"transparent\" points=\"284.5,0 284.5,-19 343.5,-19 343.5,0 284.5,0\"/\u003e\n\u003cpolygon fill=\"none\" stroke=\"black\" points=\"284.5,0 284.5,-19 343.5,-19 343.5,0 284.5,0\"/\u003e\n\u003ctext text-anchor=\"start\" x=\"290.5\" y=\"-7\" font-family=\"Courier,monospace\" font-size=\"10.00\"\u003efeatures\u003c/text\u003e\n\u003cpolygon fill=\"none\" stroke=\"black\" points=\"343.5,0 343.5,-19 361.5,-19 361.5,0 343.5,0\"/\u003e\n\u003ctext text-anchor=\"start\" x=\"347.5\" y=\"-7\" font-family=\"Courier,monospace\" font-size=\"10.00\"\u003e1\u003c/text\u003e\n\u003c/g\u003e\n\u003c!-- 2\u0026#45;\u0026#45;5 --\u003e\n\u003cg id=\"edge4\" class=\"edge\"\u003e\n\u003ctitle\u003e2:c\u0026#45;\u0026#45;5:c\u003c/title\u003e\n\u003cpath fill=\"none\" stroke=\"#000000\" stroke-width=\"3\" stroke-opacity=\"0.188235\" d=\"M205.83,-87.39C209.05,-83.59 214.21,-77.95 219.5,-74 239.24,-59.26 263.55,-46.31 283.6,-36.78\"/\u003e\n\u003c/g\u003e\n\u003c!-- 8 --\u003e\n\u003cg id=\"node8\" class=\"node\"\u003e\n\u003ctitle\u003e8\u003c/title\u003e\n\u003cpolygon fill=\"#ff6347\" stroke=\"transparent\" points=\"406.5,-19 406.5,-38 495.5,-38 495.5,-19 406.5,-19\"/\u003e\n\u003cpolygon fill=\"none\" stroke=\"black\" points=\"406.5,-19 406.5,-38 495.5,-38 495.5,-19 406.5,-19\"/\u003e\n\u003ctext text-anchor=\"start\" x=\"410.5\" y=\"-27\" font-family=\"Courier,monospace\" font-size=\"8.00\"\u003eConfig:\u003c/text\u003e\n\u003ctext text-anchor=\"start\" x=\"442.5\" y=\"-27\" font-family=\"Courier,monospace\" font-size=\"10.00\"\u003e PRNGKey\u003c/text\u003e\n\u003cpolygon fill=\"#eeeeee\" stroke=\"transparent\" points=\"406.5,0 406.5,-19 456.5,-19 456.5,0 406.5,0\"/\u003e\n\u003cpolygon fill=\"none\" stroke=\"black\" points=\"406.5,0 406.5,-19 456.5,-19 456.5,0 406.5,0\"/\u003e\n\u003ctext text-anchor=\"start\" x=\"427.5\" y=\"-7\" font-family=\"Courier,monospace\" font-size=\"10.00\"\u003eseed\u003c/text\u003e\n\u003cpolygon fill=\"none\" stroke=\"black\" points=\"456.5,0 456.5,-19 495.5,-19 495.5,0 456.5,0\"/\u003e\n\u003ctext text-anchor=\"start\" x=\"460.5\" y=\"-7\" font-family=\"Courier,monospace\" font-size=\"10.00\"\u003e13\u003c/text\u003e\n\u003c/g\u003e\n\u003c!-- 7\u0026#45;\u0026#45;8 --\u003e\n\u003cg id=\"edge7\" class=\"edge\"\u003e\n\u003ctitle\u003e7:c\u0026#45;\u0026#45;8:c\u003c/title\u003e\n\u003cpath fill=\"none\" stroke=\"#000000\" stroke-width=\"3\" stroke-opacity=\"0.188235\" d=\"M450.5,-134.37C450.5,-117.93 450.5,-66.04 450.5,-38.15\"/\u003e\n\u003c/g\u003e\n\u003c/g\u003e\n\u003c/svg\u003e\n",
            "text/plain": [
              "\u003cgraphviz.dot.Graph at 0x7f01223f53d0\u003e"
            ]
          },
          "execution_count": 15,
          "metadata": {},
          "output_type": "execute_result"
        }
      ],
      "source": [
        "trainer_cfg = make_trainer.as_buildable()\n",
        "graphviz.render(trainer_cfg)"
      ]
    },
    {
      "cell_type": "markdown",
      "metadata": {
        "id": "6Y0LuczhaJ0I"
      },
      "source": [
        "This configuration can be built to obtain a usable `Trainer` instance:"
      ]
    },
    {
      "cell_type": "code",
      "execution_count": null,
      "metadata": {
        "executionInfo": {
          "elapsed": 6472,
          "status": "ok",
          "timestamp": 1641863279472,
          "user": {
            "displayName": "",
            "photoUrl": "",
            "userId": ""
          },
          "user_tz": 480
        },
        "id": "dHWAfYcelek6",
        "outputId": "75b70d1f-7def-4722-8f3a-aef53636f3a3"
      },
      "outputs": [
        {
          "name": "stdout",
          "output_type": "stream",
          "text": [
            "epoch 0\n",
            "1 0.2838653\n",
            "2 0.21803907\n",
            "3 0.21047354\n",
            "4 0.1979806\n",
            "5 0.13222642\n",
            "6 0.08255785\n",
            "7 0.065112114\n",
            "8 0.10107071\n",
            "9 0.07565006\n",
            "10 0.115647994\n",
            "epoch 1\n",
            "11 0.041579906\n",
            "12 0.04145066\n",
            "13 0.035830304\n",
            "14 0.038941663\n",
            "15 0.03961956\n",
            "16 0.021673976\n",
            "17 0.02404899\n",
            "18 0.030386765\n",
            "19 0.023090502\n",
            "20 0.044453632\n",
            "epoch 2\n",
            "21 0.018582897\n",
            "22 0.020650044\n",
            "23 0.016066248\n",
            "24 0.019190717\n",
            "25 0.021523504\n",
            "26 0.010438805\n",
            "27 0.012974756\n",
            "28 0.01596553\n",
            "29 0.010962906\n",
            "30 0.023893178\n"
          ]
        }
      ],
      "source": [
        "trainer = fdl.build(trainer_cfg)\n",
        "for i in range(3):\n",
        "  print('epoch', i)\n",
        "  trainer.train_epoch()"
      ]
    },
    {
      "cell_type": "markdown",
      "metadata": {
        "id": "XLsz4u5ReTpZ"
      },
      "source": [
        "\n",
        "The trainer config can be used to try some additional experiments. For example, we can increase the learning rate to achieve faster convergence:"
      ]
    },
    {
      "cell_type": "code",
      "execution_count": null,
      "metadata": {
        "executionInfo": {
          "elapsed": 3401,
          "status": "ok",
          "timestamp": 1641863283035,
          "user": {
            "displayName": "",
            "photoUrl": "",
            "userId": ""
          },
          "user_tz": 480
        },
        "id": "G6dLHo4CdDTT",
        "outputId": "f7514847-76d0-4bea-a5b8-94f03090b58b"
      },
      "outputs": [
        {
          "name": "stdout",
          "output_type": "stream",
          "text": [
            "epoch 0\n",
            "1 0.2838653\n",
            "2 0.12842616\n",
            "3 0.10451946\n",
            "4 0.06609689\n",
            "5 0.047944777\n",
            "6 0.017549392\n",
            "7 0.023271974\n",
            "8 0.02991738\n",
            "9 0.013452936\n",
            "10 0.022452662\n",
            "epoch 1\n",
            "11 0.011552879\n",
            "12 0.013179112\n",
            "13 0.009052264\n",
            "14 0.009786806\n",
            "15 0.011430102\n",
            "16 0.0057634143\n",
            "17 0.008019776\n",
            "18 0.0087801\n",
            "19 0.0060711047\n",
            "20 0.017177094\n",
            "epoch 2\n",
            "21 0.021958068\n",
            "22 0.0076652803\n",
            "23 0.0039907256\n",
            "24 0.003425775\n",
            "25 0.0045710634\n",
            "26 0.0025258493\n",
            "27 0.0026390764\n",
            "28 0.002829393\n",
            "29 0.001680397\n",
            "30 0.004811685\n"
          ]
        }
      ],
      "source": [
        "trainer_cfg.optimizer.learning_rate = 0.3\n",
        "trainer = fdl.build(trainer_cfg)\n",
        "for i in range(3):\n",
        "  print('epoch', i)\n",
        "  trainer.train_epoch()"
      ]
    }
  ],
  "metadata": {
    "colab": {
      "collapsed_sections": [],
      "last_runtime": {
        
        "kind": "private"
      },
      "name": "Auto-Config Tutorial",
      "provenance": [
        {
          "file_id": "/<repo_root>/fiddle/examples/colabs/fiddle_tutorial_with_flax.ipynb",
          "timestamp": 1641329858646
        },
        {
          "file_id": "1zWQmD7ctT_lrLqLOJe_vEl8zTLgaRKiR",
          "timestamp": 1639000689189
        }
      ],
      "toc_visible": true
    },
    "kernelspec": {
      "display_name": "Python 3",
      "name": "python3"
    },
    "language_info": {
      "name": "python"
    }
  },
  "nbformat": 4,
  "nbformat_minor": 0
}
