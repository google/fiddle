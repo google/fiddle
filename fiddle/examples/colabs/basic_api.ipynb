{
  "cells": [
    {
      "cell_type": "markdown",
      "metadata": {
        "id": "IGSumo_TfR5p"
      },
      "source": [
        "# Fiddle Basic API\n",
        "\n",
        "*Please see https://github.com/google/fiddle/blob/main/docs/colabs.md for other colabs.*\n",
        "\n",
        "This colab walks through the core Fiddle abstractions and how they work."
      ]
    },
    {
      "cell_type": "code",
      "execution_count": 18,
      "metadata": {
        "executionInfo": {
          "elapsed": 115,
          "status": "ok",
          "timestamp": 1692835090884,
          "user": {
            "displayName": "",
            "userId": ""
          },
          "user_tz": 420
        },
        "id": "ggm20mtNfHkl"
      },
      "outputs": [],
      "source": [
        "import copy\n",
        "import dataclasses\n",
        "from typing import List\n",
        "\n",
        "from IPython.core.display import display, HTML\n",
        "!pip install fiddle\n",
        "\n",
        "\n",
        "import fiddle as fdl"
      ]
    },
    {
      "cell_type": "markdown",
      "metadata": {
        "id": "TZYz_AF3fgwA"
      },
      "source": [
        "## `fdl.Config`\n",
        "\n",
        "The most common API for Fiddle is the `fdl.Config` type. `fdl.Config`s\n",
        "correspond to a call to a function or class. (For classes, obviously, calling\n",
        "the class creates a class instance.)"
      ]
    },
    {
      "cell_type": "code",
      "execution_count": 19,
      "metadata": {
        "executionInfo": {
          "elapsed": 3,
          "status": "ok",
          "timestamp": 1692835091037,
          "user": {
            "displayName": "",
            "userId": ""
          },
          "user_tz": 420
        },
        "id": "ULim859nfVqA",
        "outputId": "e8827602-9046-439a-90df-bb04800bb96d"
      },
      "outputs": [
        {
          "data": {
            "text/plain": [
              "Foo(a=2)"
            ]
          },
          "execution_count": 19,
          "metadata": {},
          "output_type": "execute_result"
        }
      ],
      "source": [
        "@dataclasses.dataclass\n",
        "class Foo:\n",
        "  a: int\n",
        "\n",
        "\n",
        "config = fdl.Config(Foo, a=2)\n",
        "fdl.build(config)"
      ]
    },
    {
      "cell_type": "markdown",
      "metadata": {
        "id": "EgniPDhSoSHo"
      },
      "source": [
        "`fdl.Config` stores two key things:\n",
        "\n",
        "*   A reference to the function or class to call\n",
        "*   Arguments to call it with\n",
        "\n",
        "The key affordance of Fiddle is that the arguments are mutable, and can\n",
        "themselves contain sub-configuration. Let's first look at the mutability:"
      ]
    },
    {
      "cell_type": "code",
      "execution_count": 20,
      "metadata": {
        "executionInfo": {
          "elapsed": 2,
          "status": "ok",
          "timestamp": 1692835091228,
          "user": {
            "displayName": "",
            "userId": ""
          },
          "user_tz": 420
        },
        "id": "1TYVpIdcoRth",
        "outputId": "1e364717-6881-4d19-8142-fa5eb8f666b2"
      },
      "outputs": [
        {
          "data": {
            "text/plain": [
              "Foo(a=3)"
            ]
          },
          "execution_count": 20,
          "metadata": {},
          "output_type": "execute_result"
        }
      ],
      "source": [
        "config.a = 3\n",
        "fdl.build(config)"
      ]
    },
    {
      "cell_type": "markdown",
      "metadata": {
        "id": "oLczs-FOo9S1"
      },
      "source": [
        "These arguments can be retrieved as well. For example, you can double a value in\n",
        "an existing configuration like so,"
      ]
    },
    {
      "cell_type": "code",
      "execution_count": 21,
      "metadata": {
        "executionInfo": {
          "elapsed": 2,
          "status": "ok",
          "timestamp": 1692835091569,
          "user": {
            "displayName": "",
            "userId": ""
          },
          "user_tz": 420
        },
        "id": "a9JPX_xspEot",
        "outputId": "4f261fa2-349a-46aa-8510-eb69ed32c8a6"
      },
      "outputs": [
        {
          "data": {
            "text/plain": [
              "Foo(a=6)"
            ]
          },
          "execution_count": 21,
          "metadata": {},
          "output_type": "execute_result"
        }
      ],
      "source": [
        "config.a = 2 * config.a\n",
        "fdl.build(config)"
      ]
    },
    {
      "cell_type": "markdown",
      "metadata": {
        "id": "hMqO1G3WpHbx"
      },
      "source": [
        "### Nested configuration\n",
        "\n",
        "Let's look at the case when arguments themselves contain sub-configs,"
      ]
    },
    {
      "cell_type": "code",
      "execution_count": 22,
      "metadata": {
        "executionInfo": {
          "elapsed": 56,
          "status": "ok",
          "timestamp": 1692835091820,
          "user": {
            "displayName": "",
            "userId": ""
          },
          "user_tz": 420
        },
        "id": "iLqyt9kfoBQ3",
        "outputId": "ceaf0a5c-d0b8-4132-a298-bab16dce0f6e"
      },
      "outputs": [
        {
          "data": {
            "text/plain": [
              "Bar(x=Foo(a=1), y=[Foo(a=1)])"
            ]
          },
          "execution_count": 22,
          "metadata": {},
          "output_type": "execute_result"
        }
      ],
      "source": [
        "@dataclasses.dataclass\n",
        "class Bar:\n",
        "  x: Foo\n",
        "  y: List[Foo]\n",
        "\n",
        "\n",
        "foo_config = fdl.Config(Foo, a=1)\n",
        "config = fdl.Config(Bar, foo_config, [foo_config])\n",
        "bar = fdl.build(config)\n",
        "bar"
      ]
    },
    {
      "cell_type": "markdown",
      "metadata": {
        "id": "jCQ9dAZApk2Z"
      },
      "source": [
        "One key thing that Fiddle provides is the ability to have shared instances. Each\n",
        "`fdl.Config` object corresponds to a single call during `build`. So, in the\n",
        "above case, the `Foo` objects are actually the same,"
      ]
    },
    {
      "cell_type": "code",
      "execution_count": 23,
      "metadata": {
        "executionInfo": {
          "elapsed": 2,
          "status": "ok",
          "timestamp": 1692835092204,
          "user": {
            "displayName": "",
            "userId": ""
          },
          "user_tz": 420
        },
        "id": "P3jM5arspjyn",
        "outputId": "fecd1aa4-dc43-491c-ac81-b8218aedef81"
      },
      "outputs": [
        {
          "data": {
            "text/plain": [
              "True"
            ]
          },
          "execution_count": 23,
          "metadata": {},
          "output_type": "execute_result"
        }
      ],
      "source": [
        "bar.x is bar.y[0]"
      ]
    },
    {
      "cell_type": "markdown",
      "metadata": {
        "id": "Me-0LNcyapsp"
      },
      "source": [
        "If you don't want these to be the same instance, you can copy `foo_config`;\n",
        "please see the \"Copying configuration\" section below."
      ]
    },
    {
      "cell_type": "markdown",
      "metadata": {
        "id": "vFqWr5PPqiou"
      },
      "source": [
        "### Setting and retrieving parameters\n",
        "\n",
        "Setting an unknown attribute will raise an error,"
      ]
    },
    {
      "cell_type": "code",
      "execution_count": 24,
      "metadata": {
        "colab": {
          "height": 34
        },
        "executionInfo": {
          "elapsed": 3,
          "status": "ok",
          "timestamp": 1692835092382,
          "user": {
            "displayName": "",
            "userId": ""
          },
          "user_tz": 420
        },
        "id": "yWJfRLTlqiKV",
        "outputId": "8713d589-a478-4679-e9ca-2a7786d9a182"
      },
      "outputs": [
        {
          "data": {
            "text/html": [
              "\u003cspan style=\"color: red\"\u003eTypeError: No parameter named 'qux' exists for \u003cclass '__main__.Foo'\u003e; valid parameter names: a.\u003c/span\u003e"
            ],
            "text/plain": [
              "\u003cIPython.core.display.HTML object\u003e"
            ]
          },
          "metadata": {},
          "output_type": "display_data"
        }
      ],
      "source": [
        "try:\n",
        "  foo_config.qux = 4\n",
        "except TypeError as e:\n",
        "  display(HTML(f'\u003cspan style=\"color: red\"\u003eTypeError: {e}\u003c/span\u003e'))\n",
        "else:\n",
        "  raise AssertionError(\"This should raise an error!\")"
      ]
    },
    {
      "cell_type": "markdown",
      "metadata": {
        "id": "pWrGdZHRp4Uo"
      },
      "source": [
        "Configuring `**kwargs` arguments are supported,"
      ]
    },
    {
      "cell_type": "code",
      "execution_count": 25,
      "metadata": {
        "executionInfo": {
          "elapsed": 58,
          "status": "ok",
          "timestamp": 1692835092603,
          "user": {
            "displayName": "",
            "userId": ""
          },
          "user_tz": 420
        },
        "id": "Ok_k71NdqBH8",
        "outputId": "5cd1319e-c8cd-45c5-c3b0-d1fd021256ce"
      },
      "outputs": [
        {
          "data": {
            "text/plain": [
              "(4, (), {'b': 12})"
            ]
          },
          "execution_count": 25,
          "metadata": {},
          "output_type": "execute_result"
        }
      ],
      "source": [
        "def args_and_kwargs(a, *args, **kwargs):\n",
        "  return a, args, kwargs\n",
        "\n",
        "\n",
        "config = fdl.Config(args_and_kwargs, a=4, b=12)\n",
        "fdl.build(config)"
      ]
    },
    {
      "cell_type": "markdown",
      "metadata": {
        "id": "G3IVzfktqAIu"
      },
      "source": [
        "# TODO(b/288893692): Update docs for posistional args."
      ]
    },
    {
      "cell_type": "markdown",
      "metadata": {
        "id": "QusHyHa7rfS6"
      },
      "source": [
        "### Type annotations\n",
        "\n",
        "The `fdl.Config` type can take a type parameter, which indicates the output type\n",
        "of the function or class being configured."
      ]
    },
    {
      "cell_type": "code",
      "execution_count": 27,
      "metadata": {
        "executionInfo": {
          "elapsed": 58,
          "status": "ok",
          "timestamp": 1692835092982,
          "user": {
            "displayName": "",
            "userId": ""
          },
          "user_tz": 420
        },
        "id": "cVH_mYCFrqvB"
      },
      "outputs": [],
      "source": [
        "foo_config: fdl.Config[Foo] = fdl.Config(Foo, 1)"
      ]
    },
    {
      "cell_type": "markdown",
      "metadata": {
        "id": "n-xlm5struLx"
      },
      "source": [
        "A call to `fdl.build(foo_config)` correctly hints its output type as `Foo`,\n",
        "which helps static type checkers.\n",
        "\n",
        "In the future, we might check argument types, but this is not currently\n",
        "available. (Unfortunately, standard Python type tooling is insufficiently\n",
        "powerful to express the types precisely.) So you can currently write\n",
        "`fdl.Config(Foo, \"string_not_int\")`."
      ]
    },
    {
      "cell_type": "markdown",
      "metadata": {
        "id": "WOd08R7hfqv0"
      },
      "source": [
        "## `fdl.Partial`\n",
        "\n",
        "Let's say you have a checkpointer which takes the current train state and number\n",
        "of steps. This might not be exactly the API you would create if you intended to\n",
        "use Fiddle from the beginning, but Fiddle is designed to be able to configure\n",
        "existing classes."
      ]
    },
    {
      "cell_type": "code",
      "execution_count": 28,
      "metadata": {
        "executionInfo": {
          "elapsed": 60,
          "status": "ok",
          "timestamp": 1692835093198,
          "user": {
            "displayName": "",
            "userId": ""
          },
          "user_tz": 420
        },
        "id": "akalsyx9fpuK"
      },
      "outputs": [],
      "source": [
        "from typing import Any\n",
        "import dataclasses\n",
        "\n",
        "\n",
        "@dataclasses.dataclass\n",
        "class Checkpointer:\n",
        "  train_state: Any\n",
        "  num_steps: int\n",
        "  base_directory: str\n",
        "  checkpoints_to_keep: int\n",
        "\n",
        "  def clear_old_checkpoints(self):\n",
        "    print(\"  Clearing checkpoints to limit to\", self.checkpoints_to_keep,\n",
        "          \"checkpoints\")\n",
        "\n",
        "  def save(self):\n",
        "    self.clear_old_checkpoints()\n",
        "    print(\"  Saved to\", self.base_directory, \"at num_steps =\", self.num_steps)\n",
        "\n",
        "\n",
        "@dataclasses.dataclass\n",
        "class Trainer:\n",
        "  checkpointer_cls: Any\n",
        "  num_steps: int = dataclasses.field(default=0)\n",
        "\n",
        "  def train_epoch(self, epoch_steps: int):\n",
        "    print(\"Training for one epoch ...\")\n",
        "    train_state = None\n",
        "    self.num_steps += epoch_steps\n",
        "    self.checkpointer_cls(\n",
        "        train_state=train_state, num_steps=self.num_steps).save()"
      ]
    },
    {
      "cell_type": "markdown",
      "metadata": {
        "id": "ZDe2DeAZihlY"
      },
      "source": [
        "Then let's say you want to configure the `base_directory` and\n",
        "`checkpoints_to_keep` parameters, and let the `train_state` and `num_steps`\n",
        "parameters be set by caller code at runtime. Then we can create a `fdl.Partial`\n",
        "object to represent the `checkpointer_cls`,"
      ]
    },
    {
      "cell_type": "code",
      "execution_count": 29,
      "metadata": {
        "executionInfo": {
          "elapsed": 58,
          "status": "ok",
          "timestamp": 1692835093442,
          "user": {
            "displayName": "",
            "userId": ""
          },
          "user_tz": 420
        },
        "id": "CMijtc5UigpA",
        "outputId": "a23820d7-8c20-413e-b17e-ea54340b130c"
      },
      "outputs": [
        {
          "name": "stdout",
          "output_type": "stream",
          "text": [
            "Training for one epoch ...\n",
            "  Clearing checkpoints to limit to 10 checkpoints\n",
            "  Saved to /path/to/my/dir at num_steps = 10\n",
            "Training for one epoch ...\n",
            "  Clearing checkpoints to limit to 10 checkpoints\n",
            "  Saved to /path/to/my/dir at num_steps = 30\n"
          ]
        }
      ],
      "source": [
        "def trainer_config() -\u003e fdl.Config:\n",
        "  checkpointer_config = fdl.Partial(\n",
        "      Checkpointer, base_directory=\"/path/to/my/dir\", checkpoints_to_keep=5)\n",
        "  return fdl.Config(Trainer, checkpointer_cls=checkpointer_config)\n",
        "\n",
        "\n",
        "config = trainer_config()\n",
        "\n",
        "# Experimental overrides can be applied as normal.\n",
        "config.checkpointer_cls.checkpoints_to_keep = 10\n",
        "\n",
        "# The trainer can be built, and we can mock-train two epochs.\n",
        "trainer = fdl.build(config)\n",
        "trainer.train_epoch(10)\n",
        "trainer.train_epoch(20)"
      ]
    },
    {
      "cell_type": "markdown",
      "metadata": {
        "id": "CDaAAJ-9s18l"
      },
      "source": [
        "When built, the `checkpointer_cls` becomes a `functools.partial` instance, partially specifying the arguments for `Checkpointer`:"
      ]
    },
    {
      "cell_type": "code",
      "execution_count": 30,
      "metadata": {
        "executionInfo": {
          "elapsed": 3,
          "status": "ok",
          "timestamp": 1692835093588,
          "user": {
            "displayName": "",
            "userId": ""
          },
          "user_tz": 420
        },
        "id": "BTHGCbQkl7Kr",
        "outputId": "107aef3c-d133-46c0-a3d0-2e03a6d36339"
      },
      "outputs": [
        {
          "data": {
            "text/plain": [
              "functools.partial(\u003cclass '__main__.Checkpointer'\u003e, base_directory='/path/to/my/dir', checkpoints_to_keep=10)"
            ]
          },
          "execution_count": 30,
          "metadata": {},
          "output_type": "execute_result"
        }
      ],
      "source": [
        "fdl.build(config.checkpointer_cls)"
      ]
    },
    {
      "cell_type": "markdown",
      "metadata": {
        "id": "ajPyaG1Sv06D"
      },
      "source": [
        "`fdl.Partial` can also be called on functions:"
      ]
    },
    {
      "cell_type": "code",
      "execution_count": 31,
      "metadata": {
        "executionInfo": {
          "elapsed": 2,
          "status": "ok",
          "timestamp": 1692835093801,
          "user": {
            "displayName": "",
            "userId": ""
          },
          "user_tz": 420
        },
        "id": "pANhzL74vzdN",
        "outputId": "6ebd5396-5b38-4d5b-b5cd-896363d83171"
      },
      "outputs": [
        {
          "data": {
            "text/plain": [
              "3"
            ]
          },
          "execution_count": 31,
          "metadata": {},
          "output_type": "execute_result"
        }
      ],
      "source": [
        "def foo(a, b):\n",
        "  return a + b\n",
        "\n",
        "\n",
        "foo_partial = fdl.build(fdl.Partial(foo, a=1))\n",
        "foo_partial(b=2)"
      ]
    },
    {
      "cell_type": "markdown",
      "metadata": {
        "id": "970ar9o0fx6Q"
      },
      "source": [
        "## Building configuration (`fdl.build`): anti-patterns to avoid\n",
        "\n",
        "As you've seen before, `fdl.build` is the core function creating actual classes\n",
        "from their configuration.\n",
        "\n",
        "A key affordance is that when used properly, built objects have any\n",
        "configuration \"closured\" in. So that if the configuration is ever mutated later,\n",
        "then the built objects are not changed. To demonstrate:"
      ]
    },
    {
      "cell_type": "code",
      "execution_count": 32,
      "metadata": {
        "executionInfo": {
          "elapsed": 2,
          "status": "ok",
          "timestamp": 1692835094083,
          "user": {
            "displayName": "",
            "userId": ""
          },
          "user_tz": 420
        },
        "id": "Wc4Y8ZWufxRg",
        "outputId": "a43f1f7b-cdfa-4b10-d905-07434a889bc5"
      },
      "outputs": [
        {
          "data": {
            "text/plain": [
              "1"
            ]
          },
          "execution_count": 32,
          "metadata": {},
          "output_type": "execute_result"
        }
      ],
      "source": [
        "def foo(a):\n",
        "  return a\n",
        "\n",
        "\n",
        "config = fdl.Partial(foo, a=1)\n",
        "foo_partial = fdl.build(config)\n",
        "config.a = 4\n",
        "foo_partial()"
      ]
    },
    {
      "cell_type": "markdown",
      "metadata": {
        "id": "F1wZNYv5xanM"
      },
      "source": [
        "We strongly encourage `fdl.build` to be a single transition point from\n",
        "configuration to built objects. Returning `fdl.Config` objects as the output of\n",
        "a function being configured is discouraged. Further, calling `fdl.build` within\n",
        "a `fdl.build` call will raise an error,"
      ]
    },
    {
      "cell_type": "code",
      "execution_count": 33,
      "metadata": {
        "colab": {
          "height": 69
        },
        "executionInfo": {
          "elapsed": 3,
          "status": "ok",
          "timestamp": 1692835094260,
          "user": {
            "displayName": "",
            "userId": ""
          },
          "user_tz": 420
        },
        "id": "EgndDevGxyir",
        "outputId": "98e22fcc-5c68-4ec2-b508-75f316829a55"
      },
      "outputs": [
        {
          "data": {
            "text/html": [
              "\u003cspan style=\"color: red\"\u003eValueError: It is forbidden to call `fdl.build` inside another `fdl.build` call.\u003cbr/\u003e\u003cbr/\u003eFiddle context: failed to construct or call bar at \u003croot\u003e with arguments ()\u003c/span\u003e"
            ],
            "text/plain": [
              "\u003cIPython.core.display.HTML object\u003e"
            ]
          },
          "metadata": {},
          "output_type": "display_data"
        }
      ],
      "source": [
        "def bar():\n",
        "  sub_config = fdl.Config(foo, a=1)\n",
        "  return fdl.build(sub_config)\n",
        "\n",
        "try:\n",
        "  fdl.build(fdl.Config(bar))\n",
        "except Exception as e:\n",
        "  error_message = str(e).replace(\"\\n\", \"\u003cbr/\u003e\")\n",
        "  display(HTML(f'\u003cspan style=\"color: red\"\u003e{type(e).__name__}: {error_message}\u003c/span\u003e'))\n",
        "else:\n",
        "  raise AssertionError(\"This should raise an error!\")"
      ]
    },
    {
      "cell_type": "markdown",
      "metadata": {
        "id": "TbcEXioa1e_M"
      },
      "source": [
        "When errors are raised, one \"path\" from the root config to the\n",
        "callable which raised the error is added to the error message. This\n",
        "can help debug configurations."
      ]
    },
    {
      "cell_type": "code",
      "execution_count": 34,
      "metadata": {
        "colab": {
          "height": 69
        },
        "executionInfo": {
          "elapsed": 60,
          "status": "ok",
          "timestamp": 1692835094493,
          "user": {
            "displayName": "",
            "userId": ""
          },
          "user_tz": 420
        },
        "id": "IfKRmp1NzKB9",
        "outputId": "73b4154e-febd-44bc-89b8-a5b1b336a55e"
      },
      "outputs": [
        {
          "data": {
            "text/html": [
              "\u003cspan style=\"color: red\"\u003eValueError: Error!\u003cbr/\u003e\u003cbr/\u003eFiddle context: failed to construct or call my_error_function at \u003croot\u003e.y[1] with arguments (a=7)\u003c/span\u003e"
            ],
            "text/plain": [
              "\u003cIPython.core.display.HTML object\u003e"
            ]
          },
          "metadata": {},
          "output_type": "display_data"
        }
      ],
      "source": [
        "def my_error_function(a) -\u003e Foo:\n",
        "  raise ValueError(\"Error!\")\n",
        "\n",
        "foo_config = fdl.Config(Foo, a=1)\n",
        "config = fdl.Config(Bar, foo_config, [foo_config, fdl.Config(my_error_function, a=7)])\n",
        "try:\n",
        "  fdl.build(config)\n",
        "except Exception as e:\n",
        "  error_message = str(e).replace(\"\\n\", \"\u003cbr/\u003e\")\n",
        "  display(HTML(f'\u003cspan style=\"color: red\"\u003e{type(e).__name__}: {error_message}\u003c/span\u003e'))\n",
        "\n",
        "else:\n",
        "  raise AssertionError(\"This should raise an error!\")"
      ]
    },
    {
      "cell_type": "markdown",
      "metadata": {
        "id": "MOI7H3PNztsh"
      },
      "source": [
        "## Copying configuration\n",
        "\n",
        "`fdl.Config` and `fdl.Partial` objects can be shallow-copied by just calling\n",
        "`copy.copy`, or `fdl.Config`/`fdl.Partial` with an existing config,"
      ]
    },
    {
      "cell_type": "code",
      "execution_count": 35,
      "metadata": {
        "executionInfo": {
          "elapsed": 2,
          "status": "ok",
          "timestamp": 1692835094707,
          "user": {
            "displayName": "",
            "userId": ""
          },
          "user_tz": 420
        },
        "id": "tgjrsdKjz_AY",
        "outputId": "e1f4953a-df79-4427-aede-5904630e5486"
      },
      "outputs": [
        {
          "name": "stdout",
          "output_type": "stream",
          "text": [
            "Original: ('a', 'original_b')\n",
            "Shallow copy: ('a', 'new_b')\n"
          ]
        }
      ],
      "source": [
        "def foo(a, b):\n",
        "  return a, b\n",
        "\n",
        "\n",
        "config = fdl.Config(foo, a=\"a\", b=\"original_b\")\n",
        "config2 = copy.copy(config)  # Alternate: fdl.Config(config)\n",
        "config2.b = \"new_b\"\n",
        "print(\"Original:\", fdl.build(config))\n",
        "print(\"Shallow copy:\", fdl.build(config2))"
      ]
    },
    {
      "cell_type": "markdown",
      "metadata": {
        "id": "aYXNxxxo16Gu"
      },
      "source": [
        "Deep copies are also supported, with the expected semantic that shared objects\n",
        "are copied, but still shared."
      ]
    },
    {
      "cell_type": "code",
      "execution_count": 36,
      "metadata": {
        "executionInfo": {
          "elapsed": 61,
          "status": "ok",
          "timestamp": 1692835094933,
          "user": {
            "displayName": "",
            "userId": ""
          },
          "user_tz": 420
        },
        "id": "xDsXkKcg2GTB",
        "outputId": "7206dc84-19db-4ec4-f3d5-82ce99b7b77c"
      },
      "outputs": [
        {
          "name": "stdout",
          "output_type": "stream",
          "text": [
            "Original: Bar(x=Foo\u003c139962915108560\u003e(a=4), y=[Foo\u003c139962915108560\u003e(a=4)])\n",
            "Shallow copy: Bar(x=Foo\u003c139962915107456\u003e(a=4), y=[Foo\u003c139962915107456\u003e(a=4)])\n",
            "Deep copy: Bar(x=Foo\u003c139962915102368\u003e(a=1), y=[Foo\u003c139962915102368\u003e(a=1)])\n"
          ]
        }
      ],
      "source": [
        "@dataclasses.dataclass\n",
        "class FooWithId(Foo):\n",
        "\n",
        "  def __repr__(self):\n",
        "    return f\"Foo\u003c{id(self)}\u003e(a={self.a})\"\n",
        "\n",
        "\n",
        "foo_config = fdl.Config(FooWithId, a=1)\n",
        "config = fdl.Config(Bar, foo_config, [foo_config])\n",
        "config2 = copy.copy(config)\n",
        "config3 = copy.deepcopy(config)\n",
        "\n",
        "# Change the original sub-object.\n",
        "foo_config.a = 4\n",
        "\n",
        "print(\"Original:\", fdl.build(config))\n",
        "\n",
        "# This reflects the post-copy change to `foo_config.a`.\n",
        "print(\"Shallow copy:\", fdl.build(config2))\n",
        "\n",
        "# This has the original value for `foo_config.a`.\n",
        "print(\"Deep copy:\", fdl.build(config3))"
      ]
    },
    {
      "cell_type": "markdown",
      "metadata": {
        "id": "WaITrqjGmsur"
      },
      "source": [
        "In general, we advise users to use `copy.deepcopy`, unless they intend to share\n",
        "sub-configs with the original object."
      ]
    },
    {
      "cell_type": "markdown",
      "metadata": {
        "id": "iztpbIAe2wCi"
      },
      "source": [
        "## Serialization, equality, and hashing\n",
        "\n",
        "We'll introduce serialization in more depth later, but please note that\n",
        "`fdl.Config` objects are pickleable. Also, an `__eq__` operator for `Config`\n",
        "works as expected. But we mostly suggest using `__eq__` in unit tests, since it\n",
        "is plausible that two configurations may produce the same object, but have\n",
        "different expressions (e.g. `fdl.Config(lambda x: x, 1)` can be used in place of\n",
        "`1`)."
      ]
    },
    {
      "cell_type": "code",
      "execution_count": 37,
      "metadata": {
        "executionInfo": {
          "elapsed": 57,
          "status": "ok",
          "timestamp": 1692835095146,
          "user": {
            "displayName": "",
            "userId": ""
          },
          "user_tz": 420
        },
        "id": "b73fCnOn24IE"
      },
      "outputs": [],
      "source": [
        "import pickle\n",
        "\n",
        "reloaded = pickle.loads(pickle.dumps(config))\n",
        "assert reloaded is not config, \"Reloaded object should not be identical\"\n",
        "assert reloaded == config, \"Reloaded object should be the same by __eq__\""
      ]
    },
    {
      "cell_type": "markdown",
      "metadata": {
        "id": "xbfPC3tB3lQ1"
      },
      "source": [
        "Since `fdl.Config` objects are mutable, they are not hashable. If you would like\n",
        "to put them in a dictionary, please hash their IDs."
      ]
    },
    {
      "cell_type": "code",
      "execution_count": 38,
      "metadata": {
        "colab": {
          "height": 34
        },
        "executionInfo": {
          "elapsed": 61,
          "status": "ok",
          "timestamp": 1692835095390,
          "user": {
            "displayName": "",
            "userId": ""
          },
          "user_tz": 420
        },
        "id": "qR8u7BEl3yT9",
        "outputId": "18c2f8d5-f752-4f2c-d6d1-0f0d7888e6cd"
      },
      "outputs": [
        {
          "data": {
            "text/html": [
              "\u003cspan style=\"color: red\"\u003eTypeError: unhashable type: 'Config'\u003c/span\u003e"
            ],
            "text/plain": [
              "\u003cIPython.core.display.HTML object\u003e"
            ]
          },
          "metadata": {},
          "output_type": "display_data"
        }
      ],
      "source": [
        "try:\n",
        "  hash(config)\n",
        "except TypeError as e:\n",
        "  display(HTML(f'\u003cspan style=\"color: red\"\u003eTypeError: {e}\u003c/span\u003e'))\n",
        "else:\n",
        "  raise AssertionError(\"This should raise an error!\")"
      ]
    },
    {
      "cell_type": "markdown",
      "metadata": {
        "id": "IwRlF3gV38Ba"
      },
      "source": [
        "## Internal details\n",
        "\n",
        "Please do not access private fields of `fdl.Config` objects, but for building\n",
        "your mental model, you can think of these objects as maintaining a reference to\n",
        "the class/function being configured, and their arguments,"
      ]
    },
    {
      "cell_type": "code",
      "execution_count": 39,
      "metadata": {
        "executionInfo": {
          "elapsed": 58,
          "status": "ok",
          "timestamp": 1692835095607,
          "user": {
            "displayName": "",
            "userId": ""
          },
          "user_tz": 420
        },
        "id": "znQm0sYf4N23",
        "outputId": "df0423ea-4ea8-48da-84e9-b003a585c5ea"
      },
      "outputs": [
        {
          "name": "stdout",
          "output_type": "stream",
          "text": [
            "Function configured: \u003cclass '__main__.Bar'\u003e\n",
            "Arguments: {'x': \u003cConfig[FooWithId(a=4)]\u003e, 'y': [\u003cConfig[FooWithId(a=4)]\u003e]}\n"
          ]
        }
      ],
      "source": [
        "print(\"Function configured:\", config.__fn_or_cls__)\n",
        "print(\"Arguments:\", config.__arguments__)"
      ]
    },
    {
      "cell_type": "markdown",
      "metadata": {
        "id": "CWwB4vYg4TgK"
      },
      "source": [
        "As such, Fiddle objects have been designed to behave like one would expect\n",
        "Python objects to behave. For example, although we discourage it, you could\n",
        "configure a function created in a closure,"
      ]
    },
    {
      "cell_type": "code",
      "execution_count": 40,
      "metadata": {
        "executionInfo": {
          "elapsed": 1,
          "status": "ok",
          "timestamp": 1692835095794,
          "user": {
            "displayName": "",
            "userId": ""
          },
          "user_tz": 420
        },
        "id": "U9tYdXzX4Z9g"
      },
      "outputs": [],
      "source": [
        "def make_configured(x):\n",
        "\n",
        "  def inner(y):\n",
        "    return x + y\n",
        "\n",
        "  return fdl.Config(inner, y=1)\n",
        "\n",
        "\n",
        "config1 = make_configured(3)\n",
        "config2 = make_configured(4)\n",
        "\n",
        "assert fdl.build(config1) == 3 + 1\n",
        "assert fdl.build(config2) == 4 + 1"
      ]
    },
    {
      "cell_type": "markdown",
      "metadata": {
        "id": "hxIPc49x48w-"
      },
      "source": [
        "However, using Fiddle in such ways will likely break serialization, and will be\n",
        "more difficult to debug."
      ]
    }
  ],
  "metadata": {
    "colab": {
      "last_runtime": {
        
        "kind": "private"
      },
      "name": "Fiddle Basic API Colab",
      "provenance": [
        {
          "file_id": "1s-QXsWN3ROr5XQXDS1rGNHgXAiTAoGh0",
          "timestamp": 1642018124937
        }
      ],
      "toc_visible": true
    },
    "kernelspec": {
      "display_name": "Python 3",
      "name": "python3"
    },
    "language_info": {
      "name": "python"
    }
  },
  "nbformat": 4,
  "nbformat_minor": 0
}
