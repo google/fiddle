{
  "cells": [
    {
      "cell_type": "markdown",
      "metadata": {
        "id": "IGSumo_TfR5p"
      },
      "source": [
        "# Fiddle Basic API\n",
        "\n",
        "*Please see https://github.com/google/fiddle/blob/main/docs/colabs.md for other colabs.*\n",
        "\n",
        "This colab walks through the core Fiddle abstractions and how they work."
      ]
    },
    {
      "cell_type": "code",
      "execution_count": null,
      "metadata": {
        "id": "ggm20mtNfHkl"
      },
      "outputs": [],
      "source": [
        "import copy\n",
        "import dataclasses\n",
        "from typing import List\n",
        "\n",
        "from IPython.core.display import display, HTML\n",
        "!pip install fiddle\n",
        "\n",
        "\n",
        "import fiddle as fdl"
      ]
    },
    {
      "cell_type": "markdown",
      "metadata": {
        "id": "TZYz_AF3fgwA"
      },
      "source": [
        "## `fdl.Config`\n",
        "\n",
        "The most common API for Fiddle is the `fdl.Config` type. `fdl.Config`s\n",
        "correspond to a call to a function or class. (For classes, calling the class\n",
        "creates a class instance.)"
      ]
    },
    {
      "cell_type": "code",
      "execution_count": null,
      "metadata": {
        "id": "ULim859nfVqA"
      },
      "outputs": [],
      "source": [
        "@dataclasses.dataclass\n",
        "class Foo:\n",
        "  a: int\n",
        "\n",
        "\n",
        "config = fdl.Config(Foo, a=2)\n",
        "fdl.build(config)"
      ]
    },
    {
      "cell_type": "markdown",
      "metadata": {
        "id": "EgniPDhSoSHo"
      },
      "source": [
        "`fdl.Config` stores two key things:\n",
        "\n",
        "*   A reference to the function or class to call\n",
        "*   Arguments to call it with\n",
        "\n",
        "The key affordance of Fiddle is that the arguments are mutable, and can\n",
        "themselves contain sub-configuration. Let's first look at the mutability:"
      ]
    },
    {
      "cell_type": "code",
      "execution_count": null,
      "metadata": {
        "id": "1TYVpIdcoRth"
      },
      "outputs": [],
      "source": [
        "config.a = 3\n",
        "fdl.build(config)"
      ]
    },
    {
      "cell_type": "markdown",
      "metadata": {
        "id": "oLczs-FOo9S1"
      },
      "source": [
        "These arguments can be retrieved as well. For example, you can double a value in\n",
        "an existing configuration like so,"
      ]
    },
    {
      "cell_type": "code",
      "execution_count": null,
      "metadata": {
        "id": "a9JPX_xspEot"
      },
      "outputs": [],
      "source": [
        "config.a = 2 * config.a\n",
        "fdl.build(config)"
      ]
    },
    {
      "cell_type": "markdown",
      "metadata": {
        "id": "hMqO1G3WpHbx"
      },
      "source": [
        "### Nested configuration\n",
        "\n",
        "Let's look at the case when arguments themselves contain sub-configs,"
      ]
    },
    {
      "cell_type": "code",
      "execution_count": null,
      "metadata": {
        "id": "iLqyt9kfoBQ3"
      },
      "outputs": [],
      "source": [
        "@dataclasses.dataclass\n",
        "class Bar:\n",
        "  x: Foo\n",
        "  y: List[Foo]\n",
        "\n",
        "\n",
        "foo_config = fdl.Config(Foo, a=1)\n",
        "config = fdl.Config(Bar, foo_config, [foo_config])\n",
        "bar = fdl.build(config)\n",
        "bar"
      ]
    },
    {
      "cell_type": "markdown",
      "metadata": {
        "id": "jCQ9dAZApk2Z"
      },
      "source": [
        "One key thing that Fiddle provides is the ability to have shared instances. Each\n",
        "`fdl.Config` object corresponds to a single call during `build`. So, in the\n",
        "above case, the `Foo` objects are actually the same,"
      ]
    },
    {
      "cell_type": "code",
      "execution_count": null,
      "metadata": {
        "id": "P3jM5arspjyn"
      },
      "outputs": [],
      "source": [
        "bar.x is bar.y[0]"
      ]
    },
    {
      "cell_type": "markdown",
      "metadata": {
        "id": "Me-0LNcyapsp"
      },
      "source": [
        "If you don't want these to be the same instance, you can copy `foo_config`;\n",
        "please see the \"Copying configuration\" section below."
      ]
    },
    {
      "cell_type": "markdown",
      "metadata": {
        "id": "vFqWr5PPqiou"
      },
      "source": [
        "### Setting and retrieving parameters\n",
        "\n",
        "Setting an unknown attribute will raise an error,"
      ]
    },
    {
      "cell_type": "code",
      "execution_count": null,
      "metadata": {
        "id": "yWJfRLTlqiKV"
      },
      "outputs": [],
      "source": [
        "try:\n",
        "  foo_config.qux = 4\n",
        "except AttributeError as e:\n",
        "  display(HTML(f'\u003cspan style=\"color: red\"\u003eTypeError: {e}\u003c/span\u003e'))\n",
        "else:\n",
        "  raise AssertionError(\"This should raise an error!\")"
      ]
    },
    {
      "cell_type": "markdown",
      "metadata": {
        "id": "pWrGdZHRp4Uo"
      },
      "source": [
        "Configuring `**kwargs` arguments are supported,"
      ]
    },
    {
      "cell_type": "code",
      "execution_count": null,
      "metadata": {
        "id": "Ok_k71NdqBH8"
      },
      "outputs": [],
      "source": [
        "def args_and_kwargs(a, *args, **kwargs):\n",
        "  return a, args, kwargs\n",
        "\n",
        "\n",
        "config = fdl.Config(args_and_kwargs, a=4, b=12)\n",
        "fdl.build(config)"
      ]
    },
    {
      "cell_type": "markdown",
      "metadata": {
        "id": "y7hy19uPyupW"
      },
      "source": [
        "### Positional Arguments\n",
        "\n",
        "If the class/function has positional arguments, they can be easily accessed through the `[]` syntax, just like normal Python `list`.\n",
        "\n",
        "If an argument does not have an assigned value, its default value will be returned when reading the config. If no default value exists, the value will be returned as a special sentinel `fdl.NO_VALUE`.\n",
        "\n",
        "`fdl.VARARGS` is a special API that represents the start index of variadic positional arguments. See the example below."
      ]
    },
    {
      "cell_type": "code",
      "execution_count": null,
      "metadata": {
        "id": "rnrTFDbOyw4o"
      },
      "outputs": [],
      "source": [
        "def positional_fn(a, b='b', /, c='c', *args):\n",
        "  return locals()\n",
        "\n",
        "p_config = fdl.Config(positional_fn, 1, 2, 3, 4, 5)\n",
        "\n",
        "# Read\n",
        "assert p_config[0] == 1\n",
        "assert p_config[:] == [1, 2, 3, 4, 5]\n",
        "\n",
        "# Modify\n",
        "p_config[0] = 'a'\n",
        "p_config.c = 'c'\n",
        "\n",
        "# `fdl.VARARGS` represent the start index of variadic positional args (*args)\n",
        "p_config[fdl.VARARGS:] = ['x', 'y']\n",
        "assert p_config[:] == ['a', 2, 'c', 'x', 'y']\n",
        "\n",
        "# Delete\n",
        "del p_config[fdl.VARARGS:]\n",
        "assert p_config[:] == ['a', 2, 'c']\n",
        "\n",
        "del p_config[0]\n",
        "assert p_config[:] == [fdl.NO_VALUE, 2, 'c']\n",
        "\n",
        "del p_config[1]\n",
        "assert p_config[:] == [fdl.NO_VALUE, 'b', 'c']"
      ]
    },
    {
      "cell_type": "markdown",
      "metadata": {
        "id": "xyxUU8hvywji"
      },
      "source": [
        "NOTE: If using `slice` as key for modifying the config, and the `slice` spans over positional-only or positional-or-keyword arguments, the provided value must have the same length as that of the slice range."
      ]
    },
    {
      "cell_type": "code",
      "execution_count": null,
      "metadata": {
        "id": "Me0dGIzAywYD"
      },
      "outputs": [],
      "source": [
        "assert len(p_config[:]) == 3\n",
        "\n",
        "# slice `[:]` represents indices [0, 1, 2] here, and it spans over non-variadic\n",
        "# positional arguments. But the value has length of 6. So this operation is\n",
        "# illegal.\n",
        "try:\n",
        "  p_config[:] = [1, 2, 3, 4, 5, 6]\n",
        "except ValueError as e:\n",
        "  display(HTML(f'\u003cspan style=\"color: red\"\u003eValueError: {e}\u003c/span\u003e'))\n",
        "\n",
        "# To achieve the same purpose, modify variadic positional args separately.\n",
        "p_config[:fdl.VARARGS] = [1, 2, 3]\n",
        "p_config[fdl.VARARGS:] = [4, 5, 6]\n",
        "assert p_config[:] == [1, 2, 3, 4, 5, 6]"
      ]
    },
    {
      "cell_type": "markdown",
      "metadata": {
        "id": "N85DOGNV1L98"
      },
      "source": [
        "NOTE: Directly calling `list` methods like `append` and `extend` is not supported, and will not mutate the config. Like with Python lists, slice operations on Configs effectively create a copy of the underlying sequence.\n"
      ]
    },
    {
      "cell_type": "code",
      "execution_count": null,
      "metadata": {
        "id": "6tKlAe9N1O7t"
      },
      "outputs": [],
      "source": [
        "p_config[:].append(7)\n",
        "assert p_config[:] == [1, 2, 3, 4, 5, 6]\n",
        "\n",
        "# A workaround to use `list` methods\n",
        "var_args = p_config[fdl.VARARGS:]  # Build a new list\n",
        "assert var_args == [4, 5, 6]\n",
        "# Make some modifications\n",
        "var_args.pop()\n",
        "var_args.append('x')\n",
        "p_config[fdl.VARARGS:] = var_args\n",
        "assert p_config[fdl.VARARGS:] == [4, 5, 'x']"
      ]
    },
    {
      "cell_type": "markdown",
      "metadata": {
        "id": "QusHyHa7rfS6"
      },
      "source": [
        "### Type annotations\n",
        "\n",
        "The `fdl.Config` type can take a type parameter, which indicates the output type\n",
        "of the function or class being configured."
      ]
    },
    {
      "cell_type": "code",
      "execution_count": null,
      "metadata": {
        "id": "cVH_mYCFrqvB"
      },
      "outputs": [],
      "source": [
        "foo_config: fdl.Config[Foo] = fdl.Config(Foo, 1)"
      ]
    },
    {
      "cell_type": "markdown",
      "metadata": {
        "id": "n-xlm5struLx"
      },
      "source": [
        "A call to `fdl.build(foo_config)` correctly hints its output type as `Foo`,\n",
        "which helps static type checkers.\n",
        "\n",
        "In the future, we might check argument types, but this is not currently\n",
        "available. (Unfortunately, standard Python type tooling is insufficiently\n",
        "powerful to express the types precisely.) So you can currently write\n",
        "`fdl.Config(Foo, \"string_not_int\")`."
      ]
    },
    {
      "cell_type": "markdown",
      "metadata": {
        "id": "WOd08R7hfqv0"
      },
      "source": [
        "## `fdl.Partial`\n",
        "\n",
        "Let's say you have a checkpointer which takes the current train state and number\n",
        "of steps. This might not be exactly the API you would create if you intended to\n",
        "use Fiddle from the beginning, but Fiddle is designed to be able to configure\n",
        "existing classes."
      ]
    },
    {
      "cell_type": "code",
      "execution_count": null,
      "metadata": {
        "id": "akalsyx9fpuK"
      },
      "outputs": [],
      "source": [
        "from typing import Any\n",
        "import dataclasses\n",
        "\n",
        "\n",
        "@dataclasses.dataclass\n",
        "class Checkpointer:\n",
        "  train_state: Any\n",
        "  num_steps: int\n",
        "  base_directory: str\n",
        "  checkpoints_to_keep: int\n",
        "\n",
        "  def clear_old_checkpoints(self):\n",
        "    print(\"  Clearing checkpoints to limit to\", self.checkpoints_to_keep,\n",
        "          \"checkpoints\")\n",
        "\n",
        "  def save(self):\n",
        "    self.clear_old_checkpoints()\n",
        "    print(\"  Saved to\", self.base_directory, \"at num_steps =\", self.num_steps)\n",
        "\n",
        "\n",
        "@dataclasses.dataclass\n",
        "class Trainer:\n",
        "  checkpointer_cls: Any\n",
        "  num_steps: int = dataclasses.field(default=0)\n",
        "\n",
        "  def train_epoch(self, epoch_steps: int):\n",
        "    print(\"Training for one epoch ...\")\n",
        "    train_state = None\n",
        "    self.num_steps += epoch_steps\n",
        "    self.checkpointer_cls(\n",
        "        train_state=train_state, num_steps=self.num_steps).save()"
      ]
    },
    {
      "cell_type": "markdown",
      "metadata": {
        "id": "ZDe2DeAZihlY"
      },
      "source": [
        "Then let's say you want to configure the `base_directory` and\n",
        "`checkpoints_to_keep` parameters, and let the `train_state` and `num_steps`\n",
        "parameters be set by caller code at runtime. Then we can create a `fdl.Partial`\n",
        "object to represent the `checkpointer_cls`,"
      ]
    },
    {
      "cell_type": "code",
      "execution_count": null,
      "metadata": {
        "id": "CMijtc5UigpA"
      },
      "outputs": [],
      "source": [
        "def trainer_config() -\u003e fdl.Config:\n",
        "  checkpointer_config = fdl.Partial(\n",
        "      Checkpointer, base_directory=\"/path/to/my/dir\", checkpoints_to_keep=5)\n",
        "  return fdl.Config(Trainer, checkpointer_cls=checkpointer_config)\n",
        "\n",
        "\n",
        "config = trainer_config()\n",
        "\n",
        "# Experimental overrides can be applied as normal.\n",
        "config.checkpointer_cls.checkpoints_to_keep = 10\n",
        "\n",
        "# The trainer can be built, and we can mock-train two epochs.\n",
        "trainer = fdl.build(config)\n",
        "trainer.train_epoch(10)\n",
        "trainer.train_epoch(20)"
      ]
    },
    {
      "cell_type": "markdown",
      "metadata": {
        "id": "CDaAAJ-9s18l"
      },
      "source": [
        "When built, the `checkpointer_cls` becomes a `functools.partial` instance, partially specifying the arguments for `Checkpointer`:"
      ]
    },
    {
      "cell_type": "code",
      "execution_count": null,
      "metadata": {
        "id": "BTHGCbQkl7Kr"
      },
      "outputs": [],
      "source": [
        "fdl.build(config.checkpointer_cls)"
      ]
    },
    {
      "cell_type": "markdown",
      "metadata": {
        "id": "ajPyaG1Sv06D"
      },
      "source": [
        "`fdl.Partial` can also be called on functions:"
      ]
    },
    {
      "cell_type": "code",
      "execution_count": null,
      "metadata": {
        "id": "pANhzL74vzdN"
      },
      "outputs": [],
      "source": [
        "def foo(a, b):\n",
        "  return a + b\n",
        "\n",
        "\n",
        "foo_partial = fdl.build(fdl.Partial(foo, a=1))\n",
        "foo_partial(b=2)"
      ]
    },
    {
      "cell_type": "markdown",
      "metadata": {
        "id": "970ar9o0fx6Q"
      },
      "source": [
        "## Building configuration (`fdl.build`): anti-patterns to avoid\n",
        "\n",
        "As you've seen before, `fdl.build` is the core function creating actual classes\n",
        "from their configuration.\n",
        "\n",
        "A key affordance is that when used properly, built objects have any\n",
        "configuration \"closured\" in. So that if the configuration is ever mutated later,\n",
        "then the built objects are not changed. To demonstrate:"
      ]
    },
    {
      "cell_type": "code",
      "execution_count": null,
      "metadata": {
        "id": "Wc4Y8ZWufxRg"
      },
      "outputs": [],
      "source": [
        "def foo(a):\n",
        "  return a\n",
        "\n",
        "\n",
        "config = fdl.Partial(foo, a=1)\n",
        "foo_partial = fdl.build(config)\n",
        "config.a = 4\n",
        "foo_partial()"
      ]
    },
    {
      "cell_type": "markdown",
      "metadata": {
        "id": "F1wZNYv5xanM"
      },
      "source": [
        "We strongly encourage `fdl.build` to be a single transition point from\n",
        "configuration to built objects. Returning `fdl.Config` objects as the output of\n",
        "a function being configured is discouraged. Further, calling `fdl.build` within\n",
        "a `fdl.build` call will raise an error,"
      ]
    },
    {
      "cell_type": "code",
      "execution_count": null,
      "metadata": {
        "id": "EgndDevGxyir"
      },
      "outputs": [],
      "source": [
        "def bar():\n",
        "  sub_config = fdl.Config(foo, a=1)\n",
        "  return fdl.build(sub_config)\n",
        "\n",
        "try:\n",
        "  fdl.build(fdl.Config(bar))\n",
        "except Exception as e:\n",
        "  error_message = str(e).replace(\"\\n\", \"\u003cbr/\u003e\")\n",
        "  display(HTML(f'\u003cspan style=\"color: red\"\u003e{type(e).__name__}: {error_message}\u003c/span\u003e'))\n",
        "else:\n",
        "  raise AssertionError(\"This should raise an error!\")"
      ]
    },
    {
      "cell_type": "markdown",
      "metadata": {
        "id": "TbcEXioa1e_M"
      },
      "source": [
        "When errors are raised, one \"path\" from the root config to the\n",
        "callable which raised the error is added to the error message. This\n",
        "can help debug configurations."
      ]
    },
    {
      "cell_type": "code",
      "execution_count": null,
      "metadata": {
        "id": "IfKRmp1NzKB9"
      },
      "outputs": [],
      "source": [
        "def my_error_function(a) -\u003e Foo:\n",
        "  raise ValueError(\"Error!\")\n",
        "\n",
        "foo_config = fdl.Config(Foo, a=1)\n",
        "config = fdl.Config(Bar, foo_config, [foo_config, fdl.Config(my_error_function, a=7)])\n",
        "try:\n",
        "  fdl.build(config)\n",
        "except Exception as e:\n",
        "  error_message = str(e).replace(\"\\n\", \"\u003cbr/\u003e\")\n",
        "  display(HTML(f'\u003cspan style=\"color: red\"\u003e{type(e).__name__}: {error_message}\u003c/span\u003e'))\n",
        "\n",
        "else:\n",
        "  raise AssertionError(\"This should raise an error!\")"
      ]
    },
    {
      "cell_type": "markdown",
      "metadata": {
        "id": "MOI7H3PNztsh"
      },
      "source": [
        "## Copying configuration\n",
        "\n",
        "`fdl.Config` and `fdl.Partial` objects can be shallow-copied by just calling\n",
        "`copy.copy`, or `fdl.Config`/`fdl.Partial` with an existing config,"
      ]
    },
    {
      "cell_type": "code",
      "execution_count": null,
      "metadata": {
        "id": "tgjrsdKjz_AY"
      },
      "outputs": [],
      "source": [
        "def foo(a, b):\n",
        "  return a, b\n",
        "\n",
        "\n",
        "config = fdl.Config(foo, a=\"a\", b=\"original_b\")\n",
        "config2 = copy.copy(config)  # Alternate: fdl.Config(config)\n",
        "config2.b = \"new_b\"\n",
        "print(\"Original:\", fdl.build(config))\n",
        "print(\"Shallow copy:\", fdl.build(config2))"
      ]
    },
    {
      "cell_type": "markdown",
      "metadata": {
        "id": "aYXNxxxo16Gu"
      },
      "source": [
        "Deep copies are also supported, with the expected semantic that shared objects\n",
        "are copied, but still shared."
      ]
    },
    {
      "cell_type": "code",
      "execution_count": null,
      "metadata": {
        "id": "xDsXkKcg2GTB"
      },
      "outputs": [],
      "source": [
        "@dataclasses.dataclass\n",
        "class FooWithId(Foo):\n",
        "\n",
        "  def __repr__(self):\n",
        "    return f\"Foo\u003c{id(self)}\u003e(a={self.a})\"\n",
        "\n",
        "\n",
        "foo_config = fdl.Config(FooWithId, a=1)\n",
        "config = fdl.Config(Bar, foo_config, [foo_config])\n",
        "config2 = copy.copy(config)\n",
        "config3 = copy.deepcopy(config)\n",
        "\n",
        "# Change the original sub-object.\n",
        "foo_config.a = 4\n",
        "\n",
        "print(\"Original:\", fdl.build(config))\n",
        "\n",
        "# This reflects the post-copy change to `foo_config.a`.\n",
        "print(\"Shallow copy:\", fdl.build(config2))\n",
        "\n",
        "# This has the original value for `foo_config.a`.\n",
        "print(\"Deep copy:\", fdl.build(config3))"
      ]
    },
    {
      "cell_type": "markdown",
      "metadata": {
        "id": "WaITrqjGmsur"
      },
      "source": [
        "In general, we advise users to use `copy.deepcopy`, unless they intend to share\n",
        "sub-configs with the original object."
      ]
    },
    {
      "cell_type": "markdown",
      "metadata": {
        "id": "iztpbIAe2wCi"
      },
      "source": [
        "## Serialization, equality, and hashing\n",
        "\n",
        "We'll introduce serialization in more depth later, but please note that\n",
        "`fdl.Config` objects are pickleable. Also, an `__eq__` operator for `Config`\n",
        "works as expected. But we mostly suggest using `__eq__` in unit tests, since it\n",
        "is plausible that two configurations may produce the same object, but have\n",
        "different expressions (e.g. `fdl.Config(lambda x: x, 1)` can be used in place of\n",
        "`1`)."
      ]
    },
    {
      "cell_type": "code",
      "execution_count": null,
      "metadata": {
        "id": "b73fCnOn24IE"
      },
      "outputs": [],
      "source": [
        "import pickle\n",
        "\n",
        "reloaded = pickle.loads(pickle.dumps(config))\n",
        "assert reloaded is not config, \"Reloaded object should not be identical\"\n",
        "assert reloaded == config, \"Reloaded object should be the same by __eq__\""
      ]
    },
    {
      "cell_type": "markdown",
      "metadata": {
        "id": "xbfPC3tB3lQ1"
      },
      "source": [
        "Since `fdl.Config` objects are mutable, they are not hashable. If you would like\n",
        "to put them in a dictionary, please hash their IDs."
      ]
    },
    {
      "cell_type": "code",
      "execution_count": null,
      "metadata": {
        "id": "qR8u7BEl3yT9"
      },
      "outputs": [],
      "source": [
        "try:\n",
        "  hash(config)\n",
        "except TypeError as e:\n",
        "  display(HTML(f'\u003cspan style=\"color: red\"\u003eTypeError: {e}\u003c/span\u003e'))\n",
        "else:\n",
        "  raise AssertionError(\"This should raise an error!\")"
      ]
    },
    {
      "cell_type": "markdown",
      "metadata": {
        "id": "IwRlF3gV38Ba"
      },
      "source": [
        "## Internal details\n",
        "\n",
        "Please do not access private fields of `fdl.Config` objects, but for building\n",
        "your mental model, you can think of these objects as maintaining a reference to\n",
        "the class/function being configured, and their arguments,"
      ]
    },
    {
      "cell_type": "code",
      "execution_count": null,
      "metadata": {
        "id": "znQm0sYf4N23"
      },
      "outputs": [],
      "source": [
        "print(\"Function configured:\", config.__fn_or_cls__)\n",
        "print(\"Arguments:\", config.__arguments__)"
      ]
    },
    {
      "cell_type": "markdown",
      "metadata": {
        "id": "CWwB4vYg4TgK"
      },
      "source": [
        "As such, Fiddle objects have been designed to behave like one would expect\n",
        "Python objects to behave. For example, although we discourage it, you could\n",
        "configure a function created in a closure,"
      ]
    },
    {
      "cell_type": "code",
      "execution_count": null,
      "metadata": {
        "id": "U9tYdXzX4Z9g"
      },
      "outputs": [],
      "source": [
        "def make_configured(x):\n",
        "\n",
        "  def inner(y):\n",
        "    return x + y\n",
        "\n",
        "  return fdl.Config(inner, y=1)\n",
        "\n",
        "\n",
        "config1 = make_configured(3)\n",
        "config2 = make_configured(4)\n",
        "\n",
        "assert fdl.build(config1) == 3 + 1\n",
        "assert fdl.build(config2) == 4 + 1"
      ]
    },
    {
      "cell_type": "markdown",
      "metadata": {
        "id": "hxIPc49x48w-"
      },
      "source": [
        "However, using Fiddle in such ways will likely break serialization, and will be\n",
        "more difficult to debug."
      ]
    }
  ],
  "metadata": {
    "colab": {
      "last_runtime": {
        
        "kind": "private"
      },
      "name": "Fiddle Basic API Colab",
      "provenance": [
        {
          "file_id": "1s-QXsWN3ROr5XQXDS1rGNHgXAiTAoGh0",
          "timestamp": 1642018124937
        }
      ],
      "toc_visible": true
    },
    "kernelspec": {
      "display_name": "Python 3",
      "name": "python3"
    },
    "language_info": {
      "name": "python"
    }
  },
  "nbformat": 4,
  "nbformat_minor": 0
}
