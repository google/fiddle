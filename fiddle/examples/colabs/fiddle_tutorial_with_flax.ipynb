{
  "cells": [
    {
      "cell_type": "markdown",
      "metadata": {
        "id": "arycElbn-gk7"
      },
      "source": [
        "# Fiddle Tutorial\n",
        "\n",
        "This colab walks through how to use Fiddle, using Flax and JAX as a motivating example. This tutorial includes an overview of the key Fiddle APIs, best practices, as well as a few tips/tricks.\n",
        "\n",
        "**Important note**: Fiddle has no dependency on Flax or JAX and can be used with arbitrary other Python libraries (TensorFlow, PyTorch, Lingvo, or even non-machine-learning libraries such as Flask). We just find that Fiddle happens to work especially well for machine learning applications, which tend to have a lot of hyperparameters---often nested in complex ways---with strict reproduciblity standards."
      ]
    },
    {
      "cell_type": "markdown",
      "metadata": {
        "id": "E2AM3bRspe0Y"
      },
      "source": [
        "\u003e Note to the reader: use the outline feature in Colab to easily navigate between the different sections of this tutorial."
      ]
    },
    {
      "cell_type": "markdown",
      "metadata": {
        "id": "clAaVdLF-ndS"
      },
      "source": [
        "## Imports\n",
        "\n",
        "We first import Fiddle, and then JAX and Flax as normal. Nothing special here..."
      ]
    },
    {
      "cell_type": "code",
      "execution_count": null,
      "metadata": {
        "id": "33zel0HX-u0M"
      },
      "outputs": [],
      "source": [
        "!pip install fiddle\n",
        "\n",
        "import fiddle as fdl"
      ]
    },
    {
      "cell_type": "code",
      "execution_count": null,
      "metadata": {
        "id": "u33H6p-n-fce"
      },
      "outputs": [],
      "source": [
        "import jax\n",
        "import jax.numpy as jnp\n",
        "import flax.linen as nn"
      ]
    },
    {
      "cell_type": "markdown",
      "metadata": {
        "id": "aHQ29dv8KvWc"
      },
      "source": [
        "## Building a Model\n",
        "\n",
        "Here, we use JAX and Flax to define our working example. When starting out in a new codebase, we recommend _not_ using Fiddle. Instead, just write your code \"normally\"; Fiddle is designed to be gradually added to a codebase when the codebase has scaled (either in size or in number of concurrent users) to justify adding the dependency.\n",
        "\n",
        "\u003e This Fiddle design principle is related to the concept of \"progressive disclosure of complexity\", where you only need to pay for conceptual overhead when it is a worthwhile tradeoff."
      ]
    },
    {
      "cell_type": "code",
      "execution_count": null,
      "metadata": {
        "id": "7sxFxIlNLTM8"
      },
      "outputs": [],
      "source": [
        "class MySimpleClassifierModel(nn.Module):\n",
        "  # Just a standard Flax module; nothing special to see here.\n",
        "\n",
        "  # Note: instead of instantiating child modules in `__init__` or `setup`, we\n",
        "  # simply ask for them to be provided by the caller. While this is not strictly\n",
        "  # necessary, this enables additonal flexibility in the future.\n",
        "  dense1: nn.Dense\n",
        "  dropout: nn.Dropout\n",
        "  dense2: nn.Dense\n",
        "\n",
        "  def __call__(self, x):\n",
        "    x = self.dense1(x)\n",
        "    x = jax.nn.relu(x)\n",
        "    x = self.dropout(x)\n",
        "    x = self.dense2(x)\n",
        "    return x"
      ]
    },
    {
      "cell_type": "code",
      "execution_count": null,
      "metadata": {
        "executionInfo": {
          "elapsed": 4,
          "status": "ok",
          "timestamp": 1639679450698,
          "user": {
            "displayName": "",
            "photoUrl": "",
            "userId": ""
          },
          "user_tz": 480
        },
        "id": "4ySaBWipL4Jk",
        "outputId": "e8abd6a6-6bb3-4d4a-8a89-62c9f3518115"
      },
      "outputs": [
        {
          "data": {
            "text/plain": [
              "MySimpleClassifierModel(\n",
              "    # attributes\n",
              "    dense1 = Dense(\n",
              "        # attributes\n",
              "        features = 10\n",
              "        use_bias = True\n",
              "        dtype = float32\n",
              "        precision = None\n",
              "        kernel_init = init\n",
              "        bias_init = zeros\n",
              "    )\n",
              "    dropout = Dropout(\n",
              "        # attributes\n",
              "        rate = 0.3\n",
              "        broadcast_dims = ()\n",
              "        deterministic = None\n",
              "    )\n",
              "    dense2 = Dense(\n",
              "        # attributes\n",
              "        features = 1\n",
              "        use_bias = True\n",
              "        dtype = float32\n",
              "        precision = None\n",
              "        kernel_init = init\n",
              "        bias_init = zeros\n",
              "    )\n",
              ")"
            ]
          },
          "execution_count": 4,
          "metadata": {},
          "output_type": "execute_result"
        }
      ],
      "source": [
        "# Use our module _without_ Fiddle\n",
        "def make_model():\n",
        "  return MySimpleClassifierModel(\n",
        "      dense1 = nn.Dense(features=10),\n",
        "      dropout = nn.Dropout(rate=0.3),\n",
        "      dense2 = nn.Dense(features=1),\n",
        "  )\n",
        "\n",
        "model = make_model()\n",
        "model"
      ]
    },
    {
      "cell_type": "markdown",
      "metadata": {
        "id": "v5WzzFcEOpu3"
      },
      "source": [
        "## Adding Fiddle\n",
        "\n",
        "While the motivating code is perfectly usable as-is (and can be easily edited as needed to try alternative experiments), it will eventually become cumbersome to try myriad experiments to tune hyperparameters (e.g. the dropout rate, or the intermediate sizes of dense layers) when working with multiple collaborators.\n",
        "\n",
        "Instead, we will add Fiddle to make it easy to _fiddle_ with the hyperparmaters. You can set parameters in a variety of ways (using property notation, kwargs, or positional arguments), as demonstrated below."
      ]
    },
    {
      "cell_type": "code",
      "execution_count": null,
      "metadata": {
        "id": "CD0iva6FPYhb"
      },
      "outputs": [],
      "source": [
        "# Rewrite `make_model` to return a `fdl.Config` instead.\n",
        "def make_model_config():\n",
        "  dense1 = fdl.Config(nn.Dense)\n",
        "  dense1.features = 10  # Set values using property notation.\n",
        "  dropout = fdl.Config(nn.Dropout, rate=0.3)  # Works via kwargs too.\n",
        "  dense2 = fdl.Config(nn.Dense, 1)  # Positional arguments also work!\n",
        "  return fdl.Config(MySimpleClassifierModel, dense1, dropout, dense2)"
      ]
    },
    {
      "cell_type": "markdown",
      "metadata": {
        "id": "Qs_XsuI_KCEv"
      },
      "source": [
        "\u003e Note: You can use `fiddle.experimental.auto_config` to avoid rewriting `make_model`. Please see the [`auto_config` tutorial][auto_config] for more details.\n",
        "\n",
        "[auto_config]: https://colab.sandbox.google.com/github/google/fiddle/blob/main/fiddle/examples/colabs/auto_config.ipynb"
      ]
    },
    {
      "cell_type": "markdown",
      "metadata": {
        "id": "v0x1aDeXP0ns"
      },
      "source": [
        "### Using your Fiddle Config\n",
        "\n",
        "Once you have a Fiddle `Config`, you can either mutate it, or call `fdl.build` to instantiate (recursively) configured objects."
      ]
    },
    {
      "cell_type": "code",
      "execution_count": null,
      "metadata": {
        "executionInfo": {
          "elapsed": 54,
          "status": "ok",
          "timestamp": 1639679451106,
          "user": {
            "displayName": "",
            "photoUrl": "",
            "userId": ""
          },
          "user_tz": 480
        },
        "id": "QxHL6W6zP0ID",
        "outputId": "e6093331-7b81-4411-892d-099bf185b143"
      },
      "outputs": [
        {
          "data": {
            "text/plain": [
              "MySimpleClassifierModel(\n",
              "    # attributes\n",
              "    dense1 = Dense(\n",
              "        # attributes\n",
              "        features = 10\n",
              "        use_bias = True\n",
              "        dtype = float32\n",
              "        precision = None\n",
              "        kernel_init = init\n",
              "        bias_init = zeros\n",
              "    )\n",
              "    dropout = Dropout(\n",
              "        # attributes\n",
              "        rate = 0.3\n",
              "        broadcast_dims = ()\n",
              "        deterministic = True\n",
              "    )\n",
              "    dense2 = Dense(\n",
              "        # attributes\n",
              "        features = 1\n",
              "        use_bias = True\n",
              "        dtype = float32\n",
              "        precision = None\n",
              "        kernel_init = init\n",
              "        bias_init = zeros\n",
              "    )\n",
              ")"
            ]
          },
          "execution_count": 6,
          "metadata": {},
          "output_type": "execute_result"
        }
      ],
      "source": [
        "cfg = make_model_config()\n",
        "cfg.dropout.deterministic = True\n",
        "model = fdl.build(cfg)\n",
        "model"
      ]
    },
    {
      "cell_type": "markdown",
      "metadata": {
        "id": "KJoyNLzPAYws"
      },
      "source": [
        "### Use it like normal\n",
        "\n",
        "Once you've called `fdl.build` you now have a normal object with no references to `fdl` whatsoever. We thus have a normal Flax module that can be `init`'d and `apply`'d."
      ]
    },
    {
      "cell_type": "code",
      "execution_count": null,
      "metadata": {
        "executionInfo": {
          "elapsed": 2277,
          "status": "ok",
          "timestamp": 1639679453488,
          "user": {
            "displayName": "",
            "photoUrl": "",
            "userId": ""
          },
          "user_tz": 480
        },
        "id": "g6LCQQooQU8X",
        "outputId": "f1a55494-ab65-4e5a-f283-f6cb86817998"
      },
      "outputs": [
        {
          "data": {
            "text/plain": [
              "DeviceArray([[-0.31825894],\n",
              "             [-0.18107423],\n",
              "             [-0.27587453],\n",
              "             [-0.47995874],\n",
              "             [-0.2335658 ],\n",
              "             [-0.46246213],\n",
              "             [-0.17029431],\n",
              "             [-0.6591648 ],\n",
              "             [-0.46428704],\n",
              "             [-0.4804871 ]], dtype=float32)"
            ]
          },
          "execution_count": 7,
          "metadata": {},
          "output_type": "execute_result"
        }
      ],
      "source": [
        "BATCH_SIZE = 10\n",
        "INPUT_FEATURES = 25\n",
        "sample_input = jnp.zeros((BATCH_SIZE, INPUT_FEATURES))\n",
        "rng = jax.random.PRNGKey(42)\n",
        "\n",
        "thetas = model.init(rng, sample_input)\n",
        "predictions = model.apply(thetas,\n",
        "                          jax.random.uniform(rng, (BATCH_SIZE, INPUT_FEATURES)))\n",
        "predictions"
      ]
    },
    {
      "cell_type": "markdown",
      "metadata": {
        "id": "vrn6DnJSe5_S"
      },
      "source": [
        "## Autocomplete in Colab/Jupyter\n",
        "\n",
        "Fiddle Config objects are designed to be easily used in both checked-in code, as well as in interactive environments such as notebooks and the Python REPL.\n",
        "\n",
        "You can see available properties by calling `dir`, or by asking your notebook environment to suggest autocompletions. These autocompletions work for _arbitrarily deeply nested_ config instances."
      ]
    },
    {
      "cell_type": "code",
      "execution_count": null,
      "metadata": {
        "executionInfo": {
          "elapsed": 3,
          "status": "ok",
          "timestamp": 1639679453599,
          "user": {
            "displayName": "",
            "photoUrl": "",
            "userId": ""
          },
          "user_tz": 480
        },
        "id": "9DOLMc-UT-y9",
        "outputId": "99278a81-feca-4f3f-9985-e12539964037"
      },
      "outputs": [
        {
          "name": "stdout",
          "output_type": "stream",
          "text": [
            "['dense1', 'dense2', 'dropout', 'name', 'parent']\n"
          ]
        }
      ],
      "source": [
        "print(dir(cfg))  # See available properties.\n",
        "# cfg.dense2.  # If you ask Colab to autocomplete, and select `features`, it will even tell you that it's an `int` property!"
      ]
    },
    {
      "cell_type": "markdown",
      "metadata": {
        "id": "YodAqBeDBAcs"
      },
      "source": [
        "## Fiddle patterns\n",
        "\n",
        "Fiddle makes it easy to build arbitrarily sophisticated objects. Below are a few recipes that you may find useful, using Flax as a motivating example."
      ]
    },
    {
      "cell_type": "markdown",
      "metadata": {
        "id": "ElH1oGepBRTj"
      },
      "source": [
        "### Aliasing objects (parameter sharing)\n",
        "\n",
        "Fiddle makes it easy to build models that share parameters. In normal Flax, you can share parameters by referencing the same module instance in multiple places within a model. Similarly, in Fiddle, you can share object instances by referencing the same `fdl.Config` instance in multiple places within a larger `Config`. In other words, there is a one-to-one correspondence between Config instances and the object instances they produce when built."
      ]
    },
    {
      "cell_type": "code",
      "execution_count": null,
      "metadata": {
        "executionInfo": {
          "elapsed": 54,
          "status": "ok",
          "timestamp": 1639679453933,
          "user": {
            "displayName": "",
            "photoUrl": "",
            "userId": ""
          },
          "user_tz": 480
        },
        "id": "DHGwdnOEAzol",
        "outputId": "ac13ef56-1929-4b33-e27b-fc0bc1478453"
      },
      "outputs": [
        {
          "data": {
            "text/plain": [
              "True"
            ]
          },
          "execution_count": 9,
          "metadata": {},
          "output_type": "execute_result"
        }
      ],
      "source": [
        "cfg = make_model_config()\n",
        "cfg.dense2 = cfg.dense1  # Share parameters!\n",
        "\n",
        "model = fdl.build(cfg)\n",
        "model.dense1 is model.dense2  # Prints `True`"
      ]
    },
    {
      "cell_type": "markdown",
      "metadata": {
        "id": "kG18d8ZnHdKn"
      },
      "source": [
        "### Copying configs (making clones of modules)\n",
        "\n",
        "Assigning one config to multiple parameters results in only one object built, and aliasing references to it made. However, there are many times when you'd like to set up a `fdl.Config` object, and then make multiple copies of it. \n",
        "\n",
        "Simply use `copy.deepcopy` for a full clone of the entire tree (or, less commonly, `copy.copy` for a shallow copy). These work identically for `fdl.Config` (and `fdl.Partial`) objects as on normal objects."
      ]
    },
    {
      "cell_type": "code",
      "execution_count": null,
      "metadata": {
        "executionInfo": {
          "elapsed": 54,
          "status": "ok",
          "timestamp": 1639679454086,
          "user": {
            "displayName": "",
            "photoUrl": "",
            "userId": ""
          },
          "user_tz": 480
        },
        "id": "Wx8H7scuDgFV",
        "outputId": "8b683dcd-3006-42b5-c7c1-671fafe12f08"
      },
      "outputs": [
        {
          "name": "stdout",
          "output_type": "stream",
          "text": [
            "False\n"
          ]
        },
        {
          "data": {
            "text/plain": [
              "MySimpleClassifierModel(\n",
              "    # attributes\n",
              "    dense1 = Dense(\n",
              "        # attributes\n",
              "        features = 10\n",
              "        use_bias = True\n",
              "        dtype = bfloat16\n",
              "        precision = None\n",
              "        kernel_init = init\n",
              "        bias_init = zeros\n",
              "    )\n",
              "    dropout = Dropout(\n",
              "        # attributes\n",
              "        rate = 0.3\n",
              "        broadcast_dims = ()\n",
              "        deterministic = None\n",
              "    )\n",
              "    dense2 = Dense(\n",
              "        # attributes\n",
              "        features = 10\n",
              "        use_bias = True\n",
              "        dtype = bfloat16\n",
              "        precision = None\n",
              "        kernel_init = init\n",
              "        bias_init = zeros\n",
              "    )\n",
              ")"
            ]
          },
          "execution_count": 10,
          "metadata": {},
          "output_type": "execute_result"
        }
      ],
      "source": [
        "import copy\n",
        "\n",
        "cfg = make_model_config()\n",
        "cfg.dense1.dtype = jnp.bfloat16\n",
        "cfg.dense2 = copy.deepcopy(cfg.dense1)\n",
        "\n",
        "model = fdl.build(cfg)\n",
        "print(model.dense1 is model.dense2)\n",
        "model  # dtype is bfloat16 and features is 10 on both dense1 and dense2."
      ]
    },
    {
      "cell_type": "markdown",
      "metadata": {
        "id": "EguiUo5zEoy0"
      },
      "source": [
        "### Aliasing and copying together (parameter sharing in practice)\n",
        "\n",
        "Dual encoder models often employ sophisticated parameter sharing schemes. More importantly, when developing them you might want to experiment with differing amounts of parameter sharing. Fiddle makes it really easy to fiddle with which parameters are shared!"
      ]
    },
    {
      "cell_type": "code",
      "execution_count": null,
      "metadata": {
        "executionInfo": {
          "elapsed": 1031,
          "status": "ok",
          "timestamp": 1639679455231,
          "user": {
            "displayName": "",
            "photoUrl": "",
            "userId": ""
          },
          "user_tz": 480
        },
        "id": "nGUZLHWJEngF",
        "outputId": "6c056384-4805-4471-a153-b783b7ba9d47"
      },
      "outputs": [
        {
          "name": "stdout",
          "output_type": "stream",
          "text": [
            "Param shapes: FrozenDict({\n",
            "    query_encoder: {\n",
            "        dense1: {\n",
            "            bias: (10,),\n",
            "            kernel: (25, 10),\n",
            "        },\n",
            "        dense2: {\n",
            "            bias: (10,),\n",
            "            kernel: (10, 10),\n",
            "        },\n",
            "    },\n",
            "})\n"
          ]
        },
        {
          "data": {
            "text/plain": [
              "DeviceArray([0., 0., 0., 0., 0., 0., 0., 0., 0., 0.], dtype=float32)"
            ]
          },
          "execution_count": 11,
          "metadata": {},
          "output_type": "execute_result"
        }
      ],
      "source": [
        "class DualEncoder(nn.Module):\n",
        "  query_encoder: MySimpleClassifierModel\n",
        "  document_encoder: MySimpleClassifierModel\n",
        "\n",
        "  def encode_query(self, x):\n",
        "    return self.query_encoder(x)\n",
        "\n",
        "  def encode_document(self, x):\n",
        "    return self.document_encoder(x)\n",
        "\n",
        "  def __call__(self, query, document):\n",
        "    return jnp.einsum(\n",
        "        '...h,...h-\u003e...',\n",
        "        self.encode_query(query),\n",
        "        self.encode_document(document),\n",
        "    )\n",
        "\n",
        "dual_enc_cfg = fdl.Config(DualEncoder)\n",
        "dual_enc_cfg.query_encoder = make_model_config()\n",
        "dual_enc_cfg.query_encoder.dense2.features = 10  # Output an embedding space.\n",
        "dual_enc_cfg.query_encoder.dropout.deterministic = True\n",
        "dual_enc_cfg.document_encoder = dual_enc_cfg.query_encoder\n",
        "dual_enc = fdl.build(dual_enc_cfg)\n",
        "\n",
        "# Create a new vector representing document input.\n",
        "sample_document = jax.random.uniform(jax.random.PRNGKey(1),\n",
        "                                     (BATCH_SIZE, INPUT_FEATURES))\n",
        "\n",
        "thetas = dual_enc.init(jax.random.PRNGKey(0), sample_input, sample_document)\n",
        "\n",
        "# You'll see only parameters for 'query_encoder', because they are shared!\n",
        "print(\"Param shapes:\", jax.tree_map(lambda x: x.shape, thetas[\"params\"]))\n",
        "\n",
        "# Example \"running\" this model's forward pass:\n",
        "dual_enc.apply(thetas, sample_input, sample_document)"
      ]
    },
    {
      "cell_type": "markdown",
      "metadata": {
        "id": "7-6BTNopFwCN"
      },
      "source": [
        "As an exercise for the reader, before peeking at the answer below, try building a `DualEncoder` that shares only the 2nd dense layer between the encoder and decoder, but uses different `dense1` layers."
      ]
    },
    {
      "cell_type": "code",
      "execution_count": null,
      "metadata": {
        "executionInfo": {
          "elapsed": 107,
          "status": "ok",
          "timestamp": 1639679455442,
          "user": {
            "displayName": "",
            "photoUrl": "",
            "userId": ""
          },
          "user_tz": 480
        },
        "id": "LThXbYhzGB4d",
        "outputId": "36259d49-bbdf-4b65-e365-9bda5010ba49"
      },
      "outputs": [
        {
          "name": "stdout",
          "output_type": "stream",
          "text": [
            "Param shapes: FrozenDict({\n",
            "    document_encoder: {\n",
            "        dense1: {\n",
            "            bias: (10,),\n",
            "            kernel: (25, 10),\n",
            "        },\n",
            "    },\n",
            "    query_encoder: {\n",
            "        dense1: {\n",
            "            bias: (10,),\n",
            "            kernel: (25, 10),\n",
            "        },\n",
            "        dense2: {\n",
            "            bias: (10,),\n",
            "            kernel: (10, 10),\n",
            "        },\n",
            "    },\n",
            "})\n"
          ]
        }
      ],
      "source": [
        "# Just modify the existing config; you only need to specify what's different!\n",
        "# This makes it extremely easy to, as a reader of the code, determine what's\n",
        "# changed between 2 experiments.\n",
        "# (Note: if you needed the existing object to persist unmodified, just make a\n",
        "# copy with `copy.deepcopy(duale_enc_cfg)` instead of modifying it directly.)\n",
        "dual_enc_cfg.document_encoder = copy.deepcopy(dual_enc_cfg.query_encoder)\n",
        "dual_enc_cfg.document_encoder.dense2 = dual_enc_cfg.query_encoder.dense2\n",
        "\n",
        "less_shared_dual_enc = fdl.build(dual_enc_cfg)\n",
        "\n",
        "thetas = less_shared_dual_enc.init(jax.random.PRNGKey(0), sample_input, sample_document)\n",
        "# You'll see parameters for both document_encoder and query_encoder, but only\n",
        "# will have `dense2` nested within it, because it's shared.\n",
        "print(\"Param shapes:\", jax.tree_map(lambda x: x.shape, thetas[\"params\"]))"
      ]
    },
    {
      "cell_type": "markdown",
      "metadata": {
        "id": "Er1y9uN_B5vc"
      },
      "source": [
        "### Collections and configs (variable-sized layers, such as Sequential)\n",
        "\n",
        "You can easily use Python lists (or dictionaries) inside your Fiddle-configured Flax modules."
      ]
    },
    {
      "cell_type": "code",
      "execution_count": null,
      "metadata": {
        "id": "_UiJ37KdB0Bo"
      },
      "outputs": [],
      "source": [
        "from typing import Any, List\n",
        "\n",
        "class Sequential(nn.Module):\n",
        "  layers: List[Any]  # Either nn.Modules, or activation functions.\n",
        "\n",
        "  def __call__(self, x):\n",
        "    for layer in self.layers:\n",
        "      x = layer(x)\n",
        "    return x"
      ]
    },
    {
      "cell_type": "code",
      "execution_count": null,
      "metadata": {
        "executionInfo": {
          "elapsed": 1326,
          "status": "ok",
          "timestamp": 1639679457027,
          "user": {
            "displayName": "",
            "photoUrl": "",
            "userId": ""
          },
          "user_tz": 480
        },
        "id": "agrm6TdcJDQh",
        "outputId": "0372f922-e563-4ddc-f89b-a002f93f825c"
      },
      "outputs": [
        {
          "name": "stdout",
          "output_type": "stream",
          "text": [
            "Model:\n",
            " Sequential(\n",
            "    # attributes\n",
            "    layers = [Dense(\n",
            "        # attributes\n",
            "        features = 4\n",
            "        use_bias = True\n",
            "        dtype = float32\n",
            "        precision = None\n",
            "        kernel_init = init\n",
            "        bias_init = zeros\n",
            "    ), \u003cfunction gelu at 0x7faa19d3eef0\u003e, Dense(\n",
            "        # attributes\n",
            "        features = 1\n",
            "        use_bias = True\n",
            "        dtype = float32\n",
            "        precision = None\n",
            "        kernel_init = init\n",
            "        bias_init = zeros\n",
            "    ), \u003cfunction softmax at 0x7faa19d3f0e0\u003e]\n",
            ")\n",
            "\n",
            "Param shapes:\n",
            " FrozenDict({\n",
            "    layers_0: {\n",
            "        bias: (4,),\n",
            "        kernel: (25, 4),\n",
            "    },\n",
            "    layers_2: {\n",
            "        bias: (1,),\n",
            "        kernel: (4, 1),\n",
            "    },\n",
            "})\n",
            "\n",
            "Result:\n",
            " [[1.]\n",
            " [1.]\n",
            " [1.]\n",
            " [1.]\n",
            " [1.]\n",
            " [1.]\n",
            " [1.]\n",
            " [1.]\n",
            " [1.]\n",
            " [1.]]\n"
          ]
        }
      ],
      "source": [
        "cfg = fdl.Config(Sequential)\n",
        "cfg.layers = [\n",
        "  fdl.Config(nn.Dense, features=4),\n",
        "  nn.activation.gelu,  # Mix fiddle things and non-fiddle things!\n",
        "  fdl.Config(nn.Dense, features=1),\n",
        "  nn.activation.softmax,\n",
        "]\n",
        "model = fdl.build(cfg)\n",
        "print(\"Model:\\n\", model)\n",
        "result, thetas = model.init_with_output(rng, sample_input)\n",
        "print(\"\\nParam shapes:\\n\", jax.tree_map(lambda x: x.shape, thetas[\"params\"]))\n",
        "print(\"\\nResult:\\n\", result)"
      ]
    },
    {
      "cell_type": "markdown",
      "metadata": {
        "id": "JAuNpP3mMZwI"
      },
      "source": [
        "## Fiddle Extensions\n",
        "\n",
        "To make Fiddle users as productive as possible, Fiddle provides several extensions and features on top of the core data model."
      ]
    },
    {
      "cell_type": "code",
      "execution_count": null,
      "metadata": {
        "id": "hfmsmN_gL_j_"
      },
      "outputs": [],
      "source": [
        "# Import the extra extensions\n",
        "\n",
        "from fiddle import graphviz\n",
        "from fiddle import printing\n",
        "from fiddle import selectors\n",
        "import fiddle.extensions.jax\n",
        "\n",
        "fiddle.extensions.jax.enable()  # Nicer printout for JAX types; non-essential.\n"
      ]
    },
    {
      "cell_type": "markdown",
      "metadata": {
        "id": "AJ458OGvMs6H"
      },
      "source": [
        "### Graphical Visualization\n",
        "\n",
        "You can ask Fiddle to make a graphical visualization for a Fiddle configuration. This can be really helpful when trying to quickly understand an unfamiliar codebase, or to ensure an experiment is doing exactly what you expect.\n",
        "\n",
        "\u003e Note: by calling `fiddle.extensions.jax.enable()` you get a prettier visualization, but it is not required."
      ]
    },
    {
      "cell_type": "code",
      "execution_count": null,
      "metadata": {
        "colab": {
          "height": 229
        },
        "executionInfo": {
          "elapsed": 19126,
          "status": "ok",
          "timestamp": 1639679476826,
          "user": {
            "displayName": "",
            "photoUrl": "",
            "userId": ""
          },
          "user_tz": 480
        },
        "id": "H3O2K9BZC81H",
        "outputId": "5de32962-7883-4a4a-b323-a07748a2386d"
      },
      "outputs": [
        {
          "data": {
            "image/svg+xml": "\u003c?xml version=\"1.0\" encoding=\"UTF-8\" standalone=\"no\"?\u003e\n\u003c!DOCTYPE svg PUBLIC \"-//W3C//DTD SVG 1.1//EN\"\n \"http://www.w3.org/Graphics/SVG/1.1/DTD/svg11.dtd\"\u003e\n\u003c!-- Generated by graphviz version 2.44.1 (20201121.0304)\n --\u003e\n\u003c!-- Pages: 1 --\u003e\n\u003csvg width=\"525pt\" height=\"156pt\"\n viewBox=\"0.00 0.00 525.00 156.00\" xmlns=\"http://www.w3.org/2000/svg\" xmlns:xlink=\"http://www.w3.org/1999/xlink\"\u003e\n\u003cg id=\"graph0\" class=\"graph\" transform=\"scale(1 1) rotate(0) translate(4 152)\"\u003e\n\u003cpolygon fill=\"white\" stroke=\"transparent\" points=\"-4,4 -4,-152 521,-152 521,4 -4,4\"/\u003e\n\u003c!-- 1 --\u003e\n\u003cg id=\"node1\" class=\"node\"\u003e\n\u003ctitle\u003e1\u003c/title\u003e\n\u003cpolygon fill=\"#90ee90\" stroke=\"transparent\" points=\"19.5,-19 19.5,-38 96.5,-38 96.5,-19 19.5,-19\"/\u003e\n\u003cpolygon fill=\"none\" stroke=\"black\" points=\"19.5,-19 19.5,-38 96.5,-38 96.5,-19 19.5,-19\"/\u003e\n\u003ctext text-anchor=\"start\" x=\"23.5\" y=\"-27\" font-family=\"Courier,monospace\" font-size=\"8.00\"\u003eConfig:\u003c/text\u003e\n\u003ctext text-anchor=\"start\" x=\"55.5\" y=\"-27\" font-family=\"Courier,monospace\" font-size=\"10.00\"\u003e Dense\u003c/text\u003e\n\u003cpolygon fill=\"#eeeeee\" stroke=\"transparent\" points=\"19.5,0 19.5,-19 78.5,-19 78.5,0 19.5,0\"/\u003e\n\u003cpolygon fill=\"none\" stroke=\"black\" points=\"19.5,0 19.5,-19 78.5,-19 78.5,0 19.5,0\"/\u003e\n\u003ctext text-anchor=\"start\" x=\"25.5\" y=\"-7\" font-family=\"Courier,monospace\" font-size=\"10.00\"\u003efeatures\u003c/text\u003e\n\u003cpolygon fill=\"none\" stroke=\"black\" points=\"78.5,0 78.5,-19 96.5,-19 96.5,0 78.5,0\"/\u003e\n\u003ctext text-anchor=\"start\" x=\"82.5\" y=\"-7\" font-family=\"Courier,monospace\" font-size=\"10.00\"\u003e4\u003c/text\u003e\n\u003c/g\u003e\n\u003c!-- 0 --\u003e\n\u003cg id=\"node2\" class=\"node\"\u003e\n\u003ctitle\u003e0\u003c/title\u003e\n\u003cpolygon fill=\"#ffc0cb\" stroke=\"transparent\" points=\"0.5,-129 0.5,-148 517.5,-148 517.5,-129 0.5,-129\"/\u003e\n\u003cpolygon fill=\"none\" stroke=\"black\" points=\"0.5,-129 0.5,-148 517.5,-148 517.5,-129 0.5,-129\"/\u003e\n\u003ctext text-anchor=\"start\" x=\"209.5\" y=\"-137\" font-family=\"Courier,monospace\" font-size=\"8.00\"\u003eConfig:\u003c/text\u003e\n\u003ctext text-anchor=\"start\" x=\"241.5\" y=\"-137\" font-family=\"Courier,monospace\" font-size=\"10.00\"\u003e Sequential\u003c/text\u003e\n\u003cpolygon fill=\"#eeeeee\" stroke=\"transparent\" points=\"0.5,-74 0.5,-129 45.5,-129 45.5,-74 0.5,-74\"/\u003e\n\u003cpolygon fill=\"none\" stroke=\"black\" points=\"0.5,-74 0.5,-129 45.5,-129 45.5,-74 0.5,-74\"/\u003e\n\u003ctext text-anchor=\"start\" x=\"4.5\" y=\"-99\" font-family=\"Courier,monospace\" font-size=\"10.00\"\u003elayers\u003c/text\u003e\n\u003cpolygon fill=\"none\" stroke=\"black\" points=\"45.5,-74 45.5,-129 517.5,-129 517.5,-74 45.5,-74\"/\u003e\n\u003cpolygon fill=\"#eeeeee\" stroke=\"transparent\" points=\"49.5,-106 49.5,-125 513.5,-125 513.5,-106 49.5,-106\"/\u003e\n\u003cpolygon fill=\"none\" stroke=\"black\" points=\"49.5,-106 49.5,-125 513.5,-125 513.5,-106 49.5,-106\"/\u003e\n\u003ctext text-anchor=\"start\" x=\"269\" y=\"-113\" font-family=\"Courier,monospace\" font-size=\"10.00\"\u003elist\u003c/text\u003e\n\u003cpolygon fill=\"none\" stroke=\"black\" points=\"49.5,-87 49.5,-106 65.5,-106 65.5,-87 49.5,-87\"/\u003e\n\u003cpolygon fill=\"#90ee90\" stroke=\"transparent\" points=\"53.5,-91 53.5,-102 61.5,-102 61.5,-91 53.5,-91\"/\u003e\n\u003cpolygon fill=\"none\" stroke=\"black\" points=\"53.5,-91 53.5,-102 61.5,-102 61.5,-91 53.5,-91\"/\u003e\n\u003cpolygon fill=\"none\" stroke=\"black\" points=\"65.5,-87 65.5,-106 272.5,-106 272.5,-87 65.5,-87\"/\u003e\n\u003ctext text-anchor=\"start\" x=\"69.5\" y=\"-94\" font-family=\"Courier,monospace\" font-size=\"10.00\"\u003e\u0026lt;function gelu at 0x7faa19d3eef0\u0026gt;\u003c/text\u003e\n\u003cpolygon fill=\"none\" stroke=\"black\" points=\"272.5,-87 272.5,-106 288.5,-106 288.5,-87 272.5,-87\"/\u003e\n\u003cpolygon fill=\"#fff8dc\" stroke=\"transparent\" points=\"276.5,-91 276.5,-102 284.5,-102 284.5,-91 276.5,-91\"/\u003e\n\u003cpolygon fill=\"none\" stroke=\"black\" points=\"276.5,-91 276.5,-102 284.5,-102 284.5,-91 276.5,-91\"/\u003e\n\u003cpolygon fill=\"none\" stroke=\"black\" points=\"288.5,-87 288.5,-106 513.5,-106 513.5,-87 288.5,-87\"/\u003e\n\u003ctext text-anchor=\"start\" x=\"292.5\" y=\"-94\" font-family=\"Courier,monospace\" font-size=\"10.00\"\u003e\u0026lt;function softmax at 0x7faa19d3f0e0\u0026gt;\u003c/text\u003e\n\u003cpolygon fill=\"#eeeeee\" stroke=\"transparent\" points=\"49.5,-78 49.5,-87 65.5,-87 65.5,-78 49.5,-78\"/\u003e\n\u003cpolygon fill=\"none\" stroke=\"black\" points=\"49.5,-78 49.5,-87 65.5,-87 65.5,-78 49.5,-78\"/\u003e\n\u003ctext text-anchor=\"start\" x=\"55.5\" y=\"-81.2\" font-family=\"Courier,monospace\" font-size=\"6.00\"\u003e0\u003c/text\u003e\n\u003cpolygon fill=\"#eeeeee\" stroke=\"transparent\" points=\"65.5,-78 65.5,-87 272.5,-87 272.5,-78 65.5,-78\"/\u003e\n\u003cpolygon fill=\"none\" stroke=\"black\" points=\"65.5,-78 65.5,-87 272.5,-87 272.5,-78 65.5,-78\"/\u003e\n\u003ctext text-anchor=\"start\" x=\"167\" y=\"-81.2\" font-family=\"Courier,monospace\" font-size=\"6.00\"\u003e1\u003c/text\u003e\n\u003cpolygon fill=\"#eeeeee\" stroke=\"transparent\" points=\"272.5,-78 272.5,-87 288.5,-87 288.5,-78 272.5,-78\"/\u003e\n\u003cpolygon fill=\"none\" stroke=\"black\" points=\"272.5,-78 272.5,-87 288.5,-87 288.5,-78 272.5,-78\"/\u003e\n\u003ctext text-anchor=\"start\" x=\"278.5\" y=\"-81.2\" font-family=\"Courier,monospace\" font-size=\"6.00\"\u003e2\u003c/text\u003e\n\u003cpolygon fill=\"#eeeeee\" stroke=\"transparent\" points=\"288.5,-78 288.5,-87 513.5,-87 513.5,-78 288.5,-78\"/\u003e\n\u003cpolygon fill=\"none\" stroke=\"black\" points=\"288.5,-78 288.5,-87 513.5,-87 513.5,-78 288.5,-78\"/\u003e\n\u003ctext text-anchor=\"start\" x=\"399\" y=\"-81.2\" font-family=\"Courier,monospace\" font-size=\"6.00\"\u003e3\u003c/text\u003e\n\u003c/g\u003e\n\u003c!-- 0\u0026#45;\u0026#45;1 --\u003e\n\u003cg id=\"edge1\" class=\"edge\"\u003e\n\u003ctitle\u003e0:c\u0026#45;\u0026#45;1:c\u003c/title\u003e\n\u003cpath fill=\"none\" stroke=\"#000000\" stroke-width=\"3\" stroke-opacity=\"0.188235\" d=\"M57.5,-90.97C57.5,-81.17 57.5,-55.63 57.5,-38.02\"/\u003e\n\u003c/g\u003e\n\u003c!-- 2 --\u003e\n\u003cg id=\"node3\" class=\"node\"\u003e\n\u003ctitle\u003e2\u003c/title\u003e\n\u003cpolygon fill=\"#fff8dc\" stroke=\"transparent\" points=\"242.5,-19 242.5,-38 319.5,-38 319.5,-19 242.5,-19\"/\u003e\n\u003cpolygon fill=\"none\" stroke=\"black\" points=\"242.5,-19 242.5,-38 319.5,-38 319.5,-19 242.5,-19\"/\u003e\n\u003ctext text-anchor=\"start\" x=\"246.5\" y=\"-27\" font-family=\"Courier,monospace\" font-size=\"8.00\"\u003eConfig:\u003c/text\u003e\n\u003ctext text-anchor=\"start\" x=\"278.5\" y=\"-27\" font-family=\"Courier,monospace\" font-size=\"10.00\"\u003e Dense\u003c/text\u003e\n\u003cpolygon fill=\"#eeeeee\" stroke=\"transparent\" points=\"242.5,0 242.5,-19 301.5,-19 301.5,0 242.5,0\"/\u003e\n\u003cpolygon fill=\"none\" stroke=\"black\" points=\"242.5,0 242.5,-19 301.5,-19 301.5,0 242.5,0\"/\u003e\n\u003ctext text-anchor=\"start\" x=\"248.5\" y=\"-7\" font-family=\"Courier,monospace\" font-size=\"10.00\"\u003efeatures\u003c/text\u003e\n\u003cpolygon fill=\"none\" stroke=\"black\" points=\"301.5,0 301.5,-19 319.5,-19 319.5,0 301.5,0\"/\u003e\n\u003ctext text-anchor=\"start\" x=\"305.5\" y=\"-7\" font-family=\"Courier,monospace\" font-size=\"10.00\"\u003e1\u003c/text\u003e\n\u003c/g\u003e\n\u003c!-- 0\u0026#45;\u0026#45;2 --\u003e\n\u003cg id=\"edge2\" class=\"edge\"\u003e\n\u003ctitle\u003e0:c\u0026#45;\u0026#45;2:c\u003c/title\u003e\n\u003cpath fill=\"none\" stroke=\"#000000\" stroke-width=\"3\" stroke-opacity=\"0.188235\" d=\"M280.5,-90.97C280.5,-81.17 280.5,-55.63 280.5,-38.02\"/\u003e\n\u003c/g\u003e\n\u003c/g\u003e\n\u003c/svg\u003e\n",
            "text/plain": [
              "\u003cgraphviz.dot.Graph at 0x7faa27f8d350\u003e"
            ]
          },
          "execution_count": 16,
          "metadata": {},
          "output_type": "execute_result"
        }
      ],
      "source": [
        "graphviz.render(cfg)"
      ]
    },
    {
      "cell_type": "markdown",
      "metadata": {
        "id": "ozKolYH6Mucn"
      },
      "source": [
        "Graphviz makes it very easy to see whether a config is shared between multiple parameters in a (hierarchical) configuration."
      ]
    },
    {
      "cell_type": "code",
      "execution_count": null,
      "metadata": {
        "colab": {
          "height": 229
        },
        "executionInfo": {
          "elapsed": 56,
          "status": "ok",
          "timestamp": 1639679477266,
          "user": {
            "displayName": "",
            "photoUrl": "",
            "userId": ""
          },
          "user_tz": 480
        },
        "id": "F5FYJfuyM3o5",
        "outputId": "4f38af71-0290-4663-a291-3a807a966f16"
      },
      "outputs": [
        {
          "data": {
            "image/svg+xml": "\u003c?xml version=\"1.0\" encoding=\"UTF-8\" standalone=\"no\"?\u003e\n\u003c!DOCTYPE svg PUBLIC \"-//W3C//DTD SVG 1.1//EN\"\n \"http://www.w3.org/Graphics/SVG/1.1/DTD/svg11.dtd\"\u003e\n\u003c!-- Generated by graphviz version 2.44.1 (20201121.0304)\n --\u003e\n\u003c!-- Pages: 1 --\u003e\n\u003csvg width=\"541pt\" height=\"156pt\"\n viewBox=\"0.00 0.00 541.00 156.00\" xmlns=\"http://www.w3.org/2000/svg\" xmlns:xlink=\"http://www.w3.org/1999/xlink\"\u003e\n\u003cg id=\"graph0\" class=\"graph\" transform=\"scale(1 1) rotate(0) translate(4 152)\"\u003e\n\u003cpolygon fill=\"white\" stroke=\"transparent\" points=\"-4,4 -4,-152 537,-152 537,4 -4,4\"/\u003e\n\u003c!-- 1 --\u003e\n\u003cg id=\"node1\" class=\"node\"\u003e\n\u003ctitle\u003e1\u003c/title\u003e\n\u003cpolygon fill=\"#90ee90\" stroke=\"transparent\" points=\"19.5,-19 19.5,-38 96.5,-38 96.5,-19 19.5,-19\"/\u003e\n\u003cpolygon fill=\"none\" stroke=\"black\" points=\"19.5,-19 19.5,-38 96.5,-38 96.5,-19 19.5,-19\"/\u003e\n\u003ctext text-anchor=\"start\" x=\"23.5\" y=\"-27\" font-family=\"Courier,monospace\" font-size=\"8.00\"\u003eConfig:\u003c/text\u003e\n\u003ctext text-anchor=\"start\" x=\"55.5\" y=\"-27\" font-family=\"Courier,monospace\" font-size=\"10.00\"\u003e Dense\u003c/text\u003e\n\u003cpolygon fill=\"#eeeeee\" stroke=\"transparent\" points=\"19.5,0 19.5,-19 78.5,-19 78.5,0 19.5,0\"/\u003e\n\u003cpolygon fill=\"none\" stroke=\"black\" points=\"19.5,0 19.5,-19 78.5,-19 78.5,0 19.5,0\"/\u003e\n\u003ctext text-anchor=\"start\" x=\"25.5\" y=\"-7\" font-family=\"Courier,monospace\" font-size=\"10.00\"\u003efeatures\u003c/text\u003e\n\u003cpolygon fill=\"none\" stroke=\"black\" points=\"78.5,0 78.5,-19 96.5,-19 96.5,0 78.5,0\"/\u003e\n\u003ctext text-anchor=\"start\" x=\"82.5\" y=\"-7\" font-family=\"Courier,monospace\" font-size=\"10.00\"\u003e4\u003c/text\u003e\n\u003c/g\u003e\n\u003c!-- 0 --\u003e\n\u003cg id=\"node2\" class=\"node\"\u003e\n\u003ctitle\u003e0\u003c/title\u003e\n\u003cpolygon fill=\"#ffc0cb\" stroke=\"transparent\" points=\"0.5,-129 0.5,-148 533.5,-148 533.5,-129 0.5,-129\"/\u003e\n\u003cpolygon fill=\"none\" stroke=\"black\" points=\"0.5,-129 0.5,-148 533.5,-148 533.5,-129 0.5,-129\"/\u003e\n\u003ctext text-anchor=\"start\" x=\"217.5\" y=\"-137\" font-family=\"Courier,monospace\" font-size=\"8.00\"\u003eConfig:\u003c/text\u003e\n\u003ctext text-anchor=\"start\" x=\"249.5\" y=\"-137\" font-family=\"Courier,monospace\" font-size=\"10.00\"\u003e Sequential\u003c/text\u003e\n\u003cpolygon fill=\"#eeeeee\" stroke=\"transparent\" points=\"0.5,-74 0.5,-129 45.5,-129 45.5,-74 0.5,-74\"/\u003e\n\u003cpolygon fill=\"none\" stroke=\"black\" points=\"0.5,-74 0.5,-129 45.5,-129 45.5,-74 0.5,-74\"/\u003e\n\u003ctext text-anchor=\"start\" x=\"4.5\" y=\"-99\" font-family=\"Courier,monospace\" font-size=\"10.00\"\u003elayers\u003c/text\u003e\n\u003cpolygon fill=\"none\" stroke=\"black\" points=\"45.5,-74 45.5,-129 533.5,-129 533.5,-74 45.5,-74\"/\u003e\n\u003cpolygon fill=\"#eeeeee\" stroke=\"transparent\" points=\"49.5,-106 49.5,-125 529.5,-125 529.5,-106 49.5,-106\"/\u003e\n\u003cpolygon fill=\"none\" stroke=\"black\" points=\"49.5,-106 49.5,-125 529.5,-125 529.5,-106 49.5,-106\"/\u003e\n\u003ctext text-anchor=\"start\" x=\"277\" y=\"-113\" font-family=\"Courier,monospace\" font-size=\"10.00\"\u003elist\u003c/text\u003e\n\u003cpolygon fill=\"none\" stroke=\"black\" points=\"49.5,-87 49.5,-106 65.5,-106 65.5,-87 49.5,-87\"/\u003e\n\u003cpolygon fill=\"#90ee90\" stroke=\"transparent\" points=\"53.5,-91 53.5,-102 61.5,-102 61.5,-91 53.5,-91\"/\u003e\n\u003cpolygon fill=\"none\" stroke=\"black\" points=\"53.5,-91 53.5,-102 61.5,-102 61.5,-91 53.5,-91\"/\u003e\n\u003cpolygon fill=\"none\" stroke=\"black\" points=\"65.5,-87 65.5,-106 272.5,-106 272.5,-87 65.5,-87\"/\u003e\n\u003ctext text-anchor=\"start\" x=\"69.5\" y=\"-94\" font-family=\"Courier,monospace\" font-size=\"10.00\"\u003e\u0026lt;function gelu at 0x7faa19d3eef0\u0026gt;\u003c/text\u003e\n\u003cpolygon fill=\"none\" stroke=\"black\" points=\"272.5,-87 272.5,-106 288.5,-106 288.5,-87 272.5,-87\"/\u003e\n\u003cpolygon fill=\"#fff8dc\" stroke=\"transparent\" points=\"276.5,-91 276.5,-102 284.5,-102 284.5,-91 276.5,-91\"/\u003e\n\u003cpolygon fill=\"none\" stroke=\"black\" points=\"276.5,-91 276.5,-102 284.5,-102 284.5,-91 276.5,-91\"/\u003e\n\u003cpolygon fill=\"none\" stroke=\"black\" points=\"288.5,-87 288.5,-106 513.5,-106 513.5,-87 288.5,-87\"/\u003e\n\u003ctext text-anchor=\"start\" x=\"292.5\" y=\"-94\" font-family=\"Courier,monospace\" font-size=\"10.00\"\u003e\u0026lt;function softmax at 0x7faa19d3f0e0\u0026gt;\u003c/text\u003e\n\u003cpolygon fill=\"none\" stroke=\"black\" points=\"513.5,-87 513.5,-106 529.5,-106 529.5,-87 513.5,-87\"/\u003e\n\u003cpolygon fill=\"#fff8dc\" stroke=\"transparent\" points=\"517.5,-91 517.5,-102 525.5,-102 525.5,-91 517.5,-91\"/\u003e\n\u003cpolygon fill=\"none\" stroke=\"black\" points=\"517.5,-91 517.5,-102 525.5,-102 525.5,-91 517.5,-91\"/\u003e\n\u003cpolygon fill=\"#eeeeee\" stroke=\"transparent\" points=\"49.5,-78 49.5,-87 65.5,-87 65.5,-78 49.5,-78\"/\u003e\n\u003cpolygon fill=\"none\" stroke=\"black\" points=\"49.5,-78 49.5,-87 65.5,-87 65.5,-78 49.5,-78\"/\u003e\n\u003ctext text-anchor=\"start\" x=\"55.5\" y=\"-81.2\" font-family=\"Courier,monospace\" font-size=\"6.00\"\u003e0\u003c/text\u003e\n\u003cpolygon fill=\"#eeeeee\" stroke=\"transparent\" points=\"65.5,-78 65.5,-87 272.5,-87 272.5,-78 65.5,-78\"/\u003e\n\u003cpolygon fill=\"none\" stroke=\"black\" points=\"65.5,-78 65.5,-87 272.5,-87 272.5,-78 65.5,-78\"/\u003e\n\u003ctext text-anchor=\"start\" x=\"167\" y=\"-81.2\" font-family=\"Courier,monospace\" font-size=\"6.00\"\u003e1\u003c/text\u003e\n\u003cpolygon fill=\"#eeeeee\" stroke=\"transparent\" points=\"272.5,-78 272.5,-87 288.5,-87 288.5,-78 272.5,-78\"/\u003e\n\u003cpolygon fill=\"none\" stroke=\"black\" points=\"272.5,-78 272.5,-87 288.5,-87 288.5,-78 272.5,-78\"/\u003e\n\u003ctext text-anchor=\"start\" x=\"278.5\" y=\"-81.2\" font-family=\"Courier,monospace\" font-size=\"6.00\"\u003e2\u003c/text\u003e\n\u003cpolygon fill=\"#eeeeee\" stroke=\"transparent\" points=\"288.5,-78 288.5,-87 513.5,-87 513.5,-78 288.5,-78\"/\u003e\n\u003cpolygon fill=\"none\" stroke=\"black\" points=\"288.5,-78 288.5,-87 513.5,-87 513.5,-78 288.5,-78\"/\u003e\n\u003ctext text-anchor=\"start\" x=\"399\" y=\"-81.2\" font-family=\"Courier,monospace\" font-size=\"6.00\"\u003e3\u003c/text\u003e\n\u003cpolygon fill=\"#eeeeee\" stroke=\"transparent\" points=\"513.5,-78 513.5,-87 529.5,-87 529.5,-78 513.5,-78\"/\u003e\n\u003cpolygon fill=\"none\" stroke=\"black\" points=\"513.5,-78 513.5,-87 529.5,-87 529.5,-78 513.5,-78\"/\u003e\n\u003ctext text-anchor=\"start\" x=\"519.5\" y=\"-81.2\" font-family=\"Courier,monospace\" font-size=\"6.00\"\u003e4\u003c/text\u003e\n\u003c/g\u003e\n\u003c!-- 0\u0026#45;\u0026#45;1 --\u003e\n\u003cg id=\"edge1\" class=\"edge\"\u003e\n\u003ctitle\u003e0:c\u0026#45;\u0026#45;1:c\u003c/title\u003e\n\u003cpath fill=\"none\" stroke=\"#000000\" stroke-width=\"3\" stroke-opacity=\"0.188235\" d=\"M57.5,-90.97C57.5,-81.17 57.5,-55.63 57.5,-38.02\"/\u003e\n\u003c/g\u003e\n\u003c!-- 2 --\u003e\n\u003cg id=\"node3\" class=\"node\"\u003e\n\u003ctitle\u003e2\u003c/title\u003e\n\u003cpolygon fill=\"#fff8dc\" stroke=\"transparent\" points=\"362.5,-19 362.5,-38 439.5,-38 439.5,-19 362.5,-19\"/\u003e\n\u003cpolygon fill=\"none\" stroke=\"black\" points=\"362.5,-19 362.5,-38 439.5,-38 439.5,-19 362.5,-19\"/\u003e\n\u003ctext text-anchor=\"start\" x=\"366.5\" y=\"-27\" font-family=\"Courier,monospace\" font-size=\"8.00\"\u003eConfig:\u003c/text\u003e\n\u003ctext text-anchor=\"start\" x=\"398.5\" y=\"-27\" font-family=\"Courier,monospace\" font-size=\"10.00\"\u003e Dense\u003c/text\u003e\n\u003cpolygon fill=\"#eeeeee\" stroke=\"transparent\" points=\"362.5,0 362.5,-19 421.5,-19 421.5,0 362.5,0\"/\u003e\n\u003cpolygon fill=\"none\" stroke=\"black\" points=\"362.5,0 362.5,-19 421.5,-19 421.5,0 362.5,0\"/\u003e\n\u003ctext text-anchor=\"start\" x=\"368.5\" y=\"-7\" font-family=\"Courier,monospace\" font-size=\"10.00\"\u003efeatures\u003c/text\u003e\n\u003cpolygon fill=\"none\" stroke=\"black\" points=\"421.5,0 421.5,-19 439.5,-19 439.5,0 421.5,0\"/\u003e\n\u003ctext text-anchor=\"start\" x=\"425.5\" y=\"-7\" font-family=\"Courier,monospace\" font-size=\"10.00\"\u003e1\u003c/text\u003e\n\u003c/g\u003e\n\u003c!-- 0\u0026#45;\u0026#45;2 --\u003e\n\u003cg id=\"edge2\" class=\"edge\"\u003e\n\u003ctitle\u003e0:c\u0026#45;\u0026#45;2:c\u003c/title\u003e\n\u003cpath fill=\"none\" stroke=\"#000000\" stroke-width=\"3\" stroke-opacity=\"0.188235\" d=\"M284.77,-92.33C298.42,-83.8 341.84,-56.66 371.44,-38.16\"/\u003e\n\u003c/g\u003e\n\u003c!-- 0\u0026#45;\u0026#45;2 --\u003e\n\u003cg id=\"edge3\" class=\"edge\"\u003e\n\u003ctitle\u003e0:c\u0026#45;\u0026#45;2:c\u003c/title\u003e\n\u003cpath fill=\"none\" stroke=\"#000000\" stroke-width=\"3\" stroke-opacity=\"0.188235\" d=\"M517.47,-92.5C504.02,-84.17 459.8,-56.76 429.75,-38.13\"/\u003e\n\u003c/g\u003e\n\u003c/g\u003e\n\u003c/svg\u003e\n",
            "text/plain": [
              "\u003cgraphviz.dot.Graph at 0x7fa9fee0bcd0\u003e"
            ]
          },
          "execution_count": 17,
          "metadata": {},
          "output_type": "execute_result"
        }
      ],
      "source": [
        "cfg.layers.append(cfg.layers[2])  # Alias a layer.\n",
        "graphviz.render(cfg)"
      ]
    },
    {
      "cell_type": "markdown",
      "metadata": {
        "id": "nv9an2z3CYo4"
      },
      "source": [
        "### Changing values on multiple objects\n",
        "\n",
        "Given that your model is composed of many modules, it can sometimes be helpful to change a setting across many different modules efficiently. For example, you may want to change the `DType` for every convolution layer to be `bfloat16` instead of `float32` for a given experiment.\n",
        "\n",
        "You can do that easily using the `select` API."
      ]
    },
    {
      "cell_type": "code",
      "execution_count": null,
      "metadata": {
        "colab": {
          "height": 255
        },
        "executionInfo": {
          "elapsed": 56,
          "status": "ok",
          "timestamp": 1639679477501,
          "user": {
            "displayName": "",
            "photoUrl": "",
            "userId": ""
          },
          "user_tz": 480
        },
        "id": "IFlqWruYCX7V",
        "outputId": "e567dfaf-0e58-4ad5-d98a-a88bc7b83271"
      },
      "outputs": [
        {
          "data": {
            "image/svg+xml": "\u003c?xml version=\"1.0\" encoding=\"UTF-8\" standalone=\"no\"?\u003e\n\u003c!DOCTYPE svg PUBLIC \"-//W3C//DTD SVG 1.1//EN\"\n \"http://www.w3.org/Graphics/SVG/1.1/DTD/svg11.dtd\"\u003e\n\u003c!-- Generated by graphviz version 2.44.1 (20201121.0304)\n --\u003e\n\u003c!-- Pages: 1 --\u003e\n\u003csvg width=\"553pt\" height=\"175pt\"\n viewBox=\"0.00 0.00 552.50 175.00\" xmlns=\"http://www.w3.org/2000/svg\" xmlns:xlink=\"http://www.w3.org/1999/xlink\"\u003e\n\u003cg id=\"graph0\" class=\"graph\" transform=\"scale(1 1) rotate(0) translate(4 171)\"\u003e\n\u003cpolygon fill=\"white\" stroke=\"transparent\" points=\"-4,4 -4,-171 548.5,-171 548.5,4 -4,4\"/\u003e\n\u003c!-- 1 --\u003e\n\u003cg id=\"node1\" class=\"node\"\u003e\n\u003ctitle\u003e1\u003c/title\u003e\n\u003cpolygon fill=\"#90ee90\" stroke=\"transparent\" points=\"0,-37.5 0,-56.5 138,-56.5 138,-37.5 0,-37.5\"/\u003e\n\u003cpolygon fill=\"none\" stroke=\"black\" points=\"0,-37.5 0,-56.5 138,-56.5 138,-37.5 0,-37.5\"/\u003e\n\u003ctext text-anchor=\"start\" x=\"34.5\" y=\"-45.5\" font-family=\"Courier,monospace\" font-size=\"8.00\"\u003eConfig:\u003c/text\u003e\n\u003ctext text-anchor=\"start\" x=\"66.5\" y=\"-45.5\" font-family=\"Courier,monospace\" font-size=\"10.00\"\u003e Dense\u003c/text\u003e\n\u003cpolygon fill=\"#eeeeee\" stroke=\"transparent\" points=\"0,-18.5 0,-37.5 57,-37.5 57,-18.5 0,-18.5\"/\u003e\n\u003cpolygon fill=\"none\" stroke=\"black\" points=\"0,-18.5 0,-37.5 57,-37.5 57,-18.5 0,-18.5\"/\u003e\n\u003ctext text-anchor=\"start\" x=\"4\" y=\"-25.5\" font-family=\"Courier,monospace\" font-size=\"10.00\"\u003efeatures\u003c/text\u003e\n\u003cpolygon fill=\"none\" stroke=\"black\" points=\"57,-18.5 57,-37.5 138,-37.5 138,-18.5 57,-18.5\"/\u003e\n\u003ctext text-anchor=\"start\" x=\"61\" y=\"-25.5\" font-family=\"Courier,monospace\" font-size=\"10.00\"\u003e4\u003c/text\u003e\n\u003cpolygon fill=\"#eeeeee\" stroke=\"transparent\" points=\"0,0.5 0,-18.5 57,-18.5 57,0.5 0,0.5\"/\u003e\n\u003cpolygon fill=\"none\" stroke=\"black\" points=\"0,0.5 0,-18.5 57,-18.5 57,0.5 0,0.5\"/\u003e\n\u003ctext text-anchor=\"start\" x=\"22\" y=\"-6.5\" font-family=\"Courier,monospace\" font-size=\"10.00\"\u003edtype\u003c/text\u003e\n\u003cpolygon fill=\"none\" stroke=\"black\" points=\"57,0.5 57,-18.5 138,-18.5 138,0.5 57,0.5\"/\u003e\n\u003ctext text-anchor=\"start\" x=\"61\" y=\"-6.5\" font-family=\"Courier,monospace\" font-size=\"10.00\"\u003ejnp.bfloat16\u003c/text\u003e\n\u003c/g\u003e\n\u003c!-- 0 --\u003e\n\u003cg id=\"node2\" class=\"node\"\u003e\n\u003ctitle\u003e0\u003c/title\u003e\n\u003cpolygon fill=\"#ffc0cb\" stroke=\"transparent\" points=\"12,-148 12,-167 545,-167 545,-148 12,-148\"/\u003e\n\u003cpolygon fill=\"none\" stroke=\"black\" points=\"12,-148 12,-167 545,-167 545,-148 12,-148\"/\u003e\n\u003ctext text-anchor=\"start\" x=\"229\" y=\"-156\" font-family=\"Courier,monospace\" font-size=\"8.00\"\u003eConfig:\u003c/text\u003e\n\u003ctext text-anchor=\"start\" x=\"261\" y=\"-156\" font-family=\"Courier,monospace\" font-size=\"10.00\"\u003e Sequential\u003c/text\u003e\n\u003cpolygon fill=\"#eeeeee\" stroke=\"transparent\" points=\"12,-93 12,-148 57,-148 57,-93 12,-93\"/\u003e\n\u003cpolygon fill=\"none\" stroke=\"black\" points=\"12,-93 12,-148 57,-148 57,-93 12,-93\"/\u003e\n\u003ctext text-anchor=\"start\" x=\"16\" y=\"-118\" font-family=\"Courier,monospace\" font-size=\"10.00\"\u003elayers\u003c/text\u003e\n\u003cpolygon fill=\"none\" stroke=\"black\" points=\"57,-93 57,-148 545,-148 545,-93 57,-93\"/\u003e\n\u003cpolygon fill=\"#eeeeee\" stroke=\"transparent\" points=\"61,-125 61,-144 541,-144 541,-125 61,-125\"/\u003e\n\u003cpolygon fill=\"none\" stroke=\"black\" points=\"61,-125 61,-144 541,-144 541,-125 61,-125\"/\u003e\n\u003ctext text-anchor=\"start\" x=\"288.5\" y=\"-132\" font-family=\"Courier,monospace\" font-size=\"10.00\"\u003elist\u003c/text\u003e\n\u003cpolygon fill=\"none\" stroke=\"black\" points=\"61,-106 61,-125 77,-125 77,-106 61,-106\"/\u003e\n\u003cpolygon fill=\"#90ee90\" stroke=\"transparent\" points=\"65,-110 65,-121 73,-121 73,-110 65,-110\"/\u003e\n\u003cpolygon fill=\"none\" stroke=\"black\" points=\"65,-110 65,-121 73,-121 73,-110 65,-110\"/\u003e\n\u003cpolygon fill=\"none\" stroke=\"black\" points=\"77,-106 77,-125 284,-125 284,-106 77,-106\"/\u003e\n\u003ctext text-anchor=\"start\" x=\"81\" y=\"-113\" font-family=\"Courier,monospace\" font-size=\"10.00\"\u003e\u0026lt;function gelu at 0x7faa19d3eef0\u0026gt;\u003c/text\u003e\n\u003cpolygon fill=\"none\" stroke=\"black\" points=\"284,-106 284,-125 300,-125 300,-106 284,-106\"/\u003e\n\u003cpolygon fill=\"#fff8dc\" stroke=\"transparent\" points=\"288,-110 288,-121 296,-121 296,-110 288,-110\"/\u003e\n\u003cpolygon fill=\"none\" stroke=\"black\" points=\"288,-110 288,-121 296,-121 296,-110 288,-110\"/\u003e\n\u003cpolygon fill=\"none\" stroke=\"black\" points=\"300,-106 300,-125 525,-125 525,-106 300,-106\"/\u003e\n\u003ctext text-anchor=\"start\" x=\"304\" y=\"-113\" font-family=\"Courier,monospace\" font-size=\"10.00\"\u003e\u0026lt;function softmax at 0x7faa19d3f0e0\u0026gt;\u003c/text\u003e\n\u003cpolygon fill=\"none\" stroke=\"black\" points=\"525,-106 525,-125 541,-125 541,-106 525,-106\"/\u003e\n\u003cpolygon fill=\"#fff8dc\" stroke=\"transparent\" points=\"529,-110 529,-121 537,-121 537,-110 529,-110\"/\u003e\n\u003cpolygon fill=\"none\" stroke=\"black\" points=\"529,-110 529,-121 537,-121 537,-110 529,-110\"/\u003e\n\u003cpolygon fill=\"#eeeeee\" stroke=\"transparent\" points=\"61,-97 61,-106 77,-106 77,-97 61,-97\"/\u003e\n\u003cpolygon fill=\"none\" stroke=\"black\" points=\"61,-97 61,-106 77,-106 77,-97 61,-97\"/\u003e\n\u003ctext text-anchor=\"start\" x=\"67\" y=\"-100.2\" font-family=\"Courier,monospace\" font-size=\"6.00\"\u003e0\u003c/text\u003e\n\u003cpolygon fill=\"#eeeeee\" stroke=\"transparent\" points=\"77,-97 77,-106 284,-106 284,-97 77,-97\"/\u003e\n\u003cpolygon fill=\"none\" stroke=\"black\" points=\"77,-97 77,-106 284,-106 284,-97 77,-97\"/\u003e\n\u003ctext text-anchor=\"start\" x=\"178.5\" y=\"-100.2\" font-family=\"Courier,monospace\" font-size=\"6.00\"\u003e1\u003c/text\u003e\n\u003cpolygon fill=\"#eeeeee\" stroke=\"transparent\" points=\"284,-97 284,-106 300,-106 300,-97 284,-97\"/\u003e\n\u003cpolygon fill=\"none\" stroke=\"black\" points=\"284,-97 284,-106 300,-106 300,-97 284,-97\"/\u003e\n\u003ctext text-anchor=\"start\" x=\"290\" y=\"-100.2\" font-family=\"Courier,monospace\" font-size=\"6.00\"\u003e2\u003c/text\u003e\n\u003cpolygon fill=\"#eeeeee\" stroke=\"transparent\" points=\"300,-97 300,-106 525,-106 525,-97 300,-97\"/\u003e\n\u003cpolygon fill=\"none\" stroke=\"black\" points=\"300,-97 300,-106 525,-106 525,-97 300,-97\"/\u003e\n\u003ctext text-anchor=\"start\" x=\"410.5\" y=\"-100.2\" font-family=\"Courier,monospace\" font-size=\"6.00\"\u003e3\u003c/text\u003e\n\u003cpolygon fill=\"#eeeeee\" stroke=\"transparent\" points=\"525,-97 525,-106 541,-106 541,-97 525,-97\"/\u003e\n\u003cpolygon fill=\"none\" stroke=\"black\" points=\"525,-97 525,-106 541,-106 541,-97 525,-97\"/\u003e\n\u003ctext text-anchor=\"start\" x=\"531\" y=\"-100.2\" font-family=\"Courier,monospace\" font-size=\"6.00\"\u003e4\u003c/text\u003e\n\u003c/g\u003e\n\u003c!-- 0\u0026#45;\u0026#45;1 --\u003e\n\u003cg id=\"edge1\" class=\"edge\"\u003e\n\u003ctitle\u003e0:c\u0026#45;\u0026#45;1:c\u003c/title\u003e\n\u003cpath fill=\"none\" stroke=\"#000000\" stroke-width=\"3\" stroke-opacity=\"0.188235\" d=\"M69,-109.92C69,-100.5 69,-76.51 69,-57.16\"/\u003e\n\u003c/g\u003e\n\u003c!-- 2 --\u003e\n\u003cg id=\"node3\" class=\"node\"\u003e\n\u003ctitle\u003e2\u003c/title\u003e\n\u003cpolygon fill=\"#fff8dc\" stroke=\"transparent\" points=\"344,-37.5 344,-56.5 482,-56.5 482,-37.5 344,-37.5\"/\u003e\n\u003cpolygon fill=\"none\" stroke=\"black\" points=\"344,-37.5 344,-56.5 482,-56.5 482,-37.5 344,-37.5\"/\u003e\n\u003ctext text-anchor=\"start\" x=\"378.5\" y=\"-45.5\" font-family=\"Courier,monospace\" font-size=\"8.00\"\u003eConfig:\u003c/text\u003e\n\u003ctext text-anchor=\"start\" x=\"410.5\" y=\"-45.5\" font-family=\"Courier,monospace\" font-size=\"10.00\"\u003e Dense\u003c/text\u003e\n\u003cpolygon fill=\"#eeeeee\" stroke=\"transparent\" points=\"344,-18.5 344,-37.5 401,-37.5 401,-18.5 344,-18.5\"/\u003e\n\u003cpolygon fill=\"none\" stroke=\"black\" points=\"344,-18.5 344,-37.5 401,-37.5 401,-18.5 344,-18.5\"/\u003e\n\u003ctext text-anchor=\"start\" x=\"348\" y=\"-25.5\" font-family=\"Courier,monospace\" font-size=\"10.00\"\u003efeatures\u003c/text\u003e\n\u003cpolygon fill=\"none\" stroke=\"black\" points=\"401,-18.5 401,-37.5 482,-37.5 482,-18.5 401,-18.5\"/\u003e\n\u003ctext text-anchor=\"start\" x=\"405\" y=\"-25.5\" font-family=\"Courier,monospace\" font-size=\"10.00\"\u003e1\u003c/text\u003e\n\u003cpolygon fill=\"#eeeeee\" stroke=\"transparent\" points=\"344,0.5 344,-18.5 401,-18.5 401,0.5 344,0.5\"/\u003e\n\u003cpolygon fill=\"none\" stroke=\"black\" points=\"344,0.5 344,-18.5 401,-18.5 401,0.5 344,0.5\"/\u003e\n\u003ctext text-anchor=\"start\" x=\"366\" y=\"-6.5\" font-family=\"Courier,monospace\" font-size=\"10.00\"\u003edtype\u003c/text\u003e\n\u003cpolygon fill=\"none\" stroke=\"black\" points=\"401,0.5 401,-18.5 482,-18.5 482,0.5 401,0.5\"/\u003e\n\u003ctext text-anchor=\"start\" x=\"405\" y=\"-6.5\" font-family=\"Courier,monospace\" font-size=\"10.00\"\u003ejnp.bfloat16\u003c/text\u003e\n\u003c/g\u003e\n\u003c!-- 0\u0026#45;\u0026#45;2 --\u003e\n\u003cg id=\"edge2\" class=\"edge\"\u003e\n\u003ctitle\u003e0:c\u0026#45;\u0026#45;2:c\u003c/title\u003e\n\u003cpath fill=\"none\" stroke=\"#000000\" stroke-width=\"3\" stroke-opacity=\"0.188235\" d=\"M296.03,-111.19C308,-102.83 344.36,-77.43 373.4,-57.15\"/\u003e\n\u003c/g\u003e\n\u003c!-- 0\u0026#45;\u0026#45;2 --\u003e\n\u003cg id=\"edge3\" class=\"edge\"\u003e\n\u003ctitle\u003e0:c\u0026#45;\u0026#45;2:c\u003c/title\u003e\n\u003cpath fill=\"none\" stroke=\"#000000\" stroke-width=\"3\" stroke-opacity=\"0.188235\" d=\"M528.73,-110.99C516.58,-102.44 480.86,-77.28 452.28,-57.16\"/\u003e\n\u003c/g\u003e\n\u003c/g\u003e\n\u003c/svg\u003e\n",
            "text/plain": [
              "\u003cgraphviz.dot.Graph at 0x7fa9fee3d590\u003e"
            ]
          },
          "execution_count": 18,
          "metadata": {},
          "output_type": "execute_result"
        }
      ],
      "source": [
        "selectors.select(cfg, nn.Dense).set(dtype=jnp.bfloat16)\n",
        "graphviz.render(cfg)"
      ]
    },
    {
      "cell_type": "code",
      "execution_count": null,
      "metadata": {
        "colab": {
          "height": 280
        },
        "executionInfo": {
          "elapsed": 55,
          "status": "ok",
          "timestamp": 1639679477695,
          "user": {
            "displayName": "",
            "photoUrl": "",
            "userId": ""
          },
          "user_tz": 480
        },
        "id": "gWSXADMONt10",
        "outputId": "29d31e04-aeb1-452a-cdd5-5ee2c020f9f4"
      },
      "outputs": [
        {
          "data": {
            "image/svg+xml": "\u003c?xml version=\"1.0\" encoding=\"UTF-8\" standalone=\"no\"?\u003e\n\u003c!DOCTYPE svg PUBLIC \"-//W3C//DTD SVG 1.1//EN\"\n \"http://www.w3.org/Graphics/SVG/1.1/DTD/svg11.dtd\"\u003e\n\u003c!-- Generated by graphviz version 2.44.1 (20201121.0304)\n --\u003e\n\u003c!-- Pages: 1 --\u003e\n\u003csvg width=\"550pt\" height=\"194pt\"\n viewBox=\"0.00 0.00 549.50 194.00\" xmlns=\"http://www.w3.org/2000/svg\" xmlns:xlink=\"http://www.w3.org/1999/xlink\"\u003e\n\u003cg id=\"graph0\" class=\"graph\" transform=\"scale(1 1) rotate(0) translate(4 190)\"\u003e\n\u003cpolygon fill=\"white\" stroke=\"transparent\" points=\"-4,4 -4,-190 545.5,-190 545.5,4 -4,4\"/\u003e\n\u003c!-- 1 --\u003e\n\u003cg id=\"node1\" class=\"node\"\u003e\n\u003ctitle\u003e1\u003c/title\u003e\n\u003cpolygon fill=\"#90ee90\" stroke=\"transparent\" points=\"0,-57 0,-76 132,-76 132,-57 0,-57\"/\u003e\n\u003cpolygon fill=\"none\" stroke=\"black\" points=\"0,-57 0,-76 132,-76 132,-57 0,-57\"/\u003e\n\u003ctext text-anchor=\"start\" x=\"31.5\" y=\"-65\" font-family=\"Courier,monospace\" font-size=\"8.00\"\u003eConfig:\u003c/text\u003e\n\u003ctext text-anchor=\"start\" x=\"63.5\" y=\"-65\" font-family=\"Courier,monospace\" font-size=\"10.00\"\u003e Dense\u003c/text\u003e\n\u003cpolygon fill=\"#eeeeee\" stroke=\"transparent\" points=\"0,-38 0,-57 57,-57 57,-38 0,-38\"/\u003e\n\u003cpolygon fill=\"none\" stroke=\"black\" points=\"0,-38 0,-57 57,-57 57,-38 0,-38\"/\u003e\n\u003ctext text-anchor=\"start\" x=\"4\" y=\"-45\" font-family=\"Courier,monospace\" font-size=\"10.00\"\u003efeatures\u003c/text\u003e\n\u003cpolygon fill=\"none\" stroke=\"black\" points=\"57,-38 57,-57 132,-57 132,-38 57,-38\"/\u003e\n\u003ctext text-anchor=\"start\" x=\"61\" y=\"-45\" font-family=\"Courier,monospace\" font-size=\"10.00\"\u003e4\u003c/text\u003e\n\u003cpolygon fill=\"#eeeeee\" stroke=\"transparent\" points=\"0,-19 0,-38 57,-38 57,-19 0,-19\"/\u003e\n\u003cpolygon fill=\"none\" stroke=\"black\" points=\"0,-19 0,-38 57,-38 57,-19 0,-19\"/\u003e\n\u003ctext text-anchor=\"start\" x=\"22\" y=\"-26\" font-family=\"Courier,monospace\" font-size=\"10.00\"\u003edtype\u003c/text\u003e\n\u003cpolygon fill=\"none\" stroke=\"black\" points=\"57,-19 57,-38 132,-38 132,-19 57,-19\"/\u003e\n\u003ctext text-anchor=\"start\" x=\"61\" y=\"-26\" font-family=\"Courier,monospace\" font-size=\"10.00\"\u003ejnp.float32\u003c/text\u003e\n\u003cpolygon fill=\"#eeeeee\" stroke=\"transparent\" points=\"0,0 0,-19 57,-19 57,0 0,0\"/\u003e\n\u003cpolygon fill=\"none\" stroke=\"black\" points=\"0,0 0,-19 57,-19 57,0 0,0\"/\u003e\n\u003ctext text-anchor=\"start\" x=\"4\" y=\"-7\" font-family=\"Courier,monospace\" font-size=\"10.00\"\u003euse_bias\u003c/text\u003e\n\u003cpolygon fill=\"none\" stroke=\"black\" points=\"57,0 57,-19 132,-19 132,0 57,0\"/\u003e\n\u003ctext text-anchor=\"start\" x=\"61\" y=\"-7\" font-family=\"Courier,monospace\" font-size=\"10.00\"\u003eFalse\u003c/text\u003e\n\u003c/g\u003e\n\u003c!-- 0 --\u003e\n\u003cg id=\"node2\" class=\"node\"\u003e\n\u003ctitle\u003e0\u003c/title\u003e\n\u003cpolygon fill=\"#ffc0cb\" stroke=\"transparent\" points=\"9,-167 9,-186 542,-186 542,-167 9,-167\"/\u003e\n\u003cpolygon fill=\"none\" stroke=\"black\" points=\"9,-167 9,-186 542,-186 542,-167 9,-167\"/\u003e\n\u003ctext text-anchor=\"start\" x=\"226\" y=\"-175\" font-family=\"Courier,monospace\" font-size=\"8.00\"\u003eConfig:\u003c/text\u003e\n\u003ctext text-anchor=\"start\" x=\"258\" y=\"-175\" font-family=\"Courier,monospace\" font-size=\"10.00\"\u003e Sequential\u003c/text\u003e\n\u003cpolygon fill=\"#eeeeee\" stroke=\"transparent\" points=\"9,-112 9,-167 54,-167 54,-112 9,-112\"/\u003e\n\u003cpolygon fill=\"none\" stroke=\"black\" points=\"9,-112 9,-167 54,-167 54,-112 9,-112\"/\u003e\n\u003ctext text-anchor=\"start\" x=\"13\" y=\"-137\" font-family=\"Courier,monospace\" font-size=\"10.00\"\u003elayers\u003c/text\u003e\n\u003cpolygon fill=\"none\" stroke=\"black\" points=\"54,-112 54,-167 542,-167 542,-112 54,-112\"/\u003e\n\u003cpolygon fill=\"#eeeeee\" stroke=\"transparent\" points=\"58,-144 58,-163 538,-163 538,-144 58,-144\"/\u003e\n\u003cpolygon fill=\"none\" stroke=\"black\" points=\"58,-144 58,-163 538,-163 538,-144 58,-144\"/\u003e\n\u003ctext text-anchor=\"start\" x=\"285.5\" y=\"-151\" font-family=\"Courier,monospace\" font-size=\"10.00\"\u003elist\u003c/text\u003e\n\u003cpolygon fill=\"none\" stroke=\"black\" points=\"58,-125 58,-144 74,-144 74,-125 58,-125\"/\u003e\n\u003cpolygon fill=\"#90ee90\" stroke=\"transparent\" points=\"62,-129 62,-140 70,-140 70,-129 62,-129\"/\u003e\n\u003cpolygon fill=\"none\" stroke=\"black\" points=\"62,-129 62,-140 70,-140 70,-129 62,-129\"/\u003e\n\u003cpolygon fill=\"none\" stroke=\"black\" points=\"74,-125 74,-144 281,-144 281,-125 74,-125\"/\u003e\n\u003ctext text-anchor=\"start\" x=\"78\" y=\"-132\" font-family=\"Courier,monospace\" font-size=\"10.00\"\u003e\u0026lt;function gelu at 0x7faa19d3eef0\u0026gt;\u003c/text\u003e\n\u003cpolygon fill=\"none\" stroke=\"black\" points=\"281,-125 281,-144 297,-144 297,-125 281,-125\"/\u003e\n\u003cpolygon fill=\"#fff8dc\" stroke=\"transparent\" points=\"285,-129 285,-140 293,-140 293,-129 285,-129\"/\u003e\n\u003cpolygon fill=\"none\" stroke=\"black\" points=\"285,-129 285,-140 293,-140 293,-129 285,-129\"/\u003e\n\u003cpolygon fill=\"none\" stroke=\"black\" points=\"297,-125 297,-144 522,-144 522,-125 297,-125\"/\u003e\n\u003ctext text-anchor=\"start\" x=\"301\" y=\"-132\" font-family=\"Courier,monospace\" font-size=\"10.00\"\u003e\u0026lt;function softmax at 0x7faa19d3f0e0\u0026gt;\u003c/text\u003e\n\u003cpolygon fill=\"none\" stroke=\"black\" points=\"522,-125 522,-144 538,-144 538,-125 522,-125\"/\u003e\n\u003cpolygon fill=\"#fff8dc\" stroke=\"transparent\" points=\"526,-129 526,-140 534,-140 534,-129 526,-129\"/\u003e\n\u003cpolygon fill=\"none\" stroke=\"black\" points=\"526,-129 526,-140 534,-140 534,-129 526,-129\"/\u003e\n\u003cpolygon fill=\"#eeeeee\" stroke=\"transparent\" points=\"58,-116 58,-125 74,-125 74,-116 58,-116\"/\u003e\n\u003cpolygon fill=\"none\" stroke=\"black\" points=\"58,-116 58,-125 74,-125 74,-116 58,-116\"/\u003e\n\u003ctext text-anchor=\"start\" x=\"64\" y=\"-119.2\" font-family=\"Courier,monospace\" font-size=\"6.00\"\u003e0\u003c/text\u003e\n\u003cpolygon fill=\"#eeeeee\" stroke=\"transparent\" points=\"74,-116 74,-125 281,-125 281,-116 74,-116\"/\u003e\n\u003cpolygon fill=\"none\" stroke=\"black\" points=\"74,-116 74,-125 281,-125 281,-116 74,-116\"/\u003e\n\u003ctext text-anchor=\"start\" x=\"175.5\" y=\"-119.2\" font-family=\"Courier,monospace\" font-size=\"6.00\"\u003e1\u003c/text\u003e\n\u003cpolygon fill=\"#eeeeee\" stroke=\"transparent\" points=\"281,-116 281,-125 297,-125 297,-116 281,-116\"/\u003e\n\u003cpolygon fill=\"none\" stroke=\"black\" points=\"281,-116 281,-125 297,-125 297,-116 281,-116\"/\u003e\n\u003ctext text-anchor=\"start\" x=\"287\" y=\"-119.2\" font-family=\"Courier,monospace\" font-size=\"6.00\"\u003e2\u003c/text\u003e\n\u003cpolygon fill=\"#eeeeee\" stroke=\"transparent\" points=\"297,-116 297,-125 522,-125 522,-116 297,-116\"/\u003e\n\u003cpolygon fill=\"none\" stroke=\"black\" points=\"297,-116 297,-125 522,-125 522,-116 297,-116\"/\u003e\n\u003ctext text-anchor=\"start\" x=\"407.5\" y=\"-119.2\" font-family=\"Courier,monospace\" font-size=\"6.00\"\u003e3\u003c/text\u003e\n\u003cpolygon fill=\"#eeeeee\" stroke=\"transparent\" points=\"522,-116 522,-125 538,-125 538,-116 522,-116\"/\u003e\n\u003cpolygon fill=\"none\" stroke=\"black\" points=\"522,-116 522,-125 538,-125 538,-116 522,-116\"/\u003e\n\u003ctext text-anchor=\"start\" x=\"528\" y=\"-119.2\" font-family=\"Courier,monospace\" font-size=\"6.00\"\u003e4\u003c/text\u003e\n\u003c/g\u003e\n\u003c!-- 0\u0026#45;\u0026#45;1 --\u003e\n\u003cg id=\"edge1\" class=\"edge\"\u003e\n\u003ctitle\u003e0:c\u0026#45;\u0026#45;1:c\u003c/title\u003e\n\u003cpath fill=\"none\" stroke=\"#000000\" stroke-width=\"3\" stroke-opacity=\"0.188235\" d=\"M66,-128.96C66,-119.82 66,-96.77 66,-76.29\"/\u003e\n\u003c/g\u003e\n\u003c!-- 2 --\u003e\n\u003cg id=\"node3\" class=\"node\"\u003e\n\u003ctitle\u003e2\u003c/title\u003e\n\u003cpolygon fill=\"#fff8dc\" stroke=\"transparent\" points=\"344,-57 344,-76 476,-76 476,-57 344,-57\"/\u003e\n\u003cpolygon fill=\"none\" stroke=\"black\" points=\"344,-57 344,-76 476,-76 476,-57 344,-57\"/\u003e\n\u003ctext text-anchor=\"start\" x=\"375.5\" y=\"-65\" font-family=\"Courier,monospace\" font-size=\"8.00\"\u003eConfig:\u003c/text\u003e\n\u003ctext text-anchor=\"start\" x=\"407.5\" y=\"-65\" font-family=\"Courier,monospace\" font-size=\"10.00\"\u003e Dense\u003c/text\u003e\n\u003cpolygon fill=\"#eeeeee\" stroke=\"transparent\" points=\"344,-38 344,-57 401,-57 401,-38 344,-38\"/\u003e\n\u003cpolygon fill=\"none\" stroke=\"black\" points=\"344,-38 344,-57 401,-57 401,-38 344,-38\"/\u003e\n\u003ctext text-anchor=\"start\" x=\"348\" y=\"-45\" font-family=\"Courier,monospace\" font-size=\"10.00\"\u003efeatures\u003c/text\u003e\n\u003cpolygon fill=\"none\" stroke=\"black\" points=\"401,-38 401,-57 476,-57 476,-38 401,-38\"/\u003e\n\u003ctext text-anchor=\"start\" x=\"405\" y=\"-45\" font-family=\"Courier,monospace\" font-size=\"10.00\"\u003e1\u003c/text\u003e\n\u003cpolygon fill=\"#eeeeee\" stroke=\"transparent\" points=\"344,-19 344,-38 401,-38 401,-19 344,-19\"/\u003e\n\u003cpolygon fill=\"none\" stroke=\"black\" points=\"344,-19 344,-38 401,-38 401,-19 344,-19\"/\u003e\n\u003ctext text-anchor=\"start\" x=\"366\" y=\"-26\" font-family=\"Courier,monospace\" font-size=\"10.00\"\u003edtype\u003c/text\u003e\n\u003cpolygon fill=\"none\" stroke=\"black\" points=\"401,-19 401,-38 476,-38 476,-19 401,-19\"/\u003e\n\u003ctext text-anchor=\"start\" x=\"405\" y=\"-26\" font-family=\"Courier,monospace\" font-size=\"10.00\"\u003ejnp.float32\u003c/text\u003e\n\u003cpolygon fill=\"#eeeeee\" stroke=\"transparent\" points=\"344,0 344,-19 401,-19 401,0 344,0\"/\u003e\n\u003cpolygon fill=\"none\" stroke=\"black\" points=\"344,0 344,-19 401,-19 401,0 344,0\"/\u003e\n\u003ctext text-anchor=\"start\" x=\"348\" y=\"-7\" font-family=\"Courier,monospace\" font-size=\"10.00\"\u003euse_bias\u003c/text\u003e\n\u003cpolygon fill=\"none\" stroke=\"black\" points=\"401,0 401,-19 476,-19 476,0 401,0\"/\u003e\n\u003ctext text-anchor=\"start\" x=\"405\" y=\"-7\" font-family=\"Courier,monospace\" font-size=\"10.00\"\u003eFalse\u003c/text\u003e\n\u003c/g\u003e\n\u003c!-- 0\u0026#45;\u0026#45;2 --\u003e\n\u003cg id=\"edge2\" class=\"edge\"\u003e\n\u003ctitle\u003e0:c\u0026#45;\u0026#45;2:c\u003c/title\u003e\n\u003cpath fill=\"none\" stroke=\"#000000\" stroke-width=\"3\" stroke-opacity=\"0.188235\" d=\"M293.03,-129.87C303.89,-121.43 334.85,-97.38 362.18,-76.15\"/\u003e\n\u003c/g\u003e\n\u003c!-- 0\u0026#45;\u0026#45;2 --\u003e\n\u003cg id=\"edge3\" class=\"edge\"\u003e\n\u003ctitle\u003e0:c\u0026#45;\u0026#45;2:c\u003c/title\u003e\n\u003cpath fill=\"none\" stroke=\"#000000\" stroke-width=\"3\" stroke-opacity=\"0.188235\" d=\"M525.73,-129.65C514.71,-121.02 484.28,-97.19 457.39,-76.13\"/\u003e\n\u003c/g\u003e\n\u003c/g\u003e\n\u003c/svg\u003e\n",
            "text/plain": [
              "\u003cgraphviz.dot.Graph at 0x7fa9fee3dcd0\u003e"
            ]
          },
          "execution_count": 19,
          "metadata": {},
          "output_type": "execute_result"
        }
      ],
      "source": [
        "# You can set multiple values in one operation as well.\n",
        "selectors.select(cfg, nn.Dense).set(use_bias=False, dtype=jnp.float32)\n",
        "graphviz.render(cfg)"
      ]
    },
    {
      "cell_type": "markdown",
      "metadata": {
        "id": "ZfCX0BHmPTfe"
      },
      "source": [
        "For more information (and to learn about `fdl.TaggedValue`), check out the [select() and Tag APIs colab](https://colab.sandbox.google.com/github/google/fiddle/blob/main/fiddle/examples/colabs/select_and_tag_apis.ipynb)."
      ]
    },
    {
      "cell_type": "markdown",
      "metadata": {
        "id": "RB1H0EBjDBl2"
      },
      "source": [
        "### Time-travelling debugging\n",
        "\n",
        "If, when you print out your model, a value is set to an unexpected value, you can easily determine when it got set thanks to the time-travelling debugging infrastructure! `printing.history_per_leaf_parameter` will print out, for each leaf parameter:\n",
        "\n",
        "  1. the current value,\n",
        "  2. where the current value was set (file (or notebook cell), line number, and function name (or `\u003cmodule\u003e` if set at the top-level) after the `@` sign), and\n",
        "  3. all previous values (in reverse chronological order) including where they were set.\n",
        "\n",
        "For additional information, check out the doc-strings for `printing` and each function."
      ]
    },
    {
      "cell_type": "code",
      "execution_count": null,
      "metadata": {
        "executionInfo": {
          "elapsed": 4,
          "status": "ok",
          "timestamp": 1639679478005,
          "user": {
            "displayName": "",
            "photoUrl": "",
            "userId": ""
          },
          "user_tz": 480
        },
        "id": "jfI8l3wsKG8z",
        "outputId": "54544189-0620-43ad-c0f7-f141a9b27a0d"
      },
      "outputs": [
        {
          "name": "stdout",
          "output_type": "stream",
          "text": [
            "layers[0].features = 4 @ \u003cipython-input-14-d5dfc72e0365\u003e:3:\u003cmodule\u003e\n",
            "layers[0].dtype = \u003cclass 'jax._src.numpy.lax_numpy.float32'\u003e @ /<src_root>/fiddle/experimental/selectors.py:107:set\n",
            "  - previously: \u003cclass 'jax._src.numpy.lax_numpy.bfloat16'\u003e @ /<src_root>/fiddle/experimental/selectors.py:107:set\n",
            "layers[0].use_bias = False @ /<src_root>/fiddle/experimental/selectors.py:107:set\n",
            "layers[0].bias_init = \u003c[unset]\u003e\n",
            "layers[0].kernel_init = \u003c[unset]\u003e\n",
            "layers[0].name = \u003c[unset]\u003e\n",
            "layers[0].parent = \u003c[unset]\u003e\n",
            "layers[0].precision = \u003c[unset]\u003e\n",
            "layers[1] = \u003cfunction gelu at 0x7faa19d3eef0\u003e\n",
            "layers[2].features = 1 @ \u003cipython-input-14-d5dfc72e0365\u003e:5:\u003cmodule\u003e\n",
            "layers[2].dtype = \u003cclass 'jax._src.numpy.lax_numpy.float32'\u003e @ /<src_root>/fiddle/experimental/selectors.py:107:set\n",
            "  - previously: \u003cclass 'jax._src.numpy.lax_numpy.bfloat16'\u003e @ /<src_root>/fiddle/experimental/selectors.py:107:set\n",
            "layers[2].use_bias = False @ /<src_root>/fiddle/experimental/selectors.py:107:set\n",
            "layers[2].bias_init = \u003c[unset]\u003e\n",
            "layers[2].kernel_init = \u003c[unset]\u003e\n",
            "layers[2].name = \u003c[unset]\u003e\n",
            "layers[2].parent = \u003c[unset]\u003e\n",
            "layers[2].precision = \u003c[unset]\u003e\n",
            "layers[3] = \u003cfunction softmax at 0x7faa19d3f0e0\u003e\n",
            "layers[4].features = 1 @ \u003cipython-input-14-d5dfc72e0365\u003e:5:\u003cmodule\u003e\n",
            "layers[4].dtype = \u003cclass 'jax._src.numpy.lax_numpy.float32'\u003e @ /<src_root>/fiddle/experimental/selectors.py:107:set\n",
            "  - previously: \u003cclass 'jax._src.numpy.lax_numpy.bfloat16'\u003e @ /<src_root>/fiddle/experimental/selectors.py:107:set\n",
            "layers[4].use_bias = False @ /<src_root>/fiddle/experimental/selectors.py:107:set\n",
            "layers[4].bias_init = \u003c[unset]\u003e\n",
            "layers[4].kernel_init = \u003c[unset]\u003e\n",
            "layers[4].name = \u003c[unset]\u003e\n",
            "layers[4].parent = \u003c[unset]\u003e\n",
            "layers[4].precision = \u003c[unset]\u003e\n",
            "name = \u003c[unset]\u003e\n",
            "parent = \u003c[unset]\u003e\n"
          ]
        }
      ],
      "source": [
        "print(printing.history_per_leaf_parameter(cfg))"
      ]
    },
    {
      "cell_type": "markdown",
      "metadata": {
        "id": "h9yJcq12RXsp"
      },
      "source": [
        "### Grep-able/diff-able representations\n",
        "\n",
        "Fiddle configs can be converted into a string that is easily machine-processable by standard unix tools such as `grep` and `diff`. It includes type annotations (if the corresponding classes include them), and also includes all unset parameters and their defaults (if available).\n",
        "\n",
        "\u003e Note: this format intentionally flattens out any aliased sub-configurations."
      ]
    },
    {
      "cell_type": "code",
      "execution_count": null,
      "metadata": {
        "executionInfo": {
          "elapsed": 54,
          "status": "ok",
          "timestamp": 1639679478441,
          "user": {
            "displayName": "",
            "photoUrl": "",
            "userId": ""
          },
          "user_tz": 480
        },
        "id": "XEq_9WFMRmPX",
        "outputId": "04e31cc0-e7d0-43d4-d9f5-9c8d6ffabcf8"
      },
      "outputs": [
        {
          "name": "stdout",
          "output_type": "stream",
          "text": [
            "layers[0].features: int = 4\n",
            "layers[0].use_bias: bool = False\n",
            "layers[0].dtype: typing.Any = \u003cclass 'jax._src.numpy.lax_numpy.float32'\u003e\n",
            "layers[0].precision: typing.Any = \u003c[unset; default: None]\u003e\n",
            "layers[0].kernel_init: typing.Callable[[typing.Any, typing.Iterable[int], typing.Any], typing.Any] = \u003c[unset; default: \u003cfunction variance_scaling.\u003clocals\u003e.init at 0x7faa19fb1b00\u003e]\u003e\n",
            "layers[0].bias_init: typing.Callable[[typing.Any, typing.Iterable[int], typing.Any], typing.Any] = \u003c[unset; default: \u003cfunction zeros at 0x7faa1a590680\u003e]\u003e\n",
            "layers[0].parent: typing.Union[typing.Type[ForwardRef('Module')], typing.Type[ForwardRef('Scope')], typing.Type[ForwardRef('_Sentinel')], NoneType] = \u003c[unset; default: \u003cflax.linen.module._Sentinel object at 0x7faa19fe4d90\u003e]\u003e\n",
            "layers[0].name: str = \u003c[unset; default: None]\u003e\n",
            "layers[1] = \u003cfunction gelu at 0x7faa19d3eef0\u003e\n",
            "layers[2].features: int = 1\n",
            "layers[2].use_bias: bool = False\n",
            "layers[2].dtype: typing.Any = \u003cclass 'jax._src.numpy.lax_numpy.float32'\u003e\n",
            "layers[2].precision: typing.Any = \u003c[unset; default: None]\u003e\n",
            "layers[2].kernel_init: typing.Callable[[typing.Any, typing.Iterable[int], typing.Any], typing.Any] = \u003c[unset; default: \u003cfunction variance_scaling.\u003clocals\u003e.init at 0x7faa19fb1b00\u003e]\u003e\n",
            "layers[2].bias_init: typing.Callable[[typing.Any, typing.Iterable[int], typing.Any], typing.Any] = \u003c[unset; default: \u003cfunction zeros at 0x7faa1a590680\u003e]\u003e\n",
            "layers[2].parent: typing.Union[typing.Type[ForwardRef('Module')], typing.Type[ForwardRef('Scope')], typing.Type[ForwardRef('_Sentinel')], NoneType] = \u003c[unset; default: \u003cflax.linen.module._Sentinel object at 0x7faa19fe4d90\u003e]\u003e\n",
            "layers[2].name: str = \u003c[unset; default: None]\u003e\n",
            "layers[3] = \u003cfunction softmax at 0x7faa19d3f0e0\u003e\n",
            "layers[4].features: int = 1\n",
            "layers[4].use_bias: bool = False\n",
            "layers[4].dtype: typing.Any = \u003cclass 'jax._src.numpy.lax_numpy.float32'\u003e\n",
            "layers[4].precision: typing.Any = \u003c[unset; default: None]\u003e\n",
            "layers[4].kernel_init: typing.Callable[[typing.Any, typing.Iterable[int], typing.Any], typing.Any] = \u003c[unset; default: \u003cfunction variance_scaling.\u003clocals\u003e.init at 0x7faa19fb1b00\u003e]\u003e\n",
            "layers[4].bias_init: typing.Callable[[typing.Any, typing.Iterable[int], typing.Any], typing.Any] = \u003c[unset; default: \u003cfunction zeros at 0x7faa1a590680\u003e]\u003e\n",
            "layers[4].parent: typing.Union[typing.Type[ForwardRef('Module')], typing.Type[ForwardRef('Scope')], typing.Type[ForwardRef('_Sentinel')], NoneType] = \u003c[unset; default: \u003cflax.linen.module._Sentinel object at 0x7faa19fe4d90\u003e]\u003e\n",
            "layers[4].name: str = \u003c[unset; default: None]\u003e\n",
            "parent: typing.Union[typing.Type[ForwardRef('Module')], typing.Type[ForwardRef('Scope')], typing.Type[ForwardRef('_Sentinel')], NoneType] = \u003c[unset; default: \u003cflax.linen.module._Sentinel object at 0x7faa19fe4d90\u003e]\u003e\n",
            "name: str = \u003c[unset; default: None]\u003e\n"
          ]
        }
      ],
      "source": [
        "print(printing.as_str_flattened(cfg))"
      ]
    },
    {
      "cell_type": "markdown",
      "metadata": {
        "id": "9qnCEjsITRZs"
      },
      "source": [
        "## Beyond \"single-file\" programming\n",
        "\n",
        "Fiddle has been designed with the complete software lifecycle in mind, from early experimentation to production-grade applications powered by machine learning models."
      ]
    },
    {
      "cell_type": "markdown",
      "metadata": {
        "id": "pG_WEZdwQKeC"
      },
      "source": [
        "### ABSL Flags\n",
        "\n",
        "Fiddle has an extension to integrate with [absl Flags](https://abseil.io/docs/python/guides/flags). To learn more, check out our [sample application](http://github.com/google/fiddle/tree/main/fiddle/absl_flags/example/) that includes recommended split of code between code files."
      ]
    },
    {
      "cell_type": "markdown",
      "metadata": {
        "id": "5dSQ4gQTQLSx"
      },
      "source": [
        "### Testing\n",
        "\n",
        "TODO: Document when available."
      ]
    },
    {
      "cell_type": "markdown",
      "metadata": {
        "id": "uXSPy6ToPfWK"
      },
      "source": [
        "## Integrations\n",
        "\n",
        "Fiddle has been designed to interoperate with a number of existing configuration systems to support easy migration to (or from) Fiddle in an incremental fashion. To learn more about them, please see their respective documentation:\n",
        "\n",
        " - [Gin Config](TODO)\n",
        " - [Lingvo Params](TODO)"
      ]
    }
  ],
  "metadata": {
    "colab": {
      "collapsed_sections": [],
      "last_runtime": {
        
        "kind": "private"
      },
      "name": "Fiddle Tutorial",
      "provenance": [
        {
          "file_id": "1zWQmD7ctT_lrLqLOJe_vEl8zTLgaRKiR",
          "timestamp": 1639000689189
        }
      ],
      "toc_visible": true
    },
    "kernelspec": {
      "display_name": "Python 3",
      "name": "python3"
    },
    "language_info": {
      "name": "python"
    }
  },
  "nbformat": 4,
  "nbformat_minor": 0
}
