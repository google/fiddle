{
  "cells": [
    {
      "cell_type": "markdown",
      "metadata": {
        "id": "g-6PWMr45WIL"
      },
      "source": [
        "# Fiddle visualization, printing, and codegen\n",
        "\n",
        "*Please see https://github.com/google/fiddle/blob/main/docs/colabs.md for other colabs.*\n",
        "\n",
        "Fiddle allows developers to visualize their configuration DAGs in a variety of\n",
        "ways. These introspection tools can be used to:\n",
        "\n",
        "*   Modify configuration, e.g. when an experimenter is customizing a model that\n",
        "    is complex.\n",
        "*   Dump all configuration values when an experiment is launched, in order to\n",
        "    create concise summaries of the effective configuration.\n",
        "*   Debug experimental configuration override code, by printing a history of\n",
        "    assignments to config values."
      ]
    },
    {
      "cell_type": "code",
      "execution_count": 1,
      "metadata": {
        "executionInfo": {
          "elapsed": 18783,
          "status": "ok",
          "timestamp": 1684359263736,
          "user": {
            "displayName": "",
            "userId": ""
          },
          "user_tz": 420
        },
        "id": "IxyQ9TPX5RWs"
      },
      "outputs": [],
      "source": [
        "!pip install fiddle\n",
        "\n",
        "\n",
        "\n",
        "\n",
        "import fiddle as fdl\n",
        "from fiddle import graphviz\n",
        "from fiddle import printing\n",
        "from fiddle.codegen import codegen\n",
        "from fiddle.experimental import visualize\n",
        "import fiddle.extensions.jax\n",
        "\n",
        "fiddle.extensions.jax.enable()  # Nicer printout for JAX types; non-essential."
      ]
    },
    {
      "cell_type": "markdown",
      "metadata": {
        "id": "tpND73mT75cA"
      },
      "source": [
        "## Running example\n",
        "\n",
        "Let's consider a dual encoder model, similar to our intro notebook. In this\n",
        "case, we'll aim to configure a model that has separate continuous encoders for\n",
        "queries and documents, but shares token embeddings."
      ]
    },
    {
      "cell_type": "code",
      "execution_count": 2,
      "metadata": {
        "executionInfo": {
          "elapsed": 1239,
          "status": "ok",
          "timestamp": 1684359265192,
          "user": {
            "displayName": "",
            "userId": ""
          },
          "user_tz": 420
        },
        "id": "C-ZuYc4b7uVY",
        "outputId": "a8d538d8-df42-4128-a1ff-fc675dda6f84"
      },
      "outputs": [
        {
          "data": {
            "text/plain": [
              "Array([-1.5902882, -2.9393113, -1.2368726], dtype=float32)"
            ]
          },
          "execution_count": 2,
          "metadata": {},
          "output_type": "execute_result"
        }
      ],
      "source": [
        "from typing import Any, Dict\n",
        "\n",
        "from flax import linen as nn\n",
        "import jax\n",
        "import jax.numpy as jnp\n",
        "\n",
        "\n",
        "class TokenEmbedder(nn.Module):\n",
        "  num_embeddings: int\n",
        "  features: int\n",
        "  embedding_init: Any\n",
        "  dtype: Any = jnp.float32  # Activation dtype; params are always float32\n",
        "\n",
        "  def setup(self):\n",
        "    self.embedding = self.param(\n",
        "        'embedding',\n",
        "        self.embedding_init,\n",
        "        (self.num_embeddings, self.features),\n",
        "        jnp.float32,\n",
        "    )\n",
        "\n",
        "  def __call__(self, inputs: jnp.ndarray) -\u003e jnp.ndarray:\n",
        "    return jnp.asarray(self.embedding[inputs], self.dtype)\n",
        "\n",
        "\n",
        "class SimpleEncoder(nn.Module):\n",
        "  token_embedder: nn.Module\n",
        "  output_features: int\n",
        "\n",
        "  @nn.compact\n",
        "  def __call__(self, inputs: jnp.ndarray) -\u003e jnp.ndarray:\n",
        "    embedded = self.token_embedder(inputs)\n",
        "    return nn.Dense(features=self.output_features)(embedded)\n",
        "\n",
        "\n",
        "class DualEncoder(nn.Module):\n",
        "  query_encoder: SimpleEncoder\n",
        "  document_encoder: SimpleEncoder\n",
        "\n",
        "  def __call__(self, query, document):\n",
        "    return jnp.einsum(\n",
        "        '...h,...h-\u003e...',\n",
        "        self.query_encoder(query),\n",
        "        self.document_encoder(document),\n",
        "    )\n",
        "\n",
        "\n",
        "def base_config() -\u003e fdl.Config[DualEncoder]:\n",
        "  shared_token_embedder = fdl.Config(\n",
        "      TokenEmbedder,\n",
        "      num_embeddings=12,\n",
        "      features=3,\n",
        "      embedding_init=fdl.Config(\n",
        "          nn.initializers.variance_scaling, 1.0, 'fan_in', 'normal',\n",
        "          out_axis=0))\n",
        "  return fdl.Config(\n",
        "      DualEncoder,\n",
        "      query_encoder=fdl.Config(SimpleEncoder, shared_token_embedder, 12),\n",
        "      document_encoder=fdl.Config(SimpleEncoder, shared_token_embedder, 12),\n",
        "  )\n",
        "\n",
        "\n",
        "# Run the model, just to show that it is a valid Flax module.\n",
        "model = fdl.build(base_config())\n",
        "output, variables = model.init_with_output(\n",
        "    jax.random.PRNGKey(0),\n",
        "    query=jnp.array([1, 2, 4], jnp.int32),\n",
        "    document=jnp.array([1, 2, 4], jnp.int32),\n",
        ")\n",
        "output"
      ]
    },
    {
      "cell_type": "markdown",
      "metadata": {
        "id": "LIQgowNHd1en"
      },
      "source": [
        "## Graphviz rendering\n",
        "\n",
        "We can visualize this model using the `graphviz.render()` API,"
      ]
    },
    {
      "cell_type": "code",
      "execution_count": 3,
      "metadata": {
        "colab": {
          "height": 629
        },
        "executionInfo": {
          "elapsed": 12799,
          "status": "ok",
          "timestamp": 1684359278147,
          "user": {
            "displayName": "",
            "userId": ""
          },
          "user_tz": 420
        },
        "id": "XbBAsdcAd1Iv",
        "outputId": "1e5c4bfb-6dd4-4126-c3f2-195d13649636"
      },
      "outputs": [
        {
          "data": {
            "image/svg+xml": "\u003c?xml version=\"1.0\" encoding=\"UTF-8\" standalone=\"no\"?\u003e\n\u003c!DOCTYPE svg PUBLIC \"-//W3C//DTD SVG 1.1//EN\"\n \"http://www.w3.org/Graphics/SVG/1.1/DTD/svg11.dtd\"\u003e\n\u003c!-- Generated by graphviz version 2.44.1 (20201121.0304)\n --\u003e\n\u003c!-- Pages: 1 --\u003e\n\u003csvg width=\"313pt\" height=\"401pt\"\n viewBox=\"0.00 0.00 313.00 401.00\" xmlns=\"http://www.w3.org/2000/svg\" xmlns:xlink=\"http://www.w3.org/1999/xlink\"\u003e\n\u003cg id=\"graph0\" class=\"graph\" transform=\"scale(1 1) rotate(0) translate(4 397)\"\u003e\n\u003cpolygon fill=\"white\" stroke=\"none\" points=\"-4,4 -4,-397 309,-397 309,4 -4,4\"/\u003e\n\u003c!-- 3 --\u003e\n\u003cg id=\"node1\" class=\"node\"\u003e\n\u003ctitle\u003e3\u003c/title\u003e\n\u003cpolygon fill=\"#ffa07a\" stroke=\"none\" points=\"162,-76 162,-95 305,-95 305,-76 162,-76\"/\u003e\n\u003cpolygon fill=\"none\" stroke=\"black\" points=\"162,-76 162,-95 305,-95 305,-76 162,-76\"/\u003e\n\u003ctext text-anchor=\"start\" x=\"166\" y=\"-84\" font-family=\"Courier,monospace\" font-size=\"8.00\"\u003eConfig:\u003c/text\u003e\n\u003ctext text-anchor=\"start\" x=\"198\" y=\"-84\" font-family=\"Courier,monospace\" font-size=\"10.00\"\u003e variance_scaling\u003c/text\u003e\n\u003cpolygon fill=\"#eeeeee\" stroke=\"none\" points=\"162,-57 162,-76 245,-76 245,-57 162,-57\"/\u003e\n\u003cpolygon fill=\"none\" stroke=\"black\" points=\"162,-57 162,-76 245,-76 245,-57 162,-57\"/\u003e\n\u003ctext text-anchor=\"start\" x=\"210\" y=\"-64\" font-family=\"Courier,monospace\" font-size=\"10.00\"\u003escale\u003c/text\u003e\n\u003cpolygon fill=\"none\" stroke=\"black\" points=\"245,-57 245,-76 305,-76 305,-57 245,-57\"/\u003e\n\u003ctext text-anchor=\"start\" x=\"249\" y=\"-64\" font-family=\"Courier,monospace\" font-size=\"10.00\"\u003e1.0\u003c/text\u003e\n\u003cpolygon fill=\"#eeeeee\" stroke=\"none\" points=\"162,-38 162,-57 245,-57 245,-38 162,-38\"/\u003e\n\u003cpolygon fill=\"none\" stroke=\"black\" points=\"162,-38 162,-57 245,-57 245,-38 162,-38\"/\u003e\n\u003ctext text-anchor=\"start\" x=\"216\" y=\"-45\" font-family=\"Courier,monospace\" font-size=\"10.00\"\u003emode\u003c/text\u003e\n\u003cpolygon fill=\"none\" stroke=\"black\" points=\"245,-38 245,-57 305,-57 305,-38 245,-38\"/\u003e\n\u003ctext text-anchor=\"start\" x=\"249\" y=\"-45\" font-family=\"Courier,monospace\" font-size=\"10.00\"\u003e\u0026#39;fan_in\u0026#39;\u003c/text\u003e\n\u003cpolygon fill=\"#eeeeee\" stroke=\"none\" points=\"162,-19 162,-38 245,-38 245,-19 162,-19\"/\u003e\n\u003cpolygon fill=\"none\" stroke=\"black\" points=\"162,-19 162,-38 245,-38 245,-19 162,-19\"/\u003e\n\u003ctext text-anchor=\"start\" x=\"168\" y=\"-26\" font-family=\"Courier,monospace\" font-size=\"10.00\"\u003edistribution\u003c/text\u003e\n\u003cpolygon fill=\"none\" stroke=\"black\" points=\"245,-19 245,-38 305,-38 305,-19 245,-19\"/\u003e\n\u003ctext text-anchor=\"start\" x=\"249\" y=\"-26\" font-family=\"Courier,monospace\" font-size=\"10.00\"\u003e\u0026#39;normal\u0026#39;\u003c/text\u003e\n\u003cpolygon fill=\"#eeeeee\" stroke=\"none\" points=\"162,0 162,-19 245,-19 245,0 162,0\"/\u003e\n\u003cpolygon fill=\"none\" stroke=\"black\" points=\"162,0 162,-19 245,-19 245,0 162,0\"/\u003e\n\u003ctext text-anchor=\"start\" x=\"192\" y=\"-7\" font-family=\"Courier,monospace\" font-size=\"10.00\"\u003eout_axis\u003c/text\u003e\n\u003cpolygon fill=\"none\" stroke=\"black\" points=\"245,0 245,-19 305,-19 305,0 245,0\"/\u003e\n\u003ctext text-anchor=\"start\" x=\"249\" y=\"-7\" font-family=\"Courier,monospace\" font-size=\"10.00\"\u003e0\u003c/text\u003e\n\u003c/g\u003e\n\u003c!-- 2 --\u003e\n\u003cg id=\"node2\" class=\"node\"\u003e\n\u003ctitle\u003e2\u003c/title\u003e\n\u003cpolygon fill=\"#fff8dc\" stroke=\"none\" points=\"122,-188 122,-207 247,-207 247,-188 122,-188\"/\u003e\n\u003cpolygon fill=\"none\" stroke=\"black\" points=\"122,-188 122,-207 247,-207 247,-188 122,-188\"/\u003e\n\u003ctext text-anchor=\"start\" x=\"126\" y=\"-196\" font-family=\"Courier,monospace\" font-size=\"8.00\"\u003eConfig:\u003c/text\u003e\n\u003ctext text-anchor=\"start\" x=\"158\" y=\"-196\" font-family=\"Courier,monospace\" font-size=\"10.00\"\u003e TokenEmbedder\u003c/text\u003e\n\u003cpolygon fill=\"#eeeeee\" stroke=\"none\" points=\"122,-169 122,-188 220,-188 220,-169 122,-169\"/\u003e\n\u003cpolygon fill=\"none\" stroke=\"black\" points=\"122,-169 122,-188 220,-188 220,-169 122,-169\"/\u003e\n\u003ctext text-anchor=\"start\" x=\"131\" y=\"-176\" font-family=\"Courier,monospace\" font-size=\"10.00\"\u003enum_embeddings\u003c/text\u003e\n\u003cpolygon fill=\"none\" stroke=\"black\" points=\"220,-169 220,-188 247,-188 247,-169 220,-169\"/\u003e\n\u003ctext text-anchor=\"start\" x=\"224\" y=\"-176\" font-family=\"Courier,monospace\" font-size=\"10.00\"\u003e12\u003c/text\u003e\n\u003cpolygon fill=\"#eeeeee\" stroke=\"none\" points=\"122,-150 122,-169 220,-169 220,-150 122,-150\"/\u003e\n\u003cpolygon fill=\"none\" stroke=\"black\" points=\"122,-150 122,-169 220,-169 220,-150 122,-150\"/\u003e\n\u003ctext text-anchor=\"start\" x=\"167\" y=\"-157\" font-family=\"Courier,monospace\" font-size=\"10.00\"\u003efeatures\u003c/text\u003e\n\u003cpolygon fill=\"none\" stroke=\"black\" points=\"220,-150 220,-169 247,-169 247,-150 220,-150\"/\u003e\n\u003ctext text-anchor=\"start\" x=\"224\" y=\"-157\" font-family=\"Courier,monospace\" font-size=\"10.00\"\u003e3\u003c/text\u003e\n\u003cpolygon fill=\"#eeeeee\" stroke=\"none\" points=\"122,-131 122,-150 220,-150 220,-131 122,-131\"/\u003e\n\u003cpolygon fill=\"none\" stroke=\"black\" points=\"122,-131 122,-150 220,-150 220,-131 122,-131\"/\u003e\n\u003ctext text-anchor=\"start\" x=\"131\" y=\"-138\" font-family=\"Courier,monospace\" font-size=\"10.00\"\u003eembedding_init\u003c/text\u003e\n\u003cpolygon fill=\"none\" stroke=\"black\" points=\"220,-131 220,-150 247,-150 247,-131 220,-131\"/\u003e\n\u003cpolygon fill=\"#ffa07a\" stroke=\"none\" points=\"224,-135 224,-146 243,-146 243,-135 224,-135\"/\u003e\n\u003cpolygon fill=\"none\" stroke=\"black\" points=\"224,-135 224,-146 243,-146 243,-135 224,-135\"/\u003e\n\u003c/g\u003e\n\u003c!-- 2\u0026#45;\u0026#45;3 --\u003e\n\u003cg id=\"edge1\" class=\"edge\"\u003e\n\u003ctitle\u003e2:c\u0026#45;\u0026#45;3:c\u003c/title\u003e\n\u003cpath fill=\"none\" stroke=\"#cb8061\" stroke-width=\"3\" stroke-opacity=\"0.501961\" d=\"M233.5,-135.11C233.5,-127.8 233.5,-111.25 233.5,-94.55\"/\u003e\n\u003c/g\u003e\n\u003c!-- 1 --\u003e\n\u003cg id=\"node3\" class=\"node\"\u003e\n\u003ctitle\u003e1\u003c/title\u003e\n\u003cpolygon fill=\"#90ee90\" stroke=\"none\" points=\"0,-281 0,-300 125,-300 125,-281 0,-281\"/\u003e\n\u003cpolygon fill=\"none\" stroke=\"black\" points=\"0,-281 0,-300 125,-300 125,-281 0,-281\"/\u003e\n\u003ctext text-anchor=\"start\" x=\"4\" y=\"-289\" font-family=\"Courier,monospace\" font-size=\"8.00\"\u003eConfig:\u003c/text\u003e\n\u003ctext text-anchor=\"start\" x=\"36\" y=\"-289\" font-family=\"Courier,monospace\" font-size=\"10.00\"\u003e SimpleEncoder\u003c/text\u003e\n\u003cpolygon fill=\"#eeeeee\" stroke=\"none\" points=\"0,-262 0,-281 101,-281 101,-262 0,-262\"/\u003e\n\u003cpolygon fill=\"none\" stroke=\"black\" points=\"0,-262 0,-281 101,-281 101,-262 0,-262\"/\u003e\n\u003ctext text-anchor=\"start\" x=\"12\" y=\"-269\" font-family=\"Courier,monospace\" font-size=\"10.00\"\u003etoken_embedder\u003c/text\u003e\n\u003cpolygon fill=\"none\" stroke=\"black\" points=\"101,-262 101,-281 125,-281 125,-262 101,-262\"/\u003e\n\u003cpolygon fill=\"#fff8dc\" stroke=\"none\" points=\"105,-266 105,-277 121,-277 121,-266 105,-266\"/\u003e\n\u003cpolygon fill=\"none\" stroke=\"black\" points=\"105,-266 105,-277 121,-277 121,-266 105,-266\"/\u003e\n\u003cpolygon fill=\"#eeeeee\" stroke=\"none\" points=\"0,-243 0,-262 101,-262 101,-243 0,-243\"/\u003e\n\u003cpolygon fill=\"none\" stroke=\"black\" points=\"0,-243 0,-262 101,-262 101,-243 0,-243\"/\u003e\n\u003ctext text-anchor=\"start\" x=\"6\" y=\"-250\" font-family=\"Courier,monospace\" font-size=\"10.00\"\u003eoutput_features\u003c/text\u003e\n\u003cpolygon fill=\"none\" stroke=\"black\" points=\"101,-243 101,-262 125,-262 125,-243 101,-243\"/\u003e\n\u003ctext text-anchor=\"start\" x=\"105\" y=\"-250\" font-family=\"Courier,monospace\" font-size=\"10.00\"\u003e12\u003c/text\u003e\n\u003c/g\u003e\n\u003c!-- 1\u0026#45;\u0026#45;2 --\u003e\n\u003cg id=\"edge2\" class=\"edge\"\u003e\n\u003ctitle\u003e1:c\u0026#45;\u0026#45;2:c\u003c/title\u003e\n\u003cpath fill=\"none\" stroke=\"#cbc6b0\" stroke-width=\"3\" stroke-opacity=\"0.501961\" d=\"M116.55,-266.18C123.77,-255.96 142.5,-229.46 158.47,-206.85\"/\u003e\n\u003c/g\u003e\n\u003c!-- 0 --\u003e\n\u003cg id=\"node4\" class=\"node\"\u003e\n\u003ctitle\u003e0\u003c/title\u003e\n\u003cpolygon fill=\"#ffc0cb\" stroke=\"none\" points=\"20,-374 20,-393 141,-393 141,-374 20,-374\"/\u003e\n\u003cpolygon fill=\"none\" stroke=\"black\" points=\"20,-374 20,-393 141,-393 141,-374 20,-374\"/\u003e\n\u003ctext text-anchor=\"start\" x=\"28\" y=\"-382\" font-family=\"Courier,monospace\" font-size=\"8.00\"\u003eConfig:\u003c/text\u003e\n\u003ctext text-anchor=\"start\" x=\"60\" y=\"-382\" font-family=\"Courier,monospace\" font-size=\"10.00\"\u003e DualEncoder\u003c/text\u003e\n\u003cpolygon fill=\"#eeeeee\" stroke=\"none\" points=\"20,-355 20,-374 125,-374 125,-355 20,-355\"/\u003e\n\u003cpolygon fill=\"none\" stroke=\"black\" points=\"20,-355 20,-374 125,-374 125,-355 20,-355\"/\u003e\n\u003ctext text-anchor=\"start\" x=\"42\" y=\"-362\" font-family=\"Courier,monospace\" font-size=\"10.00\"\u003equery_encoder\u003c/text\u003e\n\u003cpolygon fill=\"none\" stroke=\"black\" points=\"125,-355 125,-374 141,-374 141,-355 125,-355\"/\u003e\n\u003cpolygon fill=\"#90ee90\" stroke=\"none\" points=\"129,-359 129,-370 137,-370 137,-359 129,-359\"/\u003e\n\u003cpolygon fill=\"none\" stroke=\"black\" points=\"129,-359 129,-370 137,-370 137,-359 129,-359\"/\u003e\n\u003cpolygon fill=\"#eeeeee\" stroke=\"none\" points=\"20,-336 20,-355 125,-355 125,-336 20,-336\"/\u003e\n\u003cpolygon fill=\"none\" stroke=\"black\" points=\"20,-336 20,-355 125,-355 125,-336 20,-336\"/\u003e\n\u003ctext text-anchor=\"start\" x=\"24\" y=\"-343\" font-family=\"Courier,monospace\" font-size=\"10.00\"\u003edocument_encoder\u003c/text\u003e\n\u003cpolygon fill=\"none\" stroke=\"black\" points=\"125,-336 125,-355 141,-355 141,-336 125,-336\"/\u003e\n\u003cpolygon fill=\"#add8e6\" stroke=\"none\" points=\"129,-340 129,-351 137,-351 137,-340 129,-340\"/\u003e\n\u003cpolygon fill=\"none\" stroke=\"black\" points=\"129,-340 129,-351 137,-351 137,-340 129,-340\"/\u003e\n\u003c/g\u003e\n\u003c!-- 0\u0026#45;\u0026#45;1 --\u003e\n\u003cg id=\"edge3\" class=\"edge\"\u003e\n\u003ctitle\u003e0:c\u0026#45;\u0026#45;1:c\u003c/title\u003e\n\u003cpath fill=\"none\" stroke=\"#73be73\" stroke-width=\"3\" stroke-opacity=\"0.501961\" d=\"M130.08,-359.11C121.82,-348.53 100.28,-320.93 83.72,-299.7\"/\u003e\n\u003c/g\u003e\n\u003c!-- 4 --\u003e\n\u003cg id=\"node5\" class=\"node\"\u003e\n\u003ctitle\u003e4\u003c/title\u003e\n\u003cpolygon fill=\"#add8e6\" stroke=\"none\" points=\"143,-281 143,-300 268,-300 268,-281 143,-281\"/\u003e\n\u003cpolygon fill=\"none\" stroke=\"black\" points=\"143,-281 143,-300 268,-300 268,-281 143,-281\"/\u003e\n\u003ctext text-anchor=\"start\" x=\"147\" y=\"-289\" font-family=\"Courier,monospace\" font-size=\"8.00\"\u003eConfig:\u003c/text\u003e\n\u003ctext text-anchor=\"start\" x=\"179\" y=\"-289\" font-family=\"Courier,monospace\" font-size=\"10.00\"\u003e SimpleEncoder\u003c/text\u003e\n\u003cpolygon fill=\"#eeeeee\" stroke=\"none\" points=\"143,-262 143,-281 244,-281 244,-262 143,-262\"/\u003e\n\u003cpolygon fill=\"none\" stroke=\"black\" points=\"143,-262 143,-281 244,-281 244,-262 143,-262\"/\u003e\n\u003ctext text-anchor=\"start\" x=\"155\" y=\"-269\" font-family=\"Courier,monospace\" font-size=\"10.00\"\u003etoken_embedder\u003c/text\u003e\n\u003cpolygon fill=\"none\" stroke=\"black\" points=\"244,-262 244,-281 268,-281 268,-262 244,-262\"/\u003e\n\u003cpolygon fill=\"#fff8dc\" stroke=\"none\" points=\"248,-266 248,-277 264,-277 264,-266 248,-266\"/\u003e\n\u003cpolygon fill=\"none\" stroke=\"black\" points=\"248,-266 248,-277 264,-277 264,-266 248,-266\"/\u003e\n\u003cpolygon fill=\"#eeeeee\" stroke=\"none\" points=\"143,-243 143,-262 244,-262 244,-243 143,-243\"/\u003e\n\u003cpolygon fill=\"none\" stroke=\"black\" points=\"143,-243 143,-262 244,-262 244,-243 143,-243\"/\u003e\n\u003ctext text-anchor=\"start\" x=\"149\" y=\"-250\" font-family=\"Courier,monospace\" font-size=\"10.00\"\u003eoutput_features\u003c/text\u003e\n\u003cpolygon fill=\"none\" stroke=\"black\" points=\"244,-243 244,-262 268,-262 268,-243 244,-243\"/\u003e\n\u003ctext text-anchor=\"start\" x=\"248\" y=\"-250\" font-family=\"Courier,monospace\" font-size=\"10.00\"\u003e12\u003c/text\u003e\n\u003c/g\u003e\n\u003c!-- 0\u0026#45;\u0026#45;4 --\u003e\n\u003cg id=\"edge5\" class=\"edge\"\u003e\n\u003ctitle\u003e0:c\u0026#45;\u0026#45;4:c\u003c/title\u003e\n\u003cpath fill=\"none\" stroke=\"#8aacb7\" stroke-width=\"3\" stroke-opacity=\"0.501961\" d=\"M136.97,-341.03C144.39,-333.61 162.38,-315.62 178.06,-299.94\"/\u003e\n\u003c/g\u003e\n\u003c!-- 4\u0026#45;\u0026#45;2 --\u003e\n\u003cg id=\"edge4\" class=\"edge\"\u003e\n\u003ctitle\u003e4:c\u0026#45;\u0026#45;2:c\u003c/title\u003e\n\u003cpath fill=\"none\" stroke=\"#cbc6b0\" stroke-width=\"3\" stroke-opacity=\"0.501961\" d=\"M253.41,-266.18C246.08,-255.96 227.1,-229.46 210.9,-206.85\"/\u003e\n\u003c/g\u003e\n\u003c/g\u003e\n\u003c/svg\u003e\n",
            "text/plain": [
              "\u003cgraphviz.graphs.Graph at 0x7fd244d6aaa0\u003e"
            ]
          },
          "execution_count": 3,
          "metadata": {},
          "output_type": "execute_result"
        }
      ],
      "source": [
        "graphviz.render(base_config())"
      ]
    },
    {
      "cell_type": "markdown",
      "metadata": {
        "id": "yzzXmP1ceK68"
      },
      "source": [
        "The `TokenEmbedder`'s `dtype` parameter has not been configured, so it is just\n",
        "using the default defined in the class. If we set it, it will appear in this\n",
        "visualization,"
      ]
    },
    {
      "cell_type": "code",
      "execution_count": 4,
      "metadata": {
        "colab": {
          "height": 581
        },
        "executionInfo": {
          "elapsed": 67,
          "status": "ok",
          "timestamp": 1684359278423,
          "user": {
            "displayName": "",
            "userId": ""
          },
          "user_tz": 420
        },
        "id": "cakIrrfpeJte",
        "outputId": "5ddcacf2-acf5-4341-cb7a-f104a4aaef3c"
      },
      "outputs": [
        {
          "data": {
            "image/svg+xml": "\u003c?xml version=\"1.0\" encoding=\"UTF-8\" standalone=\"no\"?\u003e\n\u003c!DOCTYPE svg PUBLIC \"-//W3C//DTD SVG 1.1//EN\"\n \"http://www.w3.org/Graphics/SVG/1.1/DTD/svg11.dtd\"\u003e\n\u003c!-- Generated by graphviz version 2.44.1 (20201121.0304)\n --\u003e\n\u003c!-- Pages: 1 --\u003e\n\u003csvg width=\"311pt\" height=\"420pt\"\n viewBox=\"0.00 0.00 311.00 420.00\" xmlns=\"http://www.w3.org/2000/svg\" xmlns:xlink=\"http://www.w3.org/1999/xlink\"\u003e\n\u003cg id=\"graph0\" class=\"graph\" transform=\"scale(1 1) rotate(0) translate(4 416)\"\u003e\n\u003cpolygon fill=\"white\" stroke=\"none\" points=\"-4,4 -4,-416 307,-416 307,4 -4,4\"/\u003e\n\u003c!-- 3 --\u003e\n\u003cg id=\"node1\" class=\"node\"\u003e\n\u003ctitle\u003e3\u003c/title\u003e\n\u003cpolygon fill=\"#ffa07a\" stroke=\"none\" points=\"160,-76 160,-95 303,-95 303,-76 160,-76\"/\u003e\n\u003cpolygon fill=\"none\" stroke=\"black\" points=\"160,-76 160,-95 303,-95 303,-76 160,-76\"/\u003e\n\u003ctext text-anchor=\"start\" x=\"164\" y=\"-84\" font-family=\"Courier,monospace\" font-size=\"8.00\"\u003eConfig:\u003c/text\u003e\n\u003ctext text-anchor=\"start\" x=\"196\" y=\"-84\" font-family=\"Courier,monospace\" font-size=\"10.00\"\u003e variance_scaling\u003c/text\u003e\n\u003cpolygon fill=\"#eeeeee\" stroke=\"none\" points=\"160,-57 160,-76 243,-76 243,-57 160,-57\"/\u003e\n\u003cpolygon fill=\"none\" stroke=\"black\" points=\"160,-57 160,-76 243,-76 243,-57 160,-57\"/\u003e\n\u003ctext text-anchor=\"start\" x=\"208\" y=\"-64\" font-family=\"Courier,monospace\" font-size=\"10.00\"\u003escale\u003c/text\u003e\n\u003cpolygon fill=\"none\" stroke=\"black\" points=\"243,-57 243,-76 303,-76 303,-57 243,-57\"/\u003e\n\u003ctext text-anchor=\"start\" x=\"247\" y=\"-64\" font-family=\"Courier,monospace\" font-size=\"10.00\"\u003e1.0\u003c/text\u003e\n\u003cpolygon fill=\"#eeeeee\" stroke=\"none\" points=\"160,-38 160,-57 243,-57 243,-38 160,-38\"/\u003e\n\u003cpolygon fill=\"none\" stroke=\"black\" points=\"160,-38 160,-57 243,-57 243,-38 160,-38\"/\u003e\n\u003ctext text-anchor=\"start\" x=\"214\" y=\"-45\" font-family=\"Courier,monospace\" font-size=\"10.00\"\u003emode\u003c/text\u003e\n\u003cpolygon fill=\"none\" stroke=\"black\" points=\"243,-38 243,-57 303,-57 303,-38 243,-38\"/\u003e\n\u003ctext text-anchor=\"start\" x=\"247\" y=\"-45\" font-family=\"Courier,monospace\" font-size=\"10.00\"\u003e\u0026#39;fan_in\u0026#39;\u003c/text\u003e\n\u003cpolygon fill=\"#eeeeee\" stroke=\"none\" points=\"160,-19 160,-38 243,-38 243,-19 160,-19\"/\u003e\n\u003cpolygon fill=\"none\" stroke=\"black\" points=\"160,-19 160,-38 243,-38 243,-19 160,-19\"/\u003e\n\u003ctext text-anchor=\"start\" x=\"166\" y=\"-26\" font-family=\"Courier,monospace\" font-size=\"10.00\"\u003edistribution\u003c/text\u003e\n\u003cpolygon fill=\"none\" stroke=\"black\" points=\"243,-19 243,-38 303,-38 303,-19 243,-19\"/\u003e\n\u003ctext text-anchor=\"start\" x=\"247\" y=\"-26\" font-family=\"Courier,monospace\" font-size=\"10.00\"\u003e\u0026#39;normal\u0026#39;\u003c/text\u003e\n\u003cpolygon fill=\"#eeeeee\" stroke=\"none\" points=\"160,0 160,-19 243,-19 243,0 160,0\"/\u003e\n\u003cpolygon fill=\"none\" stroke=\"black\" points=\"160,0 160,-19 243,-19 243,0 160,0\"/\u003e\n\u003ctext text-anchor=\"start\" x=\"190\" y=\"-7\" font-family=\"Courier,monospace\" font-size=\"10.00\"\u003eout_axis\u003c/text\u003e\n\u003cpolygon fill=\"none\" stroke=\"black\" points=\"243,0 243,-19 303,-19 303,0 243,0\"/\u003e\n\u003ctext text-anchor=\"start\" x=\"247\" y=\"-7\" font-family=\"Courier,monospace\" font-size=\"10.00\"\u003e0\u003c/text\u003e\n\u003c/g\u003e\n\u003c!-- 2 --\u003e\n\u003cg id=\"node2\" class=\"node\"\u003e\n\u003ctitle\u003e2\u003c/title\u003e\n\u003cpolygon fill=\"#fff8dc\" stroke=\"none\" points=\"97.5,-207 97.5,-226 271.5,-226 271.5,-207 97.5,-207\"/\u003e\n\u003cpolygon fill=\"none\" stroke=\"black\" points=\"97.5,-207 97.5,-226 271.5,-226 271.5,-207 97.5,-207\"/\u003e\n\u003ctext text-anchor=\"start\" x=\"126\" y=\"-215\" font-family=\"Courier,monospace\" font-size=\"8.00\"\u003eConfig:\u003c/text\u003e\n\u003ctext text-anchor=\"start\" x=\"158\" y=\"-215\" font-family=\"Courier,monospace\" font-size=\"10.00\"\u003e TokenEmbedder\u003c/text\u003e\n\u003cpolygon fill=\"#eeeeee\" stroke=\"none\" points=\"97.5,-188 97.5,-207 190.5,-207 190.5,-188 97.5,-188\"/\u003e\n\u003cpolygon fill=\"none\" stroke=\"black\" points=\"97.5,-188 97.5,-207 190.5,-207 190.5,-188 97.5,-188\"/\u003e\n\u003ctext text-anchor=\"start\" x=\"101.5\" y=\"-195\" font-family=\"Courier,monospace\" font-size=\"10.00\"\u003enum_embeddings\u003c/text\u003e\n\u003cpolygon fill=\"none\" stroke=\"black\" points=\"190.5,-188 190.5,-207 271.5,-207 271.5,-188 190.5,-188\"/\u003e\n\u003ctext text-anchor=\"start\" x=\"194.5\" y=\"-195\" font-family=\"Courier,monospace\" font-size=\"10.00\"\u003e12\u003c/text\u003e\n\u003cpolygon fill=\"#eeeeee\" stroke=\"none\" points=\"97.5,-169 97.5,-188 190.5,-188 190.5,-169 97.5,-169\"/\u003e\n\u003cpolygon fill=\"none\" stroke=\"black\" points=\"97.5,-169 97.5,-188 190.5,-188 190.5,-169 97.5,-169\"/\u003e\n\u003ctext text-anchor=\"start\" x=\"137.5\" y=\"-176\" font-family=\"Courier,monospace\" font-size=\"10.00\"\u003efeatures\u003c/text\u003e\n\u003cpolygon fill=\"none\" stroke=\"black\" points=\"190.5,-169 190.5,-188 271.5,-188 271.5,-169 190.5,-169\"/\u003e\n\u003ctext text-anchor=\"start\" x=\"194.5\" y=\"-176\" font-family=\"Courier,monospace\" font-size=\"10.00\"\u003e3\u003c/text\u003e\n\u003cpolygon fill=\"#eeeeee\" stroke=\"none\" points=\"97.5,-150 97.5,-169 190.5,-169 190.5,-150 97.5,-150\"/\u003e\n\u003cpolygon fill=\"none\" stroke=\"black\" points=\"97.5,-150 97.5,-169 190.5,-169 190.5,-150 97.5,-150\"/\u003e\n\u003ctext text-anchor=\"start\" x=\"101.5\" y=\"-157\" font-family=\"Courier,monospace\" font-size=\"10.00\"\u003eembedding_init\u003c/text\u003e\n\u003cpolygon fill=\"none\" stroke=\"black\" points=\"190.5,-150 190.5,-169 271.5,-169 271.5,-150 190.5,-150\"/\u003e\n\u003cpolygon fill=\"#ffa07a\" stroke=\"none\" points=\"194.5,-154 194.5,-165 267.5,-165 267.5,-154 194.5,-154\"/\u003e\n\u003cpolygon fill=\"none\" stroke=\"black\" points=\"194.5,-154 194.5,-165 267.5,-165 267.5,-154 194.5,-154\"/\u003e\n\u003cpolygon fill=\"#eeeeee\" stroke=\"none\" points=\"97.5,-131 97.5,-150 190.5,-150 190.5,-131 97.5,-131\"/\u003e\n\u003cpolygon fill=\"none\" stroke=\"black\" points=\"97.5,-131 97.5,-150 190.5,-150 190.5,-131 97.5,-131\"/\u003e\n\u003ctext text-anchor=\"start\" x=\"155.5\" y=\"-138\" font-family=\"Courier,monospace\" font-size=\"10.00\"\u003edtype\u003c/text\u003e\n\u003cpolygon fill=\"none\" stroke=\"black\" points=\"190.5,-131 190.5,-150 271.5,-150 271.5,-131 190.5,-131\"/\u003e\n\u003ctext text-anchor=\"start\" x=\"194.5\" y=\"-138\" font-family=\"Courier,monospace\" font-size=\"10.00\"\u003ejnp.bfloat16\u003c/text\u003e\n\u003c/g\u003e\n\u003c!-- 2\u0026#45;\u0026#45;3 --\u003e\n\u003cg id=\"edge1\" class=\"edge\"\u003e\n\u003ctitle\u003e2:c\u0026#45;\u0026#45;3:c\u003c/title\u003e\n\u003cpath fill=\"none\" stroke=\"#cb8061\" stroke-width=\"3\" stroke-opacity=\"0.501961\" d=\"M231.5,-154.05C231.5,-143.96 231.5,-118.4 231.5,-94.96\"/\u003e\n\u003c/g\u003e\n\u003c!-- 1 --\u003e\n\u003cg id=\"node3\" class=\"node\"\u003e\n\u003ctitle\u003e1\u003c/title\u003e\n\u003cpolygon fill=\"#90ee90\" stroke=\"none\" points=\"0,-300 0,-319 125,-319 125,-300 0,-300\"/\u003e\n\u003cpolygon fill=\"none\" stroke=\"black\" points=\"0,-300 0,-319 125,-319 125,-300 0,-300\"/\u003e\n\u003ctext text-anchor=\"start\" x=\"4\" y=\"-308\" font-family=\"Courier,monospace\" font-size=\"8.00\"\u003eConfig:\u003c/text\u003e\n\u003ctext text-anchor=\"start\" x=\"36\" y=\"-308\" font-family=\"Courier,monospace\" font-size=\"10.00\"\u003e SimpleEncoder\u003c/text\u003e\n\u003cpolygon fill=\"#eeeeee\" stroke=\"none\" points=\"0,-281 0,-300 101,-300 101,-281 0,-281\"/\u003e\n\u003cpolygon fill=\"none\" stroke=\"black\" points=\"0,-281 0,-300 101,-300 101,-281 0,-281\"/\u003e\n\u003ctext text-anchor=\"start\" x=\"12\" y=\"-288\" font-family=\"Courier,monospace\" font-size=\"10.00\"\u003etoken_embedder\u003c/text\u003e\n\u003cpolygon fill=\"none\" stroke=\"black\" points=\"101,-281 101,-300 125,-300 125,-281 101,-281\"/\u003e\n\u003cpolygon fill=\"#fff8dc\" stroke=\"none\" points=\"105,-285 105,-296 121,-296 121,-285 105,-285\"/\u003e\n\u003cpolygon fill=\"none\" stroke=\"black\" points=\"105,-285 105,-296 121,-296 121,-285 105,-285\"/\u003e\n\u003cpolygon fill=\"#eeeeee\" stroke=\"none\" points=\"0,-262 0,-281 101,-281 101,-262 0,-262\"/\u003e\n\u003cpolygon fill=\"none\" stroke=\"black\" points=\"0,-262 0,-281 101,-281 101,-262 0,-262\"/\u003e\n\u003ctext text-anchor=\"start\" x=\"6\" y=\"-269\" font-family=\"Courier,monospace\" font-size=\"10.00\"\u003eoutput_features\u003c/text\u003e\n\u003cpolygon fill=\"none\" stroke=\"black\" points=\"101,-262 101,-281 125,-281 125,-262 101,-262\"/\u003e\n\u003ctext text-anchor=\"start\" x=\"105\" y=\"-269\" font-family=\"Courier,monospace\" font-size=\"10.00\"\u003e12\u003c/text\u003e\n\u003c/g\u003e\n\u003c!-- 1\u0026#45;\u0026#45;2 --\u003e\n\u003cg id=\"edge2\" class=\"edge\"\u003e\n\u003ctitle\u003e1:c\u0026#45;\u0026#45;2:c\u003c/title\u003e\n\u003cpath fill=\"none\" stroke=\"#cbc6b0\" stroke-width=\"3\" stroke-opacity=\"0.501961\" d=\"M116.37,-285.05C122.88,-274.96 139.38,-249.4 154.51,-225.96\"/\u003e\n\u003c/g\u003e\n\u003c!-- 0 --\u003e\n\u003cg id=\"node4\" class=\"node\"\u003e\n\u003ctitle\u003e0\u003c/title\u003e\n\u003cpolygon fill=\"#ffc0cb\" stroke=\"none\" points=\"20,-393 20,-412 141,-412 141,-393 20,-393\"/\u003e\n\u003cpolygon fill=\"none\" stroke=\"black\" points=\"20,-393 20,-412 141,-412 141,-393 20,-393\"/\u003e\n\u003ctext text-anchor=\"start\" x=\"28\" y=\"-401\" font-family=\"Courier,monospace\" font-size=\"8.00\"\u003eConfig:\u003c/text\u003e\n\u003ctext text-anchor=\"start\" x=\"60\" y=\"-401\" font-family=\"Courier,monospace\" font-size=\"10.00\"\u003e DualEncoder\u003c/text\u003e\n\u003cpolygon fill=\"#eeeeee\" stroke=\"none\" points=\"20,-374 20,-393 125,-393 125,-374 20,-374\"/\u003e\n\u003cpolygon fill=\"none\" stroke=\"black\" points=\"20,-374 20,-393 125,-393 125,-374 20,-374\"/\u003e\n\u003ctext text-anchor=\"start\" x=\"42\" y=\"-381\" font-family=\"Courier,monospace\" font-size=\"10.00\"\u003equery_encoder\u003c/text\u003e\n\u003cpolygon fill=\"none\" stroke=\"black\" points=\"125,-374 125,-393 141,-393 141,-374 125,-374\"/\u003e\n\u003cpolygon fill=\"#90ee90\" stroke=\"none\" points=\"129,-378 129,-389 137,-389 137,-378 129,-378\"/\u003e\n\u003cpolygon fill=\"none\" stroke=\"black\" points=\"129,-378 129,-389 137,-389 137,-378 129,-378\"/\u003e\n\u003cpolygon fill=\"#eeeeee\" stroke=\"none\" points=\"20,-355 20,-374 125,-374 125,-355 20,-355\"/\u003e\n\u003cpolygon fill=\"none\" stroke=\"black\" points=\"20,-355 20,-374 125,-374 125,-355 20,-355\"/\u003e\n\u003ctext text-anchor=\"start\" x=\"24\" y=\"-362\" font-family=\"Courier,monospace\" font-size=\"10.00\"\u003edocument_encoder\u003c/text\u003e\n\u003cpolygon fill=\"none\" stroke=\"black\" points=\"125,-355 125,-374 141,-374 141,-355 125,-355\"/\u003e\n\u003cpolygon fill=\"#add8e6\" stroke=\"none\" points=\"129,-359 129,-370 137,-370 137,-359 129,-359\"/\u003e\n\u003cpolygon fill=\"none\" stroke=\"black\" points=\"129,-359 129,-370 137,-370 137,-359 129,-359\"/\u003e\n\u003c/g\u003e\n\u003c!-- 0\u0026#45;\u0026#45;1 --\u003e\n\u003cg id=\"edge3\" class=\"edge\"\u003e\n\u003ctitle\u003e0:c\u0026#45;\u0026#45;1:c\u003c/title\u003e\n\u003cpath fill=\"none\" stroke=\"#73be73\" stroke-width=\"3\" stroke-opacity=\"0.501961\" d=\"M130.08,-378.11C121.82,-367.53 100.28,-339.93 83.72,-318.7\"/\u003e\n\u003c/g\u003e\n\u003c!-- 4 --\u003e\n\u003cg id=\"node5\" class=\"node\"\u003e\n\u003ctitle\u003e4\u003c/title\u003e\n\u003cpolygon fill=\"#add8e6\" stroke=\"none\" points=\"143,-300 143,-319 268,-319 268,-300 143,-300\"/\u003e\n\u003cpolygon fill=\"none\" stroke=\"black\" points=\"143,-300 143,-319 268,-319 268,-300 143,-300\"/\u003e\n\u003ctext text-anchor=\"start\" x=\"147\" y=\"-308\" font-family=\"Courier,monospace\" font-size=\"8.00\"\u003eConfig:\u003c/text\u003e\n\u003ctext text-anchor=\"start\" x=\"179\" y=\"-308\" font-family=\"Courier,monospace\" font-size=\"10.00\"\u003e SimpleEncoder\u003c/text\u003e\n\u003cpolygon fill=\"#eeeeee\" stroke=\"none\" points=\"143,-281 143,-300 244,-300 244,-281 143,-281\"/\u003e\n\u003cpolygon fill=\"none\" stroke=\"black\" points=\"143,-281 143,-300 244,-300 244,-281 143,-281\"/\u003e\n\u003ctext text-anchor=\"start\" x=\"155\" y=\"-288\" font-family=\"Courier,monospace\" font-size=\"10.00\"\u003etoken_embedder\u003c/text\u003e\n\u003cpolygon fill=\"none\" stroke=\"black\" points=\"244,-281 244,-300 268,-300 268,-281 244,-281\"/\u003e\n\u003cpolygon fill=\"#fff8dc\" stroke=\"none\" points=\"248,-285 248,-296 264,-296 264,-285 248,-285\"/\u003e\n\u003cpolygon fill=\"none\" stroke=\"black\" points=\"248,-285 248,-296 264,-296 264,-285 248,-285\"/\u003e\n\u003cpolygon fill=\"#eeeeee\" stroke=\"none\" points=\"143,-262 143,-281 244,-281 244,-262 143,-262\"/\u003e\n\u003cpolygon fill=\"none\" stroke=\"black\" points=\"143,-262 143,-281 244,-281 244,-262 143,-262\"/\u003e\n\u003ctext text-anchor=\"start\" x=\"149\" y=\"-269\" font-family=\"Courier,monospace\" font-size=\"10.00\"\u003eoutput_features\u003c/text\u003e\n\u003cpolygon fill=\"none\" stroke=\"black\" points=\"244,-262 244,-281 268,-281 268,-262 244,-262\"/\u003e\n\u003ctext text-anchor=\"start\" x=\"248\" y=\"-269\" font-family=\"Courier,monospace\" font-size=\"10.00\"\u003e12\u003c/text\u003e\n\u003c/g\u003e\n\u003c!-- 0\u0026#45;\u0026#45;4 --\u003e\n\u003cg id=\"edge5\" class=\"edge\"\u003e\n\u003ctitle\u003e0:c\u0026#45;\u0026#45;4:c\u003c/title\u003e\n\u003cpath fill=\"none\" stroke=\"#8aacb7\" stroke-width=\"3\" stroke-opacity=\"0.501961\" d=\"M136.97,-360.03C144.39,-352.61 162.38,-334.62 178.06,-318.94\"/\u003e\n\u003c/g\u003e\n\u003c!-- 4\u0026#45;\u0026#45;2 --\u003e\n\u003cg id=\"edge4\" class=\"edge\"\u003e\n\u003ctitle\u003e4:c\u0026#45;\u0026#45;2:c\u003c/title\u003e\n\u003cpath fill=\"none\" stroke=\"#cbc6b0\" stroke-width=\"3\" stroke-opacity=\"0.501961\" d=\"M253.59,-285.05C246.98,-274.96 230.25,-249.4 214.91,-225.96\"/\u003e\n\u003c/g\u003e\n\u003c/g\u003e\n\u003c/svg\u003e\n",
            "text/plain": [
              "\u003cgraphviz.graphs.Graph at 0x7fd244d69720\u003e"
            ]
          },
          "execution_count": 4,
          "metadata": {},
          "output_type": "execute_result"
        }
      ],
      "source": [
        "cfg = base_config()\n",
        "cfg.query_encoder.token_embedder.dtype = jnp.bfloat16\n",
        "graphviz.render(cfg)"
      ]
    },
    {
      "cell_type": "markdown",
      "metadata": {
        "id": "fHF3nHnUeSV_"
      },
      "source": [
        "You'll notice that this is nicely rendered as `jnp.bfloat16` instead of its\n",
        "`repr()` string, `\u003cclass 'jax._src.numpy.lax_numpy.bfloat16'\u003e`; this is because\n",
        "we called `fiddle.extensions.jax.enable()` in the beginning of this colab.\n",
        "However, these JAX extensions are not necessary for graphviz to work."
      ]
    },
    {
      "cell_type": "markdown",
      "metadata": {
        "id": "u5tHfd1ay6Xr"
      },
      "source": [
        "### Trimming large graphs\n",
        "\n",
        "The `visualize` module provides convenient ways to trim large graphs. For\n",
        "example, let's say that you wanted to print the configuration without the\n",
        "`document_encoder` details,"
      ]
    },
    {
      "cell_type": "code",
      "execution_count": 5,
      "metadata": {
        "colab": {
          "height": 581
        },
        "executionInfo": {
          "elapsed": 61,
          "status": "ok",
          "timestamp": 1684359278673,
          "user": {
            "displayName": "",
            "userId": ""
          },
          "user_tz": 420
        },
        "id": "Uuv4VdhnHtnh",
        "outputId": "1a081534-a911-4cfd-dca6-b6e10b6f6103"
      },
      "outputs": [
        {
          "data": {
            "image/svg+xml": "\u003c?xml version=\"1.0\" encoding=\"UTF-8\" standalone=\"no\"?\u003e\n\u003c!DOCTYPE svg PUBLIC \"-//W3C//DTD SVG 1.1//EN\"\n \"http://www.w3.org/Graphics/SVG/1.1/DTD/svg11.dtd\"\u003e\n\u003c!-- Generated by graphviz version 2.44.1 (20201121.0304)\n --\u003e\n\u003c!-- Pages: 1 --\u003e\n\u003csvg width=\"324pt\" height=\"420pt\"\n viewBox=\"0.00 0.00 323.50 420.00\" xmlns=\"http://www.w3.org/2000/svg\" xmlns:xlink=\"http://www.w3.org/1999/xlink\"\u003e\n\u003cg id=\"graph0\" class=\"graph\" transform=\"scale(1 1) rotate(0) translate(4 416)\"\u003e\n\u003cpolygon fill=\"white\" stroke=\"none\" points=\"-4,4 -4,-416 319.5,-416 319.5,4 -4,4\"/\u003e\n\u003c!-- 3 --\u003e\n\u003cg id=\"node1\" class=\"node\"\u003e\n\u003ctitle\u003e3\u003c/title\u003e\n\u003cpolygon fill=\"#ffa07a\" stroke=\"none\" points=\"172.5,-76 172.5,-95 315.5,-95 315.5,-76 172.5,-76\"/\u003e\n\u003cpolygon fill=\"none\" stroke=\"black\" points=\"172.5,-76 172.5,-95 315.5,-95 315.5,-76 172.5,-76\"/\u003e\n\u003ctext text-anchor=\"start\" x=\"176.5\" y=\"-84\" font-family=\"Courier,monospace\" font-size=\"8.00\"\u003eConfig:\u003c/text\u003e\n\u003ctext text-anchor=\"start\" x=\"208.5\" y=\"-84\" font-family=\"Courier,monospace\" font-size=\"10.00\"\u003e variance_scaling\u003c/text\u003e\n\u003cpolygon fill=\"#eeeeee\" stroke=\"none\" points=\"172.5,-57 172.5,-76 255.5,-76 255.5,-57 172.5,-57\"/\u003e\n\u003cpolygon fill=\"none\" stroke=\"black\" points=\"172.5,-57 172.5,-76 255.5,-76 255.5,-57 172.5,-57\"/\u003e\n\u003ctext text-anchor=\"start\" x=\"220.5\" y=\"-64\" font-family=\"Courier,monospace\" font-size=\"10.00\"\u003escale\u003c/text\u003e\n\u003cpolygon fill=\"none\" stroke=\"black\" points=\"255.5,-57 255.5,-76 315.5,-76 315.5,-57 255.5,-57\"/\u003e\n\u003ctext text-anchor=\"start\" x=\"259.5\" y=\"-64\" font-family=\"Courier,monospace\" font-size=\"10.00\"\u003e1.0\u003c/text\u003e\n\u003cpolygon fill=\"#eeeeee\" stroke=\"none\" points=\"172.5,-38 172.5,-57 255.5,-57 255.5,-38 172.5,-38\"/\u003e\n\u003cpolygon fill=\"none\" stroke=\"black\" points=\"172.5,-38 172.5,-57 255.5,-57 255.5,-38 172.5,-38\"/\u003e\n\u003ctext text-anchor=\"start\" x=\"226.5\" y=\"-45\" font-family=\"Courier,monospace\" font-size=\"10.00\"\u003emode\u003c/text\u003e\n\u003cpolygon fill=\"none\" stroke=\"black\" points=\"255.5,-38 255.5,-57 315.5,-57 315.5,-38 255.5,-38\"/\u003e\n\u003ctext text-anchor=\"start\" x=\"259.5\" y=\"-45\" font-family=\"Courier,monospace\" font-size=\"10.00\"\u003e\u0026#39;fan_in\u0026#39;\u003c/text\u003e\n\u003cpolygon fill=\"#eeeeee\" stroke=\"none\" points=\"172.5,-19 172.5,-38 255.5,-38 255.5,-19 172.5,-19\"/\u003e\n\u003cpolygon fill=\"none\" stroke=\"black\" points=\"172.5,-19 172.5,-38 255.5,-38 255.5,-19 172.5,-19\"/\u003e\n\u003ctext text-anchor=\"start\" x=\"178.5\" y=\"-26\" font-family=\"Courier,monospace\" font-size=\"10.00\"\u003edistribution\u003c/text\u003e\n\u003cpolygon fill=\"none\" stroke=\"black\" points=\"255.5,-19 255.5,-38 315.5,-38 315.5,-19 255.5,-19\"/\u003e\n\u003ctext text-anchor=\"start\" x=\"259.5\" y=\"-26\" font-family=\"Courier,monospace\" font-size=\"10.00\"\u003e\u0026#39;normal\u0026#39;\u003c/text\u003e\n\u003cpolygon fill=\"#eeeeee\" stroke=\"none\" points=\"172.5,0 172.5,-19 255.5,-19 255.5,0 172.5,0\"/\u003e\n\u003cpolygon fill=\"none\" stroke=\"black\" points=\"172.5,0 172.5,-19 255.5,-19 255.5,0 172.5,0\"/\u003e\n\u003ctext text-anchor=\"start\" x=\"202.5\" y=\"-7\" font-family=\"Courier,monospace\" font-size=\"10.00\"\u003eout_axis\u003c/text\u003e\n\u003cpolygon fill=\"none\" stroke=\"black\" points=\"255.5,0 255.5,-19 315.5,-19 315.5,0 255.5,0\"/\u003e\n\u003ctext text-anchor=\"start\" x=\"259.5\" y=\"-7\" font-family=\"Courier,monospace\" font-size=\"10.00\"\u003e0\u003c/text\u003e\n\u003c/g\u003e\n\u003c!-- 2 --\u003e\n\u003cg id=\"node2\" class=\"node\"\u003e\n\u003ctitle\u003e2\u003c/title\u003e\n\u003cpolygon fill=\"#fff8dc\" stroke=\"none\" points=\"110,-207 110,-226 284,-226 284,-207 110,-207\"/\u003e\n\u003cpolygon fill=\"none\" stroke=\"black\" points=\"110,-207 110,-226 284,-226 284,-207 110,-207\"/\u003e\n\u003ctext text-anchor=\"start\" x=\"138.5\" y=\"-215\" font-family=\"Courier,monospace\" font-size=\"8.00\"\u003eConfig:\u003c/text\u003e\n\u003ctext text-anchor=\"start\" x=\"170.5\" y=\"-215\" font-family=\"Courier,monospace\" font-size=\"10.00\"\u003e TokenEmbedder\u003c/text\u003e\n\u003cpolygon fill=\"#eeeeee\" stroke=\"none\" points=\"110,-188 110,-207 203,-207 203,-188 110,-188\"/\u003e\n\u003cpolygon fill=\"none\" stroke=\"black\" points=\"110,-188 110,-207 203,-207 203,-188 110,-188\"/\u003e\n\u003ctext text-anchor=\"start\" x=\"114\" y=\"-195\" font-family=\"Courier,monospace\" font-size=\"10.00\"\u003enum_embeddings\u003c/text\u003e\n\u003cpolygon fill=\"none\" stroke=\"black\" points=\"203,-188 203,-207 284,-207 284,-188 203,-188\"/\u003e\n\u003ctext text-anchor=\"start\" x=\"207\" y=\"-195\" font-family=\"Courier,monospace\" font-size=\"10.00\"\u003e12\u003c/text\u003e\n\u003cpolygon fill=\"#eeeeee\" stroke=\"none\" points=\"110,-169 110,-188 203,-188 203,-169 110,-169\"/\u003e\n\u003cpolygon fill=\"none\" stroke=\"black\" points=\"110,-169 110,-188 203,-188 203,-169 110,-169\"/\u003e\n\u003ctext text-anchor=\"start\" x=\"150\" y=\"-176\" font-family=\"Courier,monospace\" font-size=\"10.00\"\u003efeatures\u003c/text\u003e\n\u003cpolygon fill=\"none\" stroke=\"black\" points=\"203,-169 203,-188 284,-188 284,-169 203,-169\"/\u003e\n\u003ctext text-anchor=\"start\" x=\"207\" y=\"-176\" font-family=\"Courier,monospace\" font-size=\"10.00\"\u003e3\u003c/text\u003e\n\u003cpolygon fill=\"#eeeeee\" stroke=\"none\" points=\"110,-150 110,-169 203,-169 203,-150 110,-150\"/\u003e\n\u003cpolygon fill=\"none\" stroke=\"black\" points=\"110,-150 110,-169 203,-169 203,-150 110,-150\"/\u003e\n\u003ctext text-anchor=\"start\" x=\"114\" y=\"-157\" font-family=\"Courier,monospace\" font-size=\"10.00\"\u003eembedding_init\u003c/text\u003e\n\u003cpolygon fill=\"none\" stroke=\"black\" points=\"203,-150 203,-169 284,-169 284,-150 203,-150\"/\u003e\n\u003cpolygon fill=\"#ffa07a\" stroke=\"none\" points=\"207,-154 207,-165 280,-165 280,-154 207,-154\"/\u003e\n\u003cpolygon fill=\"none\" stroke=\"black\" points=\"207,-154 207,-165 280,-165 280,-154 207,-154\"/\u003e\n\u003cpolygon fill=\"#eeeeee\" stroke=\"none\" points=\"110,-131 110,-150 203,-150 203,-131 110,-131\"/\u003e\n\u003cpolygon fill=\"none\" stroke=\"black\" points=\"110,-131 110,-150 203,-150 203,-131 110,-131\"/\u003e\n\u003ctext text-anchor=\"start\" x=\"168\" y=\"-138\" font-family=\"Courier,monospace\" font-size=\"10.00\"\u003edtype\u003c/text\u003e\n\u003cpolygon fill=\"none\" stroke=\"black\" points=\"203,-131 203,-150 284,-150 284,-131 203,-131\"/\u003e\n\u003ctext text-anchor=\"start\" x=\"207\" y=\"-138\" font-family=\"Courier,monospace\" font-size=\"10.00\"\u003ejnp.bfloat16\u003c/text\u003e\n\u003c/g\u003e\n\u003c!-- 2\u0026#45;\u0026#45;3 --\u003e\n\u003cg id=\"edge1\" class=\"edge\"\u003e\n\u003ctitle\u003e2:c\u0026#45;\u0026#45;3:c\u003c/title\u003e\n\u003cpath fill=\"none\" stroke=\"#cb8061\" stroke-width=\"3\" stroke-opacity=\"0.501961\" d=\"M244,-154.05C244,-143.96 244,-118.4 244,-94.96\"/\u003e\n\u003c/g\u003e\n\u003c!-- 1 --\u003e\n\u003cg id=\"node3\" class=\"node\"\u003e\n\u003ctitle\u003e1\u003c/title\u003e\n\u003cpolygon fill=\"#90ee90\" stroke=\"none\" points=\"83.5,-300 83.5,-319 208.5,-319 208.5,-300 83.5,-300\"/\u003e\n\u003cpolygon fill=\"none\" stroke=\"black\" points=\"83.5,-300 83.5,-319 208.5,-319 208.5,-300 83.5,-300\"/\u003e\n\u003ctext text-anchor=\"start\" x=\"87.5\" y=\"-308\" font-family=\"Courier,monospace\" font-size=\"8.00\"\u003eConfig:\u003c/text\u003e\n\u003ctext text-anchor=\"start\" x=\"119.5\" y=\"-308\" font-family=\"Courier,monospace\" font-size=\"10.00\"\u003e SimpleEncoder\u003c/text\u003e\n\u003cpolygon fill=\"#eeeeee\" stroke=\"none\" points=\"83.5,-281 83.5,-300 184.5,-300 184.5,-281 83.5,-281\"/\u003e\n\u003cpolygon fill=\"none\" stroke=\"black\" points=\"83.5,-281 83.5,-300 184.5,-300 184.5,-281 83.5,-281\"/\u003e\n\u003ctext text-anchor=\"start\" x=\"95.5\" y=\"-288\" font-family=\"Courier,monospace\" font-size=\"10.00\"\u003etoken_embedder\u003c/text\u003e\n\u003cpolygon fill=\"none\" stroke=\"black\" points=\"184.5,-281 184.5,-300 208.5,-300 208.5,-281 184.5,-281\"/\u003e\n\u003cpolygon fill=\"#fff8dc\" stroke=\"none\" points=\"188.5,-285 188.5,-296 204.5,-296 204.5,-285 188.5,-285\"/\u003e\n\u003cpolygon fill=\"none\" stroke=\"black\" points=\"188.5,-285 188.5,-296 204.5,-296 204.5,-285 188.5,-285\"/\u003e\n\u003cpolygon fill=\"#eeeeee\" stroke=\"none\" points=\"83.5,-262 83.5,-281 184.5,-281 184.5,-262 83.5,-262\"/\u003e\n\u003cpolygon fill=\"none\" stroke=\"black\" points=\"83.5,-262 83.5,-281 184.5,-281 184.5,-262 83.5,-262\"/\u003e\n\u003ctext text-anchor=\"start\" x=\"89.5\" y=\"-269\" font-family=\"Courier,monospace\" font-size=\"10.00\"\u003eoutput_features\u003c/text\u003e\n\u003cpolygon fill=\"none\" stroke=\"black\" points=\"184.5,-262 184.5,-281 208.5,-281 208.5,-262 184.5,-262\"/\u003e\n\u003ctext text-anchor=\"start\" x=\"188.5\" y=\"-269\" font-family=\"Courier,monospace\" font-size=\"10.00\"\u003e12\u003c/text\u003e\n\u003c/g\u003e\n\u003c!-- 1\u0026#45;\u0026#45;2 --\u003e\n\u003cg id=\"edge2\" class=\"edge\"\u003e\n\u003ctitle\u003e1:c\u0026#45;\u0026#45;2:c\u003c/title\u003e\n\u003cpath fill=\"none\" stroke=\"#cbc6b0\" stroke-width=\"3\" stroke-opacity=\"0.501961\" d=\"M197,-285.05C197,-274.96 197,-249.4 197,-225.96\"/\u003e\n\u003c/g\u003e\n\u003c!-- 0 --\u003e\n\u003cg id=\"node4\" class=\"node\"\u003e\n\u003ctitle\u003e0\u003c/title\u003e\n\u003cpolygon fill=\"#ffc0cb\" stroke=\"none\" points=\"0,-393 0,-412 186,-412 186,-393 0,-393\"/\u003e\n\u003cpolygon fill=\"none\" stroke=\"black\" points=\"0,-393 0,-412 186,-412 186,-393 0,-393\"/\u003e\n\u003ctext text-anchor=\"start\" x=\"40.5\" y=\"-401\" font-family=\"Courier,monospace\" font-size=\"8.00\"\u003eConfig:\u003c/text\u003e\n\u003ctext text-anchor=\"start\" x=\"72.5\" y=\"-401\" font-family=\"Courier,monospace\" font-size=\"10.00\"\u003e DualEncoder\u003c/text\u003e\n\u003cpolygon fill=\"#eeeeee\" stroke=\"none\" points=\"0,-374 0,-393 105,-393 105,-374 0,-374\"/\u003e\n\u003cpolygon fill=\"none\" stroke=\"black\" points=\"0,-374 0,-393 105,-393 105,-374 0,-374\"/\u003e\n\u003ctext text-anchor=\"start\" x=\"22\" y=\"-381\" font-family=\"Courier,monospace\" font-size=\"10.00\"\u003equery_encoder\u003c/text\u003e\n\u003cpolygon fill=\"none\" stroke=\"black\" points=\"105,-374 105,-393 186,-393 186,-374 105,-374\"/\u003e\n\u003cpolygon fill=\"#90ee90\" stroke=\"none\" points=\"109,-378 109,-389 182,-389 182,-378 109,-378\"/\u003e\n\u003cpolygon fill=\"none\" stroke=\"black\" points=\"109,-378 109,-389 182,-389 182,-378 109,-378\"/\u003e\n\u003cpolygon fill=\"#eeeeee\" stroke=\"none\" points=\"0,-355 0,-374 105,-374 105,-355 0,-355\"/\u003e\n\u003cpolygon fill=\"none\" stroke=\"black\" points=\"0,-355 0,-374 105,-374 105,-355 0,-355\"/\u003e\n\u003ctext text-anchor=\"start\" x=\"4\" y=\"-362\" font-family=\"Courier,monospace\" font-size=\"10.00\"\u003edocument_encoder\u003c/text\u003e\n\u003cpolygon fill=\"none\" stroke=\"black\" points=\"105,-355 105,-374 186,-374 186,-355 105,-355\"/\u003e\n\u003ctext text-anchor=\"start\" x=\"109\" y=\"-363\" font-family=\"Courier,monospace\" font-style=\"italic\" font-size=\"10.00\"\u003e(trimmed...)\u003c/text\u003e\n\u003c/g\u003e\n\u003c!-- 0\u0026#45;\u0026#45;1 --\u003e\n\u003cg id=\"edge3\" class=\"edge\"\u003e\n\u003ctitle\u003e0:c\u0026#45;\u0026#45;1:c\u003c/title\u003e\n\u003cpath fill=\"none\" stroke=\"#73be73\" stroke-width=\"3\" stroke-opacity=\"0.501961\" d=\"M146,-378.11C146,-367.53 146,-339.93 146,-318.7\"/\u003e\n\u003c/g\u003e\n\u003c/g\u003e\n\u003c/svg\u003e\n",
            "text/plain": [
              "\u003cgraphviz.graphs.Graph at 0x7fd244d68850\u003e"
            ]
          },
          "execution_count": 5,
          "metadata": {},
          "output_type": "execute_result"
        }
      ],
      "source": [
        "graphviz.render(visualize.trimmed(cfg, [cfg.document_encoder]))"
      ]
    },
    {
      "cell_type": "markdown",
      "metadata": {
        "id": "DVjNreLhHx_K"
      },
      "source": [
        "You can also remove nodes that are more than a certain depth by specifying the `max_depth` parameter.\n",
        "\n",
        "(Technical detail: If a node has multiple paths from the root, then its \"depth\"\n",
        "is the minimum path length from the root.)"
      ]
    },
    {
      "cell_type": "code",
      "execution_count": 6,
      "metadata": {
        "colab": {
          "height": 328
        },
        "executionInfo": {
          "elapsed": 7,
          "status": "ok",
          "timestamp": 1684359278924,
          "user": {
            "displayName": "",
            "userId": ""
          },
          "user_tz": 420
        },
        "id": "t66xexECteIE",
        "outputId": "d24a6094-9bbf-4035-8d50-acaed2a59688"
      },
      "outputs": [
        {
          "data": {
            "image/svg+xml": "\u003c?xml version=\"1.0\" encoding=\"UTF-8\" standalone=\"no\"?\u003e\n\u003c!DOCTYPE svg PUBLIC \"-//W3C//DTD SVG 1.1//EN\"\n \"http://www.w3.org/Graphics/SVG/1.1/DTD/svg11.dtd\"\u003e\n\u003c!-- Generated by graphviz version 2.44.1 (20201121.0304)\n --\u003e\n\u003c!-- Pages: 1 --\u003e\n\u003csvg width=\"276pt\" height=\"230pt\"\n viewBox=\"0.00 0.00 276.00 230.00\" xmlns=\"http://www.w3.org/2000/svg\" xmlns:xlink=\"http://www.w3.org/1999/xlink\"\u003e\n\u003cg id=\"graph0\" class=\"graph\" transform=\"scale(1 1) rotate(0) translate(4 226)\"\u003e\n\u003cpolygon fill=\"white\" stroke=\"none\" points=\"-4,4 -4,-226 272,-226 272,4 -4,4\"/\u003e\n\u003c!-- 2 --\u003e\n\u003cg id=\"node1\" class=\"node\"\u003e\n\u003ctitle\u003e2\u003c/title\u003e\n\u003ctext text-anchor=\"start\" x=\"148\" y=\"-16.5\" font-family=\"Courier,monospace\" font-style=\"italic\" font-size=\"10.00\"\u003e(trimmed...)\u003c/text\u003e\n\u003c/g\u003e\n\u003c!-- 1 --\u003e\n\u003cg id=\"node2\" class=\"node\"\u003e\n\u003ctitle\u003e1\u003c/title\u003e\n\u003cpolygon fill=\"#90ee90\" stroke=\"none\" points=\"0,-110 0,-129 125,-129 125,-110 0,-110\"/\u003e\n\u003cpolygon fill=\"none\" stroke=\"black\" points=\"0,-110 0,-129 125,-129 125,-110 0,-110\"/\u003e\n\u003ctext text-anchor=\"start\" x=\"4\" y=\"-118\" font-family=\"Courier,monospace\" font-size=\"8.00\"\u003eConfig:\u003c/text\u003e\n\u003ctext text-anchor=\"start\" x=\"36\" y=\"-118\" font-family=\"Courier,monospace\" font-size=\"10.00\"\u003e SimpleEncoder\u003c/text\u003e\n\u003cpolygon fill=\"#eeeeee\" stroke=\"none\" points=\"0,-91 0,-110 101,-110 101,-91 0,-91\"/\u003e\n\u003cpolygon fill=\"none\" stroke=\"black\" points=\"0,-91 0,-110 101,-110 101,-91 0,-91\"/\u003e\n\u003ctext text-anchor=\"start\" x=\"12\" y=\"-98\" font-family=\"Courier,monospace\" font-size=\"10.00\"\u003etoken_embedder\u003c/text\u003e\n\u003cpolygon fill=\"none\" stroke=\"black\" points=\"101,-91 101,-110 125,-110 125,-91 101,-91\"/\u003e\n\u003cpolygon fill=\"#fff8dc\" stroke=\"none\" points=\"105,-95 105,-106 121,-106 121,-95 105,-95\"/\u003e\n\u003cpolygon fill=\"none\" stroke=\"black\" points=\"105,-95 105,-106 121,-106 121,-95 105,-95\"/\u003e\n\u003cpolygon fill=\"#eeeeee\" stroke=\"none\" points=\"0,-72 0,-91 101,-91 101,-72 0,-72\"/\u003e\n\u003cpolygon fill=\"none\" stroke=\"black\" points=\"0,-72 0,-91 101,-91 101,-72 0,-72\"/\u003e\n\u003ctext text-anchor=\"start\" x=\"6\" y=\"-79\" font-family=\"Courier,monospace\" font-size=\"10.00\"\u003eoutput_features\u003c/text\u003e\n\u003cpolygon fill=\"none\" stroke=\"black\" points=\"101,-72 101,-91 125,-91 125,-72 101,-72\"/\u003e\n\u003ctext text-anchor=\"start\" x=\"105\" y=\"-79\" font-family=\"Courier,monospace\" font-size=\"10.00\"\u003e12\u003c/text\u003e\n\u003c/g\u003e\n\u003c!-- 1\u0026#45;\u0026#45;2 --\u003e\n\u003cg id=\"edge1\" class=\"edge\"\u003e\n\u003ctitle\u003e1:c\u0026#45;\u0026#45;2:c\u003c/title\u003e\n\u003cpath fill=\"none\" stroke=\"#cbc6b0\" stroke-width=\"3\" stroke-opacity=\"0.501961\" d=\"M116.64,-95.1C120.63,-89.58 127.81,-79.87 134.5,-72 145.15,-59.47 157.87,-46 167.82,-35.77\"/\u003e\n\u003c/g\u003e\n\u003c!-- 0 --\u003e\n\u003cg id=\"node3\" class=\"node\"\u003e\n\u003ctitle\u003e0\u003c/title\u003e\n\u003cpolygon fill=\"#ffc0cb\" stroke=\"none\" points=\"20,-203 20,-222 141,-222 141,-203 20,-203\"/\u003e\n\u003cpolygon fill=\"none\" stroke=\"black\" points=\"20,-203 20,-222 141,-222 141,-203 20,-203\"/\u003e\n\u003ctext text-anchor=\"start\" x=\"28\" y=\"-211\" font-family=\"Courier,monospace\" font-size=\"8.00\"\u003eConfig:\u003c/text\u003e\n\u003ctext text-anchor=\"start\" x=\"60\" y=\"-211\" font-family=\"Courier,monospace\" font-size=\"10.00\"\u003e DualEncoder\u003c/text\u003e\n\u003cpolygon fill=\"#eeeeee\" stroke=\"none\" points=\"20,-184 20,-203 125,-203 125,-184 20,-184\"/\u003e\n\u003cpolygon fill=\"none\" stroke=\"black\" points=\"20,-184 20,-203 125,-203 125,-184 20,-184\"/\u003e\n\u003ctext text-anchor=\"start\" x=\"42\" y=\"-191\" font-family=\"Courier,monospace\" font-size=\"10.00\"\u003equery_encoder\u003c/text\u003e\n\u003cpolygon fill=\"none\" stroke=\"black\" points=\"125,-184 125,-203 141,-203 141,-184 125,-184\"/\u003e\n\u003cpolygon fill=\"#90ee90\" stroke=\"none\" points=\"129,-188 129,-199 137,-199 137,-188 129,-188\"/\u003e\n\u003cpolygon fill=\"none\" stroke=\"black\" points=\"129,-188 129,-199 137,-199 137,-188 129,-188\"/\u003e\n\u003cpolygon fill=\"#eeeeee\" stroke=\"none\" points=\"20,-165 20,-184 125,-184 125,-165 20,-165\"/\u003e\n\u003cpolygon fill=\"none\" stroke=\"black\" points=\"20,-165 20,-184 125,-184 125,-165 20,-165\"/\u003e\n\u003ctext text-anchor=\"start\" x=\"24\" y=\"-172\" font-family=\"Courier,monospace\" font-size=\"10.00\"\u003edocument_encoder\u003c/text\u003e\n\u003cpolygon fill=\"none\" stroke=\"black\" points=\"125,-165 125,-184 141,-184 141,-165 125,-165\"/\u003e\n\u003cpolygon fill=\"#ffa07a\" stroke=\"none\" points=\"129,-169 129,-180 137,-180 137,-169 129,-169\"/\u003e\n\u003cpolygon fill=\"none\" stroke=\"black\" points=\"129,-169 129,-180 137,-180 137,-169 129,-169\"/\u003e\n\u003c/g\u003e\n\u003c!-- 0\u0026#45;\u0026#45;1 --\u003e\n\u003cg id=\"edge2\" class=\"edge\"\u003e\n\u003ctitle\u003e0:c\u0026#45;\u0026#45;1:c\u003c/title\u003e\n\u003cpath fill=\"none\" stroke=\"#73be73\" stroke-width=\"3\" stroke-opacity=\"0.501961\" d=\"M130.08,-188.11C121.82,-177.53 100.28,-149.93 83.72,-128.7\"/\u003e\n\u003c/g\u003e\n\u003c!-- 3 --\u003e\n\u003cg id=\"node4\" class=\"node\"\u003e\n\u003ctitle\u003e3\u003c/title\u003e\n\u003cpolygon fill=\"#ffa07a\" stroke=\"none\" points=\"143,-110 143,-129 268,-129 268,-110 143,-110\"/\u003e\n\u003cpolygon fill=\"none\" stroke=\"black\" points=\"143,-110 143,-129 268,-129 268,-110 143,-110\"/\u003e\n\u003ctext text-anchor=\"start\" x=\"147\" y=\"-118\" font-family=\"Courier,monospace\" font-size=\"8.00\"\u003eConfig:\u003c/text\u003e\n\u003ctext text-anchor=\"start\" x=\"179\" y=\"-118\" font-family=\"Courier,monospace\" font-size=\"10.00\"\u003e SimpleEncoder\u003c/text\u003e\n\u003cpolygon fill=\"#eeeeee\" stroke=\"none\" points=\"143,-91 143,-110 244,-110 244,-91 143,-91\"/\u003e\n\u003cpolygon fill=\"none\" stroke=\"black\" points=\"143,-91 143,-110 244,-110 244,-91 143,-91\"/\u003e\n\u003ctext text-anchor=\"start\" x=\"155\" y=\"-98\" font-family=\"Courier,monospace\" font-size=\"10.00\"\u003etoken_embedder\u003c/text\u003e\n\u003cpolygon fill=\"none\" stroke=\"black\" points=\"244,-91 244,-110 268,-110 268,-91 244,-91\"/\u003e\n\u003cpolygon fill=\"#fff8dc\" stroke=\"none\" points=\"248,-95 248,-106 264,-106 264,-95 248,-95\"/\u003e\n\u003cpolygon fill=\"none\" stroke=\"black\" points=\"248,-95 248,-106 264,-106 264,-95 248,-95\"/\u003e\n\u003cpolygon fill=\"#eeeeee\" stroke=\"none\" points=\"143,-72 143,-91 244,-91 244,-72 143,-72\"/\u003e\n\u003cpolygon fill=\"none\" stroke=\"black\" points=\"143,-72 143,-91 244,-91 244,-72 143,-72\"/\u003e\n\u003ctext text-anchor=\"start\" x=\"149\" y=\"-79\" font-family=\"Courier,monospace\" font-size=\"10.00\"\u003eoutput_features\u003c/text\u003e\n\u003cpolygon fill=\"none\" stroke=\"black\" points=\"244,-72 244,-91 268,-91 268,-72 244,-72\"/\u003e\n\u003ctext text-anchor=\"start\" x=\"248\" y=\"-79\" font-family=\"Courier,monospace\" font-size=\"10.00\"\u003e12\u003c/text\u003e\n\u003c/g\u003e\n\u003c!-- 0\u0026#45;\u0026#45;3 --\u003e\n\u003cg id=\"edge4\" class=\"edge\"\u003e\n\u003ctitle\u003e0:c\u0026#45;\u0026#45;3:c\u003c/title\u003e\n\u003cpath fill=\"none\" stroke=\"#cb8061\" stroke-width=\"3\" stroke-opacity=\"0.501961\" d=\"M136.97,-170.03C144.39,-162.61 162.38,-144.62 178.06,-128.94\"/\u003e\n\u003c/g\u003e\n\u003c!-- 3\u0026#45;\u0026#45;2 --\u003e\n\u003cg id=\"edge3\" class=\"edge\"\u003e\n\u003ctitle\u003e3:c\u0026#45;\u0026#45;2:c\u003c/title\u003e\n\u003cpath fill=\"none\" stroke=\"#cbc6b0\" stroke-width=\"3\" stroke-opacity=\"0.501961\" d=\"M252.63,-95.17C242.81,-84.2 216.54,-54.82 199.64,-35.92\"/\u003e\n\u003c/g\u003e\n\u003c/g\u003e\n\u003c/svg\u003e\n",
            "text/plain": [
              "\u003cgraphviz.graphs.Graph at 0x7fd244d684c0\u003e"
            ]
          },
          "execution_count": 6,
          "metadata": {},
          "output_type": "execute_result"
        }
      ],
      "source": [
        "graphviz.render(cfg, max_depth=1)"
      ]
    },
    {
      "cell_type": "markdown",
      "metadata": {
        "id": "L6XKA-XHeBsB"
      },
      "source": [
        "## Plain text printout\n",
        "\n",
        "By default, `fdl.Config` objects have a `__str__` representation that gives configured parameters on one line,"
      ]
    },
    {
      "cell_type": "code",
      "execution_count": 7,
      "metadata": {
        "colab": {
          "height": 403
        },
        "executionInfo": {
          "elapsed": 8,
          "status": "ok",
          "timestamp": 1684359279117,
          "user": {
            "displayName": "",
            "userId": ""
          },
          "user_tz": 420
        },
        "id": "WX4f2wj9XsST",
        "outputId": "739afb34-1d94-486f-b4fd-ae5554443bcd"
      },
      "outputs": [
        {
          "data": {
            "application/javascript": [
              "window[\"a0862461-f4fa-11ed-a20b-582429b76b4c\"] = colab.output.setWordWrap(true);\n",
              "//# sourceURL=js_160fff874c"
            ],
            "text/plain": [
              "\u003cIPython.core.display.Javascript object\u003e"
            ]
          },
          "metadata": {},
          "output_type": "display_data"
        },
        {
          "name": "stdout",
          "output_type": "stream",
          "text": [
            "\u003cConfig[DualEncoder(\n",
            "  query_encoder=\u003cConfig[SimpleEncoder(\n",
            "    token_embedder=\u003cConfig[TokenEmbedder(\n",
            "      num_embeddings=12,\n",
            "      features=3,\n",
            "      embedding_init=\u003cConfig[variance_scaling(\n",
            "        scale=1.0,\n",
            "        mode='fan_in',\n",
            "        distribution='normal',\n",
            "        out_axis=0)]\u003e)]\u003e,\n",
            "    output_features=12)]\u003e,\n",
            "  document_encoder=\u003cConfig[SimpleEncoder(\n",
            "    token_embedder=\u003cConfig[TokenEmbedder(\n",
            "      num_embeddings=12,\n",
            "      features=3,\n",
            "      embedding_init=\u003cConfig[variance_scaling(\n",
            "        scale=1.0,\n",
            "        mode='fan_in',\n",
            "        distribution='normal',\n",
            "        out_axis=0)]\u003e)]\u003e,\n",
            "    output_features=12)]\u003e)]\u003e\n"
          ]
        }
      ],
      "source": [
        "print(base_config())"
      ]
    },
    {
      "cell_type": "markdown",
      "metadata": {
        "id": "1Z-oV6dtXqph"
      },
      "source": [
        "The `printing` library produces `grep`able output, and includes default argument\n",
        "values. This is very useful when dumping all configuration values before\n",
        "launching a giant, expensive model training run. Someone evaluating the artifact\n",
        "later might wonder what `TokenEmbedder`'s dtype is; this will provide it even if\n",
        "its default value is used."
      ]
    },
    {
      "cell_type": "code",
      "execution_count": 8,
      "metadata": {
        "executionInfo": {
          "elapsed": 62,
          "status": "ok",
          "timestamp": 1684359279382,
          "user": {
            "displayName": "",
            "userId": ""
          },
          "user_tz": 420
        },
        "id": "71FTXnpUd7Fk",
        "outputId": "7f7c64ec-d6ea-4165-f376-52e2cf37160c"
      },
      "outputs": [
        {
          "name": "stdout",
          "output_type": "stream",
          "text": [
            "query_encoder.token_embedder.num_embeddings: int = 12\n",
            "query_encoder.token_embedder.features: int = 3\n",
            "query_encoder.token_embedder.embedding_init.scale: typing.Any = 1.0\n",
            "query_encoder.token_embedder.embedding_init.mode: typing.Union[typing.Literal['fan_in'], typing.Literal['fan_out'], typing.Literal['fan_avg']] = 'fan_in'\n",
            "query_encoder.token_embedder.embedding_init.distribution: typing.Union[typing.Literal['truncated_normal'], typing.Literal['normal'], typing.Literal['uniform']] = 'normal'\n",
            "query_encoder.token_embedder.embedding_init.in_axis: typing.Union[int, typing.Sequence[int]] = \u003c[unset; default: -2]\u003e\n",
            "query_encoder.token_embedder.embedding_init.out_axis: typing.Union[int, typing.Sequence[int]] = 0\n",
            "query_encoder.token_embedder.embedding_init.batch_axis: typing.Sequence[int] = \u003c[unset; default: ()]\u003e\n",
            "query_encoder.token_embedder.embedding_init.dtype: typing.Any = \u003c[unset; default: jnp.float64]\u003e\n",
            "query_encoder.token_embedder.dtype: typing.Any = \u003c[unset; default: jnp.float32]\u003e\n",
            "query_encoder.token_embedder.parent: typing.Union[typing.Type[flax.linen.module.Module], typing.Type[flax.core.scope.Scope], typing.Type[flax.linen.module._Sentinel], NoneType] = \u003c[unset; default: \u003cflax.linen.module._Sentinel object at 0x7fd244d616f0\u003e]\u003e\n",
            "query_encoder.token_embedder.name: typing.Optional[str] = \u003c[unset; default: None]\u003e\n",
            "query_encoder.output_features: int = 12\n",
            "query_encoder.parent: typing.Union[typing.Type[flax.linen.module.Module], typing.Type[flax.core.scope.Scope], typing.Type[flax.linen.module._Sentinel], NoneType] = \u003c[unset; default: \u003cflax.linen.module._Sentinel object at 0x7fd244d616f0\u003e]\u003e\n",
            "query_encoder.name: typing.Optional[str] = \u003c[unset; default: None]\u003e\n",
            "document_encoder.token_embedder.num_embeddings: int = 12\n",
            "document_encoder.token_embedder.features: int = 3\n",
            "document_encoder.token_embedder.embedding_init.scale: typing.Any = 1.0\n",
            "document_encoder.token_embedder.embedding_init.mode: typing.Union[typing.Literal['fan_in'], typing.Literal['fan_out'], typing.Literal['fan_avg']] = 'fan_in'\n",
            "document_encoder.token_embedder.embedding_init.distribution: typing.Union[typing.Literal['truncated_normal'], typing.Literal['normal'], typing.Literal['uniform']] = 'normal'\n",
            "document_encoder.token_embedder.embedding_init.in_axis: typing.Union[int, typing.Sequence[int]] = \u003c[unset; default: -2]\u003e\n",
            "document_encoder.token_embedder.embedding_init.out_axis: typing.Union[int, typing.Sequence[int]] = 0\n",
            "document_encoder.token_embedder.embedding_init.batch_axis: typing.Sequence[int] = \u003c[unset; default: ()]\u003e\n",
            "document_encoder.token_embedder.embedding_init.dtype: typing.Any = \u003c[unset; default: jnp.float64]\u003e\n",
            "document_encoder.token_embedder.dtype: typing.Any = \u003c[unset; default: jnp.float32]\u003e\n",
            "document_encoder.token_embedder.parent: typing.Union[typing.Type[flax.linen.module.Module], typing.Type[flax.core.scope.Scope], typing.Type[flax.linen.module._Sentinel], NoneType] = \u003c[unset; default: \u003cflax.linen.module._Sentinel object at 0x7fd244d616f0\u003e]\u003e\n",
            "document_encoder.token_embedder.name: typing.Optional[str] = \u003c[unset; default: None]\u003e\n",
            "document_encoder.output_features: int = 12\n",
            "document_encoder.parent: typing.Union[typing.Type[flax.linen.module.Module], typing.Type[flax.core.scope.Scope], typing.Type[flax.linen.module._Sentinel], NoneType] = \u003c[unset; default: \u003cflax.linen.module._Sentinel object at 0x7fd244d616f0\u003e]\u003e\n",
            "document_encoder.name: typing.Optional[str] = \u003c[unset; default: None]\u003e\n",
            "parent: typing.Union[typing.Type[flax.linen.module.Module], typing.Type[flax.core.scope.Scope], typing.Type[flax.linen.module._Sentinel], NoneType] = \u003c[unset; default: \u003cflax.linen.module._Sentinel object at 0x7fd244d616f0\u003e]\u003e\n",
            "name: typing.Optional[str] = \u003c[unset; default: None]\u003e\n"
          ]
        }
      ],
      "source": [
        "print(printing.as_str_flattened(base_config()))"
      ]
    },
    {
      "cell_type": "markdown",
      "metadata": {
        "id": "9iOqOnWIfkGK"
      },
      "source": [
        "### Per-parameter history (aka time-travelling debugging)\n",
        "\n",
        "For debugging purposes and for tracing when a parameter was set, you can use the `history_per_leaf_parameter()` API to print out historical values from each config. This can be useful in large codebases, for tracking\n",
        "down what experimental overrides were applied to a configuration.\n",
        "\n",
        "In the example below, `experiment_config()` overrides `num_embeddings`. You can\n",
        "see both the current value, and the previous value which `base_config()` set. It\n",
        "appears twice because the shared object is printed for both the encoder and\n",
        "decoder."
      ]
    },
    {
      "cell_type": "code",
      "execution_count": 9,
      "metadata": {
        "executionInfo": {
          "elapsed": 59,
          "status": "ok",
          "timestamp": 1684359279607,
          "user": {
            "displayName": "",
            "userId": ""
          },
          "user_tz": 420
        },
        "id": "bKWuEhHkfWQ7",
        "outputId": "c4b2146c-867a-46dc-ad6e-d04dde23f7c9"
      },
      "outputs": [
        {
          "name": "stdout",
          "output_type": "stream",
          "text": [
            "__fn_or_cls__ = \u003cclass '__main__.DualEncoder'\u003e @ \u003cipython-input-2-1c737bdff90c\u003e:56:base_config\n",
            "query_encoder.__fn_or_cls__ = \u003cclass '__main__.SimpleEncoder'\u003e @ \u003cipython-input-2-1c737bdff90c\u003e:58:base_config\n",
            "query_encoder.token_embedder.__fn_or_cls__ = \u003cclass '__main__.TokenEmbedder'\u003e @ \u003cipython-input-2-1c737bdff90c\u003e:49:base_config\n",
            "query_encoder.token_embedder.num_embeddings = 40 @ \u003cipython-input-9-1e867d8d9c8e\u003e:3:experiment_config\n",
            "  - previously: 12 @ \u003cipython-input-2-1c737bdff90c\u003e:49:base_config\n",
            "query_encoder.token_embedder.features = 3 @ \u003cipython-input-2-1c737bdff90c\u003e:49:base_config\n",
            "query_encoder.token_embedder.embedding_init.__fn_or_cls__ = \u003cfunction variance_scaling at 0x7fd277681cf0\u003e @ \u003cipython-input-2-1c737bdff90c\u003e:53:base_config\n",
            "query_encoder.token_embedder.embedding_init.scale = 1.0 @ \u003cipython-input-2-1c737bdff90c\u003e:53:base_config\n",
            "query_encoder.token_embedder.embedding_init.mode = 'fan_in' @ \u003cipython-input-2-1c737bdff90c\u003e:53:base_config\n",
            "query_encoder.token_embedder.embedding_init.distribution = 'normal' @ \u003cipython-input-2-1c737bdff90c\u003e:53:base_config\n",
            "query_encoder.token_embedder.embedding_init.out_axis = 0 @ \u003cipython-input-2-1c737bdff90c\u003e:53:base_config\n",
            "query_encoder.token_embedder.embedding_init.batch_axis = \u003c[unset]\u003e\n",
            "query_encoder.token_embedder.embedding_init.dtype = \u003c[unset]\u003e\n",
            "query_encoder.token_embedder.embedding_init.in_axis = \u003c[unset]\u003e\n",
            "query_encoder.token_embedder.dtype = \u003c[unset]\u003e\n",
            "query_encoder.token_embedder.name = \u003c[unset]\u003e\n",
            "query_encoder.token_embedder.parent = \u003c[unset]\u003e\n",
            "query_encoder.output_features = 12 @ \u003cipython-input-2-1c737bdff90c\u003e:58:base_config\n",
            "query_encoder.name = \u003c[unset]\u003e\n",
            "query_encoder.parent = \u003c[unset]\u003e\n",
            "document_encoder.__fn_or_cls__ = \u003cclass '__main__.SimpleEncoder'\u003e @ \u003cipython-input-2-1c737bdff90c\u003e:59:base_config\n",
            "document_encoder.token_embedder.__fn_or_cls__ = \u003cclass '__main__.TokenEmbedder'\u003e @ \u003cipython-input-2-1c737bdff90c\u003e:49:base_config\n",
            "document_encoder.token_embedder.num_embeddings = 40 @ \u003cipython-input-9-1e867d8d9c8e\u003e:3:experiment_config\n",
            "  - previously: 12 @ \u003cipython-input-2-1c737bdff90c\u003e:49:base_config\n",
            "document_encoder.token_embedder.features = 3 @ \u003cipython-input-2-1c737bdff90c\u003e:49:base_config\n",
            "document_encoder.token_embedder.embedding_init.__fn_or_cls__ = \u003cfunction variance_scaling at 0x7fd277681cf0\u003e @ \u003cipython-input-2-1c737bdff90c\u003e:53:base_config\n",
            "document_encoder.token_embedder.embedding_init.scale = 1.0 @ \u003cipython-input-2-1c737bdff90c\u003e:53:base_config\n",
            "document_encoder.token_embedder.embedding_init.mode = 'fan_in' @ \u003cipython-input-2-1c737bdff90c\u003e:53:base_config\n",
            "document_encoder.token_embedder.embedding_init.distribution = 'normal' @ \u003cipython-input-2-1c737bdff90c\u003e:53:base_config\n",
            "document_encoder.token_embedder.embedding_init.out_axis = 0 @ \u003cipython-input-2-1c737bdff90c\u003e:53:base_config\n",
            "document_encoder.token_embedder.embedding_init.batch_axis = \u003c[unset]\u003e\n",
            "document_encoder.token_embedder.embedding_init.dtype = \u003c[unset]\u003e\n",
            "document_encoder.token_embedder.embedding_init.in_axis = \u003c[unset]\u003e\n",
            "document_encoder.token_embedder.dtype = \u003c[unset]\u003e\n",
            "document_encoder.token_embedder.name = \u003c[unset]\u003e\n",
            "document_encoder.token_embedder.parent = \u003c[unset]\u003e\n",
            "document_encoder.output_features = 12 @ \u003cipython-input-2-1c737bdff90c\u003e:59:base_config\n",
            "document_encoder.name = \u003c[unset]\u003e\n",
            "document_encoder.parent = \u003c[unset]\u003e\n",
            "name = \u003c[unset]\u003e\n",
            "parent = \u003c[unset]\u003e\n"
          ]
        }
      ],
      "source": [
        "def experiment_config():\n",
        "  cfg = base_config()\n",
        "  cfg.query_encoder.token_embedder.num_embeddings = 40\n",
        "  return cfg\n",
        "\n",
        "\n",
        "print(printing.history_per_leaf_parameter(experiment_config()))"
      ]
    },
    {
      "cell_type": "markdown",
      "metadata": {
        "id": "Gx30VOMKgKCP"
      },
      "source": [
        "## Code generation\n",
        "\n",
        "Finally, Fiddle provides functionality to generate code for a given\n",
        "configuration object. This can be useful for materializing a concrete configuration out of factorized configuration code. Such concrete/flattened configurations may be useful for:\n",
        "\n",
        " * Ensuring there is configuration that matches a durable artifact like a model\n",
        "checkpoint.\n",
        " * Workflows where a successful experiment becomes a new baseline. Having the baseline less factorized can make it more approachable."
      ]
    },
    {
      "cell_type": "code",
      "execution_count": 10,
      "metadata": {
        "executionInfo": {
          "elapsed": 63,
          "status": "ok",
          "timestamp": 1684359279842,
          "user": {
            "displayName": "",
            "userId": ""
          },
          "user_tz": 420
        },
        "id": "14qYiRqMgLGC",
        "outputId": "85f3f84f-38fa-4959-c35d-cf94996623a4"
      },
      "outputs": [
        {
          "name": "stdout",
          "output_type": "stream",
          "text": [
            "import fiddle as fdl\n",
            "from jax.nn import initializers\n",
            "from jax import numpy as jnp\n",
            "\n",
            "\n",
            "def build_config():\n",
            "  shared_variance_scaling = fdl.Config(initializers.variance_scaling)\n",
            "  shared_variance_scaling.scale = 1.0\n",
            "  shared_variance_scaling.mode = 'fan_in'\n",
            "  shared_variance_scaling.distribution = 'normal'\n",
            "  shared_variance_scaling.out_axis = 0\n",
            "  \n",
            "  shared_token_embedder = fdl.Config(TokenEmbedder)\n",
            "  shared_token_embedder.num_embeddings = 40\n",
            "  shared_token_embedder.features = 3\n",
            "  shared_token_embedder.embedding_init = shared_variance_scaling\n",
            "  shared_token_embedder.dtype = jnp.bfloat16\n",
            "  \n",
            "  root = fdl.Config(DualEncoder)\n",
            "  \n",
            "  root.query_encoder = fdl.Config(SimpleEncoder)\n",
            "  root.query_encoder.token_embedder = shared_token_embedder\n",
            "  root.query_encoder.output_features = 12\n",
            "  \n",
            "  root.document_encoder = fdl.Config(SimpleEncoder)\n",
            "  root.document_encoder.token_embedder = shared_token_embedder\n",
            "  root.document_encoder.output_features = 12\n",
            "  \n",
            "  return root\n"
          ]
        }
      ],
      "source": [
        "# Note: This is a \"Mini AST\" node, which can be programmatically modified.\n",
        "cfg = experiment_config()\n",
        "cfg.query_encoder.token_embedder.dtype = jnp.bfloat16\n",
        "generated = codegen.codegen_dot_syntax(cfg)\n",
        "print(\"\\n\".join(generated.lines()))"
      ]
    },
    {
      "cell_type": "markdown",
      "metadata": {
        "id": "5dH0e1YChila"
      },
      "source": [
        "Sometimes, for larger systems, you'll need to customize how imports are\n",
        "generated, because the module information extracted from classes reflects where\n",
        "the class is actually defined, rather than the canonical code used to access it.\n",
        "Please see the files in `extensions/` for examples of this customization."
      ]
    }
  ],
  "metadata": {
    "colab": {
      "last_runtime": {
        
        "kind": "private"
      },
      "name": "Visualization, printing, codegen.ipynb",
      "provenance": [
        {
          "file_id": "13UMa3lvZPYMBXbsznLakiQ-jiRxObRiX",
          "timestamp": 1640805605256
        }
      ],
      "toc_visible": true
    },
    "kernelspec": {
      "display_name": "Python 3",
      "name": "python3"
    },
    "language_info": {
      "name": "python"
    }
  },
  "nbformat": 4,
  "nbformat_minor": 0
}
