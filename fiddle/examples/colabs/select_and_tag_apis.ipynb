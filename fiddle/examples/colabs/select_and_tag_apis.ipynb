{
  "cells": [
    {
      "cell_type": "markdown",
      "metadata": {
        "id": "skoPyRPvA7oe"
      },
      "source": [
        "# Fiddle `select()` and Tag APIs\n",
        "\n",
        "*Please see https://github.com/google/fiddle/blob/main/docs/colabs.md for more colabs.*\n",
        "\n",
        "The `select()` and `Tag`/`TaggedValue` APIs for Fiddle let users concisely\n",
        "change many values in a larger configuration structure.\n",
        "\n",
        "The `select()` API makes it easy to set parameters across all occurrences of\n",
        "specific functions or classes within a config. For example:\n",
        "\n",
        "```python\n",
        "# Set all Dropout classes to have rate 0.1.\n",
        "select(root_cfg, nn.Dropout).set(rate=0.1)\n",
        "```\n",
        "\n",
        "Values can also be tagged with one or more tags, making it easy to set values\n",
        "that are shared in many places all at once. For example:\n",
        "\n",
        "```python\n",
        "# Set all tagged dtypes, which may be on different functions/classes.\n",
        "select(root_cfg, tag=ActivationDType).set(value=jnp.bfloat16)\n",
        "```\n",
        "\n",
        "Both of these APIs facilitate configuration to be factorized into setups\n",
        "involving a declaration of the base model (say, `base_model.py`) and several\n",
        "experiment override files (say, `my_experiment_1.py`, `my_experiment_2.py`),\n",
        "where the latter sets values tagged by TaggedValues, or modifies specific\n",
        "functions or classes using `select`."
      ]
    },
    {
      "cell_type": "code",
      "execution_count": null,
      "metadata": {
        "id": "zrV5XYsnA3XR"
      },
      "outputs": [],
      "source": [
        "!pip install fiddle\n",
        "\n",
        "\n",
        "import fiddle as fdl\n",
        "from fiddle import graphviz\n",
        "from fiddle import printing\n",
        "from fiddle import tagging\n",
        "from fiddle import selectors\n",
        "import fiddle.extensions.jax\n",
        "\n",
        "fiddle.extensions.jax.enable()  # Nicer printout for JAX types; non-essential."
      ]
    },
    {
      "cell_type": "markdown",
      "metadata": {
        "id": "GPZN17mkksqW"
      },
      "source": [
        "## Running example\n",
        "\n",
        "Let's first consider a simple structure of Flax modules. These ones add a range\n",
        "(e.g. an array `[0, 1, 2, 3]`) to their input."
      ]
    },
    {
      "cell_type": "code",
      "execution_count": null,
      "metadata": {
        "id": "oOjuds0gCKWi"
      },
      "outputs": [],
      "source": [
        "from typing import Any\n",
        "\n",
        "from flax import linen as nn\n",
        "from jax import numpy as jnp\n",
        "\n",
        "\n",
        "class AddRange(nn.Module):\n",
        "  start: int\n",
        "  stop: int\n",
        "  dtype: Any\n",
        "\n",
        "  def __call__(self, x):\n",
        "    return x + jnp.arange(self.start, self.stop, dtype=self.dtype)\n",
        "\n",
        "\n",
        "class AddTwoRanges(nn.Module):\n",
        "  add_range_1: AddRange\n",
        "  add_range_2: AddRange\n",
        "\n",
        "  def __call__(self, x):\n",
        "    return self.add_range_2(self.add_range_1(x))\n",
        "\n",
        "\n",
        "cfg = fdl.Config(AddTwoRanges)\n",
        "cfg.add_range_1 = fdl.Config(AddRange, 0, 4, jnp.float32)\n",
        "cfg.add_range_2 = fdl.Config(AddRange, 0, 4, jnp.float32)\n",
        "graphviz.render(cfg)"
      ]
    },
    {
      "cell_type": "markdown",
      "metadata": {
        "id": "ScdT1yf8kyXN"
      },
      "source": [
        "This model can be run as follows (see\n",
        "[this colab](https://colab.sandbox.google.com/github/google/flax/blob/master/docs/notebooks/linen_intro.ipynb)\n",
        "for an introduction to Flax APIs),"
      ]
    },
    {
      "cell_type": "code",
      "execution_count": null,
      "metadata": {
        "id": "XeoDzh5Ok1DR"
      },
      "outputs": [],
      "source": [
        "model = fdl.build(cfg)\n",
        "model.apply({}, jnp.array([1, 2, 1, 2]))"
      ]
    },
    {
      "cell_type": "markdown",
      "metadata": {
        "id": "w1ocy5JLKMan"
      },
      "source": [
        "## `select()` API\n",
        "\n",
        "To enable easier wide-spread modification of configurations, we add a simple\n",
        "tool to select nodes across the configuration DAG, and then set new values on\n",
        "them.\n",
        "\n",
        "The main call into this method is `select()`. It currently takes a root config,\n",
        "and a function or class to select. It returns a `Selection` object,"
      ]
    },
    {
      "cell_type": "code",
      "execution_count": null,
      "metadata": {
        "id": "8L4kkOApI5iS"
      },
      "outputs": [],
      "source": [
        "selectors.select(cfg, AddRange)"
      ]
    },
    {
      "cell_type": "markdown",
      "metadata": {
        "id": "q5rp8tLhKtCV"
      },
      "source": [
        "This `Selection` object supports iteration over selected nodes,"
      ]
    },
    {
      "cell_type": "code",
      "execution_count": null,
      "metadata": {
        "id": "eMMRM-m_KnTO"
      },
      "outputs": [],
      "source": [
        "list(selectors.select(cfg, AddRange))"
      ]
    },
    {
      "cell_type": "markdown",
      "metadata": {
        "id": "PJTWpuMfDQ-W"
      },
      "source": [
        "Let's say we wanted an integer version of our model. Because the `arange` calls\n",
        "have a dtype (hyper)parameter, just sending integer inputs doesn't work (JAX\n",
        "auto-casts the integer side of the addition to a `float`),"
      ]
    },
    {
      "cell_type": "code",
      "execution_count": null,
      "metadata": {
        "id": "w-W1wK5CDPin"
      },
      "outputs": [],
      "source": [
        "# Notice that the output dtype is float32.\n",
        "model.apply({}, jnp.array([1, 2, 1, 2], dtype=jnp.int32))"
      ]
    },
    {
      "cell_type": "markdown",
      "metadata": {
        "id": "a4pwVk6YV-0r"
      },
      "source": [
        "We can use the `select()` API to set both `AddRange` dtypes to `int32`,"
      ]
    },
    {
      "cell_type": "code",
      "execution_count": null,
      "metadata": {
        "id": "iSy4BP9vV4U6"
      },
      "outputs": [],
      "source": [
        "selectors.select(cfg, AddRange).set(dtype=jnp.int32)\n",
        "graphviz.render(cfg)"
      ]
    },
    {
      "cell_type": "markdown",
      "metadata": {
        "id": "PaqYk6uvWIIl"
      },
      "source": [
        "and this will correctly have an integer output,"
      ]
    },
    {
      "cell_type": "code",
      "execution_count": null,
      "metadata": {
        "id": "WmGNevPQDj1_"
      },
      "outputs": [],
      "source": [
        "model = fdl.build(cfg)\n",
        "model.apply({}, jnp.array([1, 2, 1, 2], dtype=jnp.int32))"
      ]
    },
    {
      "cell_type": "markdown",
      "metadata": {
        "id": "KQRdceiJKwfk"
      },
      "source": [
        "`set()` also allows setting multiple values,"
      ]
    },
    {
      "cell_type": "code",
      "execution_count": null,
      "metadata": {
        "id": "EMuPgm6gKvIT"
      },
      "outputs": [],
      "source": [
        "selectors.select(cfg, AddRange).set(start=1, stop=10)\n",
        "graphviz.render(cfg)"
      ]
    },
    {
      "cell_type": "markdown",
      "metadata": {
        "id": "NSuWl5rKLQak"
      },
      "source": [
        "An API to get all values for a particular field is also provided; this may be\n",
        "useful for unit testing or debugging,"
      ]
    },
    {
      "cell_type": "code",
      "execution_count": null,
      "metadata": {
        "id": "tmIFX2ofK-wK"
      },
      "outputs": [],
      "source": [
        "list(selectors.select(cfg, AddRange).get('dtype'))"
      ]
    },
    {
      "cell_type": "markdown",
      "metadata": {
        "id": "F0k4aZxUif0B"
      },
      "source": [
        "### Advanced use notes\n",
        "\n",
        "The `Selection` object does not maintain references to the actual nodes it\n",
        "selects, so if the configuration is modified in the meantime, the selection will\n",
        "pick up any added or deleted nodes. Think of it as declarative semantics. To\n",
        "demonstrate,"
      ]
    },
    {
      "cell_type": "code",
      "execution_count": null,
      "metadata": {
        "id": "kKtIhpnviuBt"
      },
      "outputs": [],
      "source": [
        "cfg = fdl.Config(AddTwoRanges)\n",
        "selection = selectors.select(cfg, AddRange)\n",
        "print(\"Current selection:\", list(selection))\n",
        "cfg.add_range_1 = fdl.Config(AddRange, 0, 4, jnp.float32)\n",
        "print(\"After adding a node:\", list(selection))"
      ]
    },
    {
      "cell_type": "markdown",
      "metadata": {
        "id": "b2QP_dUwLtNW"
      },
      "source": [
        "### Suggested usage patterns\n",
        "\n",
        "Finally, for larger configuration modifications, users might find the coding\n",
        "pattern of binding `select` to a root config using `functools.partial` useful,\n",
        "since it allows modifying multiple nodes quickly."
      ]
    },
    {
      "cell_type": "code",
      "execution_count": null,
      "metadata": {
        "id": "lf0FfdKwL8b7"
      },
      "outputs": [],
      "source": [
        "import functools\n",
        "\n",
        "\n",
        "class DropoutResidualBlock(nn.Module):\n",
        "  \"\"\"Module that runs dropout after applying a body computation.\"\"\"\n",
        "\n",
        "  dropout: nn.Module\n",
        "  body: nn.Module\n",
        "\n",
        "  def __call__(self, x):\n",
        "    residual = x\n",
        "    x = self.dropout(self.body(x))\n",
        "    return residual + x\n",
        "\n",
        "\n",
        "# Base experiment definition, typically defined in some kind of `base_model.py`.\n",
        "cfg = fdl.Config(DropoutResidualBlock)\n",
        "cfg.body = fdl.Config(\n",
        "    AddTwoRanges,\n",
        "    fdl.Config(AddRange, 0, 4, jnp.float32),\n",
        "    fdl.Config(AddRange, 0, 4, jnp.float32),\n",
        ")\n",
        "cfg.dropout = fdl.Config(nn.Dropout, deterministic=False)\n",
        "\n",
        "# Experimental modifications, typically in some kind of `my_experiment.py`.\n",
        "select = functools.partial(selectors.select, cfg)\n",
        "select(AddRange).set(start=5, stop=9)\n",
        "select(nn.Dropout).set(rate=0.2)\n",
        "graphviz.render(cfg)"
      ]
    },
    {
      "cell_type": "markdown",
      "metadata": {
        "id": "FplihG2ugnhV"
      },
      "source": [
        "The model can be run, showing some outputs are zeroed based on RNG key,"
      ]
    },
    {
      "cell_type": "code",
      "execution_count": null,
      "metadata": {
        "id": "pJ5C-RvzgmRC"
      },
      "outputs": [],
      "source": [
        "import jax.random\n",
        "\n",
        "model = fdl.build(cfg)\n",
        "inputs = jnp.array([0, 0, 0, 0], dtype=jnp.float32)\n",
        "print(model.apply({}, inputs, rngs={\"dropout\": jax.random.PRNGKey(0)}))\n",
        "print(model.apply({}, inputs, rngs={\"dropout\": jax.random.PRNGKey(1)}))\n",
        "print(model.apply({}, inputs, rngs={\"dropout\": jax.random.PRNGKey(2)}))"
      ]
    },
    {
      "cell_type": "markdown",
      "metadata": {
        "id": "_8WkBktKDr1h"
      },
      "source": [
        "## TaggedValue API\n",
        "\n",
        "For simple cases where we only need to set some specific attributes of a single\n",
        "function/class, `select()` with a function/class will work great. For cases\n",
        "where the attribute we want to modify affects multiple functions/classes, e.g.\n",
        "`dtype`, then this could become cumbersome, because `select()` operates by\n",
        "class, and some classes could name their `dtype` parameter differently.\n",
        "\n",
        "Therefore, Fiddle introduces the concept of `TaggedValue`: values that are\n",
        "tagged with one or more tags, and can be set all at once. Let's make our example\n",
        "a little more complicated, adding a constant and a range,"
      ]
    },
    {
      "cell_type": "code",
      "execution_count": null,
      "metadata": {
        "id": "DdkPYUCeXPuf"
      },
      "outputs": [],
      "source": [
        "from typing import List\n",
        "\n",
        "\n",
        "class AddConstant(nn.Module):\n",
        "  value: Any\n",
        "  dtype: Any\n",
        "\n",
        "  def __call__(self, x):\n",
        "    return x + jnp.array(self.value, dtype=self.dtype)\n",
        "\n",
        "\n",
        "class Sequential(nn.Module):\n",
        "  submodules: List[nn.Module]\n",
        "\n",
        "  def __call__(self, x):\n",
        "    for module in self.submodules:\n",
        "      x = module(x)\n",
        "    return x\n",
        "\n",
        "\n",
        "cfg = fdl.Config(\n",
        "    Sequential,\n",
        "    submodules=[\n",
        "        fdl.Config(AddRange, 0, 4, jnp.float32),\n",
        "        fdl.Config(AddConstant, 1, jnp.float32),\n",
        "    ])\n",
        "graphviz.render(cfg)"
      ]
    },
    {
      "cell_type": "markdown",
      "metadata": {
        "id": "28mGa5pbX-7V"
      },
      "source": [
        "Just to demonstrate the output of this model:"
      ]
    },
    {
      "cell_type": "code",
      "execution_count": null,
      "metadata": {
        "id": "LsN40RmjX2hI"
      },
      "outputs": [],
      "source": [
        "model = fdl.build(cfg)\n",
        "model.apply({}, jnp.array([1, 2, 1, 2], dtype=jnp.int32))"
      ]
    },
    {
      "cell_type": "markdown",
      "metadata": {
        "id": "_pguXGFoYEOc"
      },
      "source": [
        "### Tagging values in a configuration\n",
        "\n",
        "Now, let's tag the dtypes with a tag,"
      ]
    },
    {
      "cell_type": "code",
      "execution_count": null,
      "metadata": {
        "id": "MjdCaHATDrV_"
      },
      "outputs": [],
      "source": [
        "class ActivationDType(fdl.Tag):\n",
        "  \"The requested data-type for module outputs.\"\n",
        "\n",
        "\n",
        "def base_config() -\u003e fdl.Config[Sequential]:\n",
        "  add_range = fdl.Config(AddRange, 0, 4,\n",
        "                         ActivationDType.new(default=jnp.float32))\n",
        "  add_const = fdl.Config(AddConstant, 1,\n",
        "                         ActivationDType.new(default=jnp.float32))\n",
        "  return fdl.Config(Sequential, submodules=[add_range, add_const])\n",
        "\n",
        "\n",
        "graphviz.render(base_config())"
      ]
    },
    {
      "cell_type": "markdown",
      "metadata": {
        "id": "HcbWpmQ5YsiR"
      },
      "source": [
        "We can now express an override configuration, which changes both dtypes to\n",
        "`int32`,"
      ]
    },
    {
      "cell_type": "code",
      "execution_count": null,
      "metadata": {
        "id": "iF_lEQVfYzfu"
      },
      "outputs": [],
      "source": [
        "def experiment_config() -\u003e fdl.Config[Sequential]:\n",
        "  cfg = base_config()\n",
        "  selectors.select(cfg, tag=ActivationDType).replace(value=jnp.int32)\n",
        "  return cfg\n",
        "\n",
        "\n",
        "graphviz.render(experiment_config())"
      ]
    },
    {
      "cell_type": "markdown",
      "metadata": {
        "id": "RqAjr4ssFg3N"
      },
      "source": [
        "and this model has `int32` output, as desired,"
      ]
    },
    {
      "cell_type": "code",
      "execution_count": null,
      "metadata": {
        "id": "k_BESOBdFpcn"
      },
      "outputs": [],
      "source": [
        "model: Sequential = fdl.build(experiment_config())\n",
        "model.apply({}, jnp.array([1, 2, 1, 2], dtype=jnp.int32))"
      ]
    },
    {
      "cell_type": "markdown",
      "metadata": {
        "id": "c5p1bcs53omI"
      },
      "source": [
        "### Basic API reference\n",
        "\n",
        "In more detail, the `TagSubclass.new()` syntax creates a `TaggedValue`, with an\n",
        "optional default value."
      ]
    },
    {
      "cell_type": "code",
      "execution_count": null,
      "metadata": {
        "id": "InKU6LeS37Is"
      },
      "outputs": [],
      "source": [
        "ActivationDType.new(default=jnp.float32)"
      ]
    },
    {
      "cell_type": "markdown",
      "metadata": {
        "id": "eHqFwk9K4Wj7"
      },
      "source": [
        "This is equivalent to explicitly constructing a `TaggedValue`,"
      ]
    },
    {
      "cell_type": "code",
      "execution_count": null,
      "metadata": {
        "id": "w12F6vUX4aaT"
      },
      "outputs": [],
      "source": [
        "fdl.TaggedValue(tags={ActivationDType}, default=jnp.float32)"
      ]
    },
    {
      "cell_type": "markdown",
      "metadata": {
        "id": "Mv7EdT3k4esm"
      },
      "source": [
        "we'll see later how to use `TaggedValue`s that have a set of tags.\n",
        "\n",
        "If you build a configuration with `TaggedValue`s that do not have a default, you\n",
        "will get an error,"
      ]
    },
    {
      "cell_type": "code",
      "execution_count": null,
      "metadata": {
        "id": "6b5XPba_4sCS"
      },
      "outputs": [],
      "source": [
        "try:\n",
        "  fdl.build(ActivationDType.new())\n",
        "except Exception as e:\n",
        "  name = e.__class__.__name__\n",
        "  %html \u003cspan style=\"color:red\"\u003e{name}: {e}\u003c/span\u003e\n",
        "else:\n",
        "  raise AssertionError(\"Expected an exception to be thrown!\")"
      ]
    },
    {
      "cell_type": "markdown",
      "metadata": {
        "id": "uBFVp8qLzd8G"
      },
      "source": [
        "### Listing all tags in a configuration\n",
        "\n",
        "When configurations get very large, it can be very useful to list all available\n",
        "tags. Tags sometimes serve as a high-level \"API\" to large configurations."
      ]
    },
    {
      "cell_type": "code",
      "execution_count": null,
      "metadata": {
        "id": "acJOlv4nzm5D"
      },
      "outputs": [],
      "source": [
        "for tag in tagging.list_tags(experiment_config()):\n",
        "  print(tag.name, \"-\", tag.description)"
      ]
    },
    {
      "cell_type": "markdown",
      "metadata": {
        "id": "gJfahd5U0IgF"
      },
      "source": [
        "### Tag subclassing and sets of tags\n",
        "\n",
        "Since tags are types, we have a natural way of specifying a hierarchy of tags,\n",
        "through subclassing. We could use these to make finer-grained tags, separating\n",
        "the activation dtypes of intermediate layers and final layers."
      ]
    },
    {
      "cell_type": "code",
      "execution_count": null,
      "metadata": {
        "id": "oXG5GF3F0bet"
      },
      "outputs": [],
      "source": [
        "class IntermediateLayerActivationDtype(ActivationDType):\n",
        "  \"\"\"DType for intermediate layer neural network computations.\"\"\"\n",
        "\n",
        "\n",
        "class FinalLayerActivationDtype(ActivationDType):\n",
        "  \"\"\"DType for final layer neural network computations.\"\"\"\n",
        "\n",
        "\n",
        "def fine_tag_types_config() -\u003e fdl.Config[Sequential]:\n",
        "  add_range = fdl.Config(\n",
        "      AddRange, 0, 4, IntermediateLayerActivationDtype.new(default=jnp.float32))\n",
        "  add_const = fdl.Config(AddConstant, 1,\n",
        "                         FinalLayerActivationDtype.new(default=jnp.float32))\n",
        "  return fdl.Config(Sequential, submodules=[add_range, add_const])\n",
        "\n",
        "\n",
        "graphviz.render(fine_tag_types_config())"
      ]
    },
    {
      "cell_type": "markdown",
      "metadata": {
        "id": "sK0OdKJy0-VL"
      },
      "source": [
        "We can now just set the intermediate layers to have a lower precision,"
      ]
    },
    {
      "cell_type": "code",
      "execution_count": null,
      "metadata": {
        "id": "6VWRosZd1CwL"
      },
      "outputs": [],
      "source": [
        "cfg = fine_tag_types_config()\n",
        "selectors.select(\n",
        "    cfg, tag=IntermediateLayerActivationDtype).replace(value=jnp.bfloat16)\n",
        "graphviz.render(cfg)"
      ]
    },
    {
      "cell_type": "markdown",
      "metadata": {
        "id": "7F8yJetf1CVv"
      },
      "source": [
        "or we can achieve the same result by setting all dtypes to bfloat16, and then\n",
        "setting the final ones to float32,"
      ]
    },
    {
      "cell_type": "code",
      "execution_count": null,
      "metadata": {
        "id": "G3pd6-XA1UYH"
      },
      "outputs": [],
      "source": [
        "cfg = fine_tag_types_config()\n",
        "selectors.select(cfg, tag=ActivationDType).replace(value=jnp.bfloat16)\n",
        "selectors.select(cfg, tag=FinalLayerActivationDtype).replace(value=jnp.float32)\n",
        "graphviz.render(cfg)"
      ]
    },
    {
      "cell_type": "markdown",
      "metadata": {
        "id": "R4unpdWA2N2x"
      },
      "source": [
        "Finally, you can create tagged values that manually specify a set of tags. The\n",
        "`select()` API will select any `TaggedValues` that contain the tag specified."
      ]
    },
    {
      "cell_type": "code",
      "execution_count": null,
      "metadata": {
        "id": "NNYrV9SY2V7x"
      },
      "outputs": [],
      "source": [
        "class MyTagA(fdl.Tag):\n",
        "  \"\"\"An example tag.\"\"\"\n",
        "\n",
        "\n",
        "class MyTagB(fdl.Tag):\n",
        "  \"\"\"Another example tag.\"\"\"\n",
        "\n",
        "\n",
        "def foo(a, b, ab):\n",
        "  return {\"a\": a, \"b\": b, \"ab\": ab}\n",
        "\n",
        "\n",
        "cfg = fdl.Config(\n",
        "    foo,\n",
        "    a=MyTagA.new(\n",
        "        default=1),  # Equivalent to fdl.TaggedValue({MyTagA}, default=1).\n",
        "    b=MyTagB.new(default=2),\n",
        "    ab=fdl.TaggedValue({MyTagA, MyTagB}, default=3))\n",
        "selectors.select(cfg, tag=MyTagB).replace(value=4)\n",
        "print(fdl.build(cfg))\n",
        "selectors.select(cfg, tag=MyTagA).replace(value=7)\n",
        "print(fdl.build(cfg))"
      ]
    },
    {
      "cell_type": "markdown",
      "metadata": {
        "id": "P8KMwGzNGWPQ"
      },
      "source": [
        "### Advanced use notes\n",
        "\n",
        "There are a few things to note about the `TaggedValue` API.\n",
        "\n",
        "First is that `select(cfg, tag=\u003ctag\u003e)` checks tags by their class hierarchy; if\n",
        "you redefine a Tag class (e.g. by re-running the cell in colab), and have\n",
        "differing Tag classes in `cfg` and `\u003ctag\u003e` arguments, then you will not set the\n",
        "value of any tags.\n",
        "\n",
        "Secondly, by convention, the `TaggedValue` objects are not shared, only `Tag`s.\n",
        "This means that if you want to set the `dtype` on a sub-network of a model, e.g.\n",
        "just the encoder of an encoder-decoder model, you can do so. Here we demonstrate\n",
        "setting it on just `add_range_2`,"
      ]
    },
    {
      "cell_type": "code",
      "execution_count": null,
      "metadata": {
        "id": "75f8FshKHEVh"
      },
      "outputs": [],
      "source": [
        "cfg_one_set = base_config()\n",
        "selectors.select(\n",
        "    cfg_one_set.submodules[1], tag=ActivationDType).replace(value=jnp.bfloat16)\n",
        "for submodule_cfg in cfg_one_set.submodules:\n",
        "  print(submodule_cfg.dtype)"
      ]
    },
    {
      "cell_type": "markdown",
      "metadata": {
        "id": "Mlxl3EwHImD8"
      },
      "source": [
        "Finally, we've added a little logic to the Graphviz rendering and printing, so\n",
        "you can see tags in your configuration,"
      ]
    },
    {
      "cell_type": "code",
      "execution_count": null,
      "metadata": {
        "id": "nXgCWIUxIstW"
      },
      "outputs": [],
      "source": [
        "print(printing.as_str_flattened(base_config()))"
      ]
    },
    {
      "cell_type": "markdown",
      "metadata": {
        "id": "kvSpmbKeJPpC"
      },
      "source": [
        "### Suggested usage patterns\n",
        "\n",
        "Projects should generally have a file like `fiddle_tags.py`, which declares tags\n",
        "for relevant values. Think of them as declaring collections of attributes with a\n",
        "similar meaning. This enables their reuse throughout the project (and in\n",
        "dependent projects too). Documentation on the tags is *required*; please help\n",
        "others (including future-you!) by writing a good doc-string.\n",
        "\n",
        "```py\n",
        "class ActivationDType(fdl.Tag):\n",
        "  \"\"\"Outputs of a module/layer should have this dtype.\"\"\"\n",
        "\n",
        "class EmbeddingDimension(fdl.Tag):\n",
        "  \"\"\"The size of the embedding dimension.\"\"\"\n",
        "```"
      ]
    }
  ],
  "metadata": {
    "colab": {
      "collapsed_sections": [],
      "last_runtime": {
        
        "kind": "private"
      },
      "name": "select_and_tag_apis.ipynb",
      "private_outputs": true
    },
    "kernelspec": {
      "display_name": "Python 3",
      "name": "python3"
    },
    "language_info": {
      "name": "python"
    }
  },
  "nbformat": 4,
  "nbformat_minor": 0
}
